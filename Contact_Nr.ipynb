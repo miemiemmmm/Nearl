{
 "cells": [
  {
   "cell_type": "code",
   "execution_count": 20,
   "id": "140d4ada",
   "metadata": {
    "scrolled": false
   },
   "outputs": [
    {
     "name": "stdout",
     "output_type": "stream",
     "text": [
      "[ 973  974  975 ... 8882 8883 8884]\n"
     ]
    }
   ],
   "source": [
    "from rdkit import Chem\n",
    "from rdkit.Chem import rdDistGeom\n",
    "import tempfile\n",
    "import pytraj as pt\n",
    "\n",
    "def combineMOL2PDB(mol2file, pdbfile, outfile):\n",
    "  lig = Chem.MolFromMol2File(mol2file)\n",
    "  ligpdb = Chem.MolToPDBBlock(lig)\n",
    "  \n",
    "  atomlines = [i.replace(\"UNL\", \"LIG\") for i in ligpdb.split(\"\\n\") if \"HETATM\" in i]\n",
    "  with open(pdbfile, \"r\") as file1: \n",
    "    pdborig = file1.read(); \n",
    "  linesorig = [i for i in pdborig.split(\"\\n\") if \"HETATM\" in i or \"ATOM\" in i]\n",
    "  finallines = linesorig + atomlines; \n",
    "  finalstr = \"\\n\".join(finallines); \n",
    "\n",
    "  temp = tempfile.NamedTemporaryFile(suffix=\".pdb\")\n",
    "  temp.write(bytes(finalstr, \"utf-8\"))\n",
    "  \n",
    "  traj = pt.load(temp.name)\n",
    "  \n",
    "  temp.close()\n",
    "  traj.top.set_reference(traj[0])\n",
    "  sel = traj.top.select(\":LIG<:5\")\n",
    "  \n",
    "  print(sel)\n",
    "  pt.save(outfile, traj, overwrite=True)\n",
    "\n",
    "\n",
    "a=\"/home/miemie/Dropbox/PhD/project_MD_ML/PDBbind_v2020_refined/1ctu/1ctu_ligand.mol2\"\n",
    "b=\"/home/miemie/Dropbox/PhD/project_MD_ML/PDBbind_v2020_refined/1ctu/1ctu_protein.pdb\"\n",
    "c=\"/home/miemie/Dropbox/PhD/project_MD_ML/PDBbind_v2020_refined/1ctu/1ctu_complex.pdb\"\n",
    "combineMOL2PDB(a,b,c)\n"
   ]
  },
  {
   "cell_type": "code",
   "execution_count": 30,
   "id": "b014e377",
   "metadata": {},
   "outputs": [
    {
     "name": "stdout",
     "output_type": "stream",
     "text": [
      "1.0 contacts are identified\n",
      "1870.0 contacts are identified\n"
     ]
    }
   ],
   "source": [
    "from scipy.spatial import distance_matrix\n",
    "import numpy as np \n",
    "def ContactNumber(pdbfile, target):\n",
    "  VDWRADII = {'1': 1.1, '2': 1.4, '3': 1.82, '4': 1.53, '5': 1.92, '6': 1.7, '7': 1.55, '8': 1.52, \n",
    "    '9': 1.47, '10': 1.54, '11': 2.27, '12': 1.73, '13': 1.84, '14': 2.1, '15': 1.8, \n",
    "    '16': 1.8, '17': 1.75, '18': 1.88, '19': 2.75, '20': 2.31, '28': 1.63, '29': 1.4, \n",
    "    '30': 1.39, '31': 1.87, '32': 2.11, '34': 1.9, '35': 1.85, '46': 1.63, '47': 1.72, \n",
    "    '48': 1.58, '50': 2.17, '51': 2.06, '53': 1.98, '54': 2.16, '55': 3.43, '56': 2.68, \n",
    "    '78': 1.75, '79': 1.66, '82': 2.02, '83': 2.07\n",
    "  }\n",
    "  traj = pt.load(pdbfile)\n",
    "  traj.top.set_reference(traj[0])\n",
    "  target_atoms = traj.top.select(target); \n",
    "  \n",
    "  atoms = np.array([*traj.top.atoms])[target_atoms]; \n",
    "  coords = traj.xyz[0][target_atoms]; \n",
    "  \n",
    "  ccontact = 0;\n",
    "  for i, coord in enumerate(coords):\n",
    "    partners = [atoms[i].index]\n",
    "    for j in list(atoms[i].bonded_indices()):\n",
    "      if j in target_atoms:\n",
    "        partners.append(j)\n",
    "    partners.sort()\n",
    "    otheratoms = np.setdiff1d(target_atoms, partners)\n",
    "    ret = distance_matrix([coord], traj.xyz[0][otheratoms])\n",
    "    thisatom = atoms[i].atomic_number\n",
    "    vdw_pairs = np.array([VDWRADII[str(i.atomic_number)] for i in np.array([*traj.top.atoms])[otheratoms]]) + VDWRADII[str(thisatom)]\n",
    "    ccontact += np.count_nonzero(ret < vdw_pairs + 0.4)\n",
    "  ccontact = ccontact/2; \n",
    "  print(f\"{ccontact} contacts are identified\")\n",
    "    \n",
    "def ClashNumber(pdbfile, target):\n",
    "  VDWRADII = {'1': 1.1, '2': 1.4, '3': 1.82, '4': 1.53, '5': 1.92, '6': 1.7, '7': 1.55, '8': 1.52, \n",
    "    '9': 1.47, '10': 1.54, '11': 2.27, '12': 1.73, '13': 1.84, '14': 2.1, '15': 1.8, \n",
    "    '16': 1.8, '17': 1.75, '18': 1.88, '19': 2.75, '20': 2.31, '28': 1.63, '29': 1.4, \n",
    "    '30': 1.39, '31': 1.87, '32': 2.11, '34': 1.9, '35': 1.85, '46': 1.63, '47': 1.72, \n",
    "    '48': 1.58, '50': 2.17, '51': 2.06, '53': 1.98, '54': 2.16, '55': 3.43, '56': 2.68, \n",
    "    '78': 1.75, '79': 1.66, '82': 2.02, '83': 2.07\n",
    "  }\n",
    "  traj = pt.load(pdbfile)\n",
    "  traj.top.set_reference(traj[0])\n",
    "  target_atoms = traj.top.select(target); \n",
    "  \n",
    "  atoms = np.array([*traj.top.atoms])[target_atoms]; \n",
    "  coords = traj.xyz[0][target_atoms]; \n",
    "  \n",
    "  cclash = 0;\n",
    "  for i, coord in enumerate(coords):\n",
    "    partners = [atoms[i].index]\n",
    "    for j in list(atoms[i].bonded_indices()):\n",
    "      if j in target_atoms:\n",
    "        partners.append(j)\n",
    "    partners.sort()\n",
    "    otheratoms = np.setdiff1d(target_atoms, partners)\n",
    "    ret = distance_matrix([coord], traj.xyz[0][otheratoms])\n",
    "    thisatom = atoms[i].atomic_number\n",
    "    vdw_pairs = np.array([VDWRADII[str(i.atomic_number)] for i in np.array([*traj.top.atoms])[otheratoms]]) + VDWRADII[str(thisatom)]\n",
    "    \n",
    "    cclash += np.count_nonzero(ret < vdw_pairs - 1.25)\n",
    "  cclash = cclash/2; \n",
    "  print(f\"{cclash} contacts are identified\")\n",
    "\n",
    "  \n",
    "a=\"/home/miemie/Dropbox/PhD/project_MD_ML/PDBbind_v2020_refined/1ctu/1ctu_complex.pdb\"\n",
    "ClashNumber(a, \":LIG<:5\")\n",
    "ContactNumber(a, \":LIG<:5\")"
   ]
  },
  {
   "cell_type": "code",
   "execution_count": null,
   "id": "83d375f8",
   "metadata": {},
   "outputs": [],
   "source": []
  },
  {
   "cell_type": "code",
   "execution_count": null,
   "id": "1738a415",
   "metadata": {},
   "outputs": [],
   "source": []
  },
  {
   "cell_type": "code",
   "execution_count": null,
   "id": "f91899ed",
   "metadata": {},
   "outputs": [],
   "source": []
  },
  {
   "cell_type": "code",
   "execution_count": null,
   "id": "1103d20b",
   "metadata": {
    "scrolled": false
   },
   "outputs": [],
   "source": []
  },
  {
   "cell_type": "code",
   "execution_count": null,
   "id": "c716dee8",
   "metadata": {
    "scrolled": false
   },
   "outputs": [],
   "source": []
  }
 ],
 "metadata": {
  "kernelspec": {
   "display_name": "Python 3",
   "language": "python",
   "name": "python3"
  },
  "language_info": {
   "codemirror_mode": {
    "name": "ipython",
    "version": 3
   },
   "file_extension": ".py",
   "mimetype": "text/x-python",
   "name": "python",
   "nbconvert_exporter": "python",
   "pygments_lexer": "ipython3",
   "version": "3.7.10"
  }
 },
 "nbformat": 4,
 "nbformat_minor": 5
}
