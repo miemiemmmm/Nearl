{
 "cells": [
  {
   "cell_type": "code",
   "execution_count": 3,
   "id": "80c0d66f",
   "metadata": {
    "scrolled": true
   },
   "outputs": [
    {
     "data": {
      "text/plain": [
       "pytraj.Trajectory, 7 frames: \n",
       "Size: 0.000388 (GB)\n",
       "<Topology: 2479 atoms, 152 residues, 2 mols, PBC with box type = cubic>\n",
       "           "
      ]
     },
     "execution_count": 3,
     "metadata": {},
     "output_type": "execute_result"
    }
   ],
   "source": [
    "import pytraj as pt \n",
    "\n",
    "top = \"/home/yzhang/zhang/MyTrajs/BFL-1/batch3/C263CsDJQucZ_job_004_END.pdb\"; \n",
    "traj = \"/home/yzhang/zhang/MyTrajs/BFL-1/batch3/C263CsDJQucZ_job_004_traj.nc\";\n",
    "traj = pt.load(traj, top=top, mask=\":1-151,:LIG\", stride=150)\n",
    "traj"
   ]
  },
  {
   "cell_type": "code",
   "execution_count": 128,
   "id": "73401938",
   "metadata": {},
   "outputs": [
    {
     "name": "stdout",
     "output_type": "stream",
     "text": [
      "[[32.81624222 31.32039261 15.94249916]\n",
      " [30.60195541 29.59212685 15.12362766]\n",
      " [31.43644142 30.26342964 15.68272495]\n",
      " ...\n",
      " [31.04022217 33.51049042 13.67857742]\n",
      " [29.76158333 33.99271393 16.41277695]\n",
      " [31.26522636 33.02267456 15.95958805]]\n",
      "[[0.  0.  0. ]\n",
      " [0.  0.  0.3]\n",
      " [0.  0.  0.6]\n",
      " ...\n",
      " [6.  6.  5.4]\n",
      " [6.  6.  5.7]\n",
      " [6.  6.  6. ]]\n",
      "9261\n"
     ]
    }
   ],
   "source": [
    "import numpy as np \n",
    "\n",
    "def generate_3d_grid(grid_size, spacing):\n",
    "  x_vals = np.arange(0, grid_size[0]+1e-8, spacing); \n",
    "  y_vals = np.arange(0, grid_size[1]+1e-8, spacing); \n",
    "  z_vals = np.arange(0, grid_size[2]+1e-8, spacing); \n",
    "  points = []\n",
    "  for x in x_vals:\n",
    "    for y in y_vals:\n",
    "      for z in z_vals:\n",
    "        points.append([x, y, z])\n",
    "  return np.array(points)\n",
    "  \n",
    "def select_by_dist(coord, limit):\n",
    "  return [np.prod(i) for i in coord < limit]\n",
    "\n",
    "def genslices(traj, center, cube_length): \n",
    "  center = np.array(center)\n",
    "  upperbound = np.array(center) + cube_length/2; \n",
    "  lowerbound = np.array(center) - cube_length/2; \n",
    "  ret_arr = []\n",
    "  idx_arr = []\n",
    "  for xyz in traj.xyz: \n",
    "    ubstate = np.array([np.prod(i) for i in xyz < upperbound])\n",
    "    lbstate = np.array([np.prod(i) for i in xyz > lowerbound])\n",
    "    state = [bool(i) for i in ubstate*lbstate]\n",
    "    ret_arr.append(xyz[state])\n",
    "    idx_arr.append(state)\n",
    "  return ret_arr, idx_arr\n",
    "\n",
    "def group_residues(input_lst, threshold = 1):\n",
    "  count = 0\n",
    "  retlst = {}\n",
    "  for idx, val in enumerate(input_lst): \n",
    "    if idx < len(input_lst)-1 and (input_lst[idx+1] - val <= threshold): \n",
    "      retlst[val] = count; \n",
    "    else: \n",
    "      retlst[val] = count; \n",
    "      count += 1; \n",
    "  return retlst\n",
    "def most_abundant(lst): \n",
    "  uniq, counts = np.unique(lst, return_counts=True)\n",
    "  return uniq[np.argmax(counts)]\n",
    "\n",
    "def map_to_groups(traj, slices, idxs, points, threshold=1.5):\n",
    "  # Iterate every frame; \n",
    "  resid_arr = np.array([i.resid for i in traj.top.atoms]); \n",
    "  retarr = []\n",
    "  for coord, idx_arr in zip(slices,idxs): \n",
    "    # Obtain the atoms and group the atoms by residue; \n",
    "    residlst = resid_arr[idx_arr]; \n",
    "    residues, counts = np.unique(residlst, return_counts=True); \n",
    "    group_dict = group_residues(residues, threshold=3); \n",
    "    groupidlst = np.array([group_dict[i] for i in residlst]); \n",
    "\n",
    "    # Iterate points inside the aligned box; \n",
    "    group_arr = []\n",
    "    for p in points: \n",
    "      atomwithincutoff = [bool(np.prod(i)) for i in np.abs(p - coord) < threshold]\n",
    "      if np.sum(atomwithincutoff) > 0:\n",
    "        groupnr = most_abundant(groupidlst[atomwithincutoff])\n",
    "      else: \n",
    "        groupnr = -1\n",
    "      group_arr.append(groupnr)\n",
    "    groupconfig = np.unique(group_arr, return_counts=True)\n",
    "    retarr.append(group_arr); \n",
    "  return np.array(retarr)\n",
    "\n",
    "\n",
    "grid_length = 6; \n",
    "grid_size = [grid_length] * 3; \n",
    "grid_center = [30,32,14]; \n",
    "spacing = 0.3; \n",
    "points = generate_3d_grid(grid_size, spacing); \n",
    "aligned_points = (points - (grid_length/2)) + grid_center; \n",
    "slices, idxs = genslices(traj, grid_center, grid_length); \n",
    "\n",
    "grouped_arr = map_to_groups(traj, slices, idxs, aligned_points); \n",
    "\n",
    "print(theret[1])\n",
    "print(points)\n",
    "print(len(points))"
   ]
  },
  {
   "cell_type": "code",
   "execution_count": null,
   "id": "efdd3f02",
   "metadata": {
    "scrolled": true
   },
   "outputs": [],
   "source": []
  },
  {
   "cell_type": "code",
   "execution_count": 98,
   "id": "52a0b99d",
   "metadata": {},
   "outputs": [
    {
     "name": "stdout",
     "output_type": "stream",
     "text": [
      "{9: 0, 10: 0, 15: 1, 16: 1, 18: 1, 50: 2, 115: 3, 116: 3, 151: 4}\n"
     ]
    },
    {
     "data": {
      "text/plain": [
       "2"
      ]
     },
     "execution_count": 98,
     "metadata": {},
     "output_type": "execute_result"
    }
   ],
   "source": [
    "a = [9,10,15,16,18, 50, 115, 116, 151]\n",
    "\n",
    "# The order of residue id is ordered. \n",
    "\n",
    "# print(a)\n",
    "# def group_residues(input_lst, threshold = 1):\n",
    "#   count = 0\n",
    "#   retlst = []\n",
    "#   for idx, val in enumerate(input_lst): \n",
    "#     if idx < len(input_lst)-1 and (input_lst[idx+1] - val <= threshold): \n",
    "#       retlst.append(count)\n",
    "#     else: \n",
    "#       retlst.append(count)\n",
    "#       count += 1; \n",
    "#   return retlst\n",
    "retlst = group_residues(a,3); \n",
    "print(retlst)\n",
    "  \n",
    "\n",
    "  \n",
    "\n",
    "most_abundant([2, 2, 2, 2, 0, 1, 1, 1, 1, 2, 2, 2, 2, 2, 2, 2, 2, 2, 2, 2, 2, 2, 2, 11, 1, 1, 1, 1, 1, 1, 1, ])\n"
   ]
  },
  {
   "cell_type": "code",
   "execution_count": null,
   "id": "11182de9",
   "metadata": {},
   "outputs": [],
   "source": []
  },
  {
   "cell_type": "code",
   "execution_count": null,
   "id": "f38a070c",
   "metadata": {},
   "outputs": [],
   "source": []
  },
  {
   "cell_type": "code",
   "execution_count": null,
   "id": "7b02692e",
   "metadata": {},
   "outputs": [],
   "source": []
  },
  {
   "cell_type": "code",
   "execution_count": null,
   "id": "11a44b40",
   "metadata": {},
   "outputs": [],
   "source": []
  },
  {
   "cell_type": "code",
   "execution_count": null,
   "id": "2e9e6cc0",
   "metadata": {},
   "outputs": [],
   "source": []
  },
  {
   "cell_type": "code",
   "execution_count": 174,
   "id": "528d26e1",
   "metadata": {},
   "outputs": [
    {
     "data": {
      "text/plain": [
       "array([ 1.19093970e+02,  2.65340562e+01, -1.47808401e+02, ...,\n",
       "        6.41482398e-03,  5.89649610e-02,  1.25387104e-02])"
      ]
     },
     "execution_count": 174,
     "metadata": {},
     "output_type": "execute_result"
    }
   ],
   "source": [
    "import numpy as np\n",
    "from scipy.optimize import least_squares\n",
    "\n",
    "def calc_residuals(params, points):\n",
    "    center = params[:3]\n",
    "    radii = params[3:6]\n",
    "    rotation = params[6:].reshape(3, 3)\n",
    "    transformed_points = np.dot(points - center, rotation)\n",
    "    residuals = np.sum(transformed_points**2 / radii**2, axis=1) - 1\n",
    "    return residuals\n",
    "\n",
    "def fit_ellipsoid_lsq(points):\n",
    "    center_init = np.mean(points, axis=0)\n",
    "    cov_matrix = np.cov(points, rowvar=False)\n",
    "    eigenvalues, eigenvectors = np.linalg.eig(cov_matrix)\n",
    "    radii_init = np.sqrt(eigenvalues)\n",
    "    rotation_init = eigenvectors\n",
    "    params_init = np.concatenate((center_init, radii_init, rotation_init.ravel()))\n",
    "    params_opt = least_squares(calc_residuals, params_init, args=(points,), method='lm')\n",
    "    return params_opt.x\n",
    "fit_ellipsoid_lsq(slices[1])"
   ]
  },
  {
   "cell_type": "code",
   "execution_count": 173,
   "id": "782858c8",
   "metadata": {},
   "outputs": [
    {
     "name": "stdout",
     "output_type": "stream",
     "text": [
      "[29.40605184 31.57590244 15.0050744 ]\n"
     ]
    },
    {
     "data": {
      "text/plain": [
       "array([29.96669023, 31.48440961, 14.21818274,  2.71645009])"
      ]
     },
     "execution_count": 173,
     "metadata": {},
     "output_type": "execute_result"
    }
   ],
   "source": [
    "import numpy as np\n",
    "from scipy import optimize\n",
    "\n",
    "def calc_residuals(params, points):\n",
    "    center = params[:3]\n",
    "    radius = params[3]\n",
    "    residuals = np.linalg.norm(points - center, axis=1) - radius\n",
    "    return residuals\n",
    "\n",
    "def fit_sphere_lsq(points):\n",
    "    center_init = np.mean(points, axis=0)\n",
    "    radius_init = np.mean(np.linalg.norm(points - center_init, axis=1))\n",
    "    params_init = np.concatenate((center_init, [radius_init]))\n",
    "    params_opt, _ = optimize.leastsq(calc_residuals, params_init, args=(points,))\n",
    "    return params_opt\n",
    "print(np.mean(slices[1], axis=0))\n",
    "fit_sphere_lsq(slices[1])"
   ]
  },
  {
   "cell_type": "code",
   "execution_count": null,
   "id": "52a53c14",
   "metadata": {},
   "outputs": [],
   "source": []
  },
  {
   "cell_type": "code",
   "execution_count": null,
   "id": "d2f78f45",
   "metadata": {},
   "outputs": [],
   "source": []
  }
 ],
 "metadata": {
  "kernelspec": {
   "display_name": "Python 3 (ipykernel)",
   "language": "python",
   "name": "python3"
  },
  "language_info": {
   "codemirror_mode": {
    "name": "ipython",
    "version": 3
   },
   "file_extension": ".py",
   "mimetype": "text/x-python",
   "name": "python",
   "nbconvert_exporter": "python",
   "pygments_lexer": "ipython3",
   "version": "3.8.10"
  }
 },
 "nbformat": 4,
 "nbformat_minor": 5
}
