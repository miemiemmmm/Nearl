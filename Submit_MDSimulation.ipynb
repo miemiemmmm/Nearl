{
 "cells": [
  {
   "cell_type": "code",
   "execution_count": 3,
   "id": "acdec999",
   "metadata": {},
   "outputs": [],
   "source": [
    "import requests\n",
    "import json \n",
    "\n",
    "\n",
    "data = {\n",
    "    'cmd': 'runsmdsim',\n",
    "    'JOBID': 'C4002JDS',\n",
    "    'sim_ifexp': 'true',\n",
    "    'sim_ifequil': 'false',\n",
    "    'sim_ifimp': 'false',\n",
    "    'sim_nrcopy': '4',\n",
    "    'prod_outputformat': 'netcdf',\n",
    "    'prod_outputgroup': 'all',\n",
    "    'prod_nrsteps': '5000000',\n",
    "    'prod_outinterval': '5000',\n",
    "    'prod_prodeng': 'gmxmd',\n",
    "    'prod_ensemble': 'npt',\n",
    "    'prod_temp': '298',\n",
    "    'prod_pressure': '1.00',\n",
    "    'prod_timestep': '0.002',\n",
    "    'sim_ifrestart': 'false',\n",
    "    'sim_rstfrom': 'false',\n",
    "    'sim_haslig': 'true',\n",
    "    'sim_ifreconly': 'false',\n",
    "    'sim_slotsel': '0',\n",
    "    'sim_initbox': '-1',\n",
    "    'sim_neuiontype': 'kcl',\n",
    "    'sim_solmod': 'tip3p',\n",
    "    'sim_ionconc': '0.15',\n",
    "    'sim_forcefield': 'charmm36',\n",
    "    'sim_equilnr': '6',\n",
    "    'equil0_ensemble': 'em',\n",
    "    'equil0_eng': 'gmxem',\n",
    "    'equil0_temp': '0',\n",
    "    'equil0_timestep': '0',\n",
    "    'equil0_nrsteps': '5000',\n",
    "    'equil1_ensemble': 'nvt',\n",
    "    'equil1_eng': 'gmxmd',\n",
    "    'equil1_temp': '150',\n",
    "    'equil1_timestep': '0.002',\n",
    "    'equil1_nrsteps': '5000',\n",
    "    'equil1_tctime': '0.1',\n",
    "    'equil2_ensemble': 'nvt',\n",
    "    'equil2_eng': 'gmxmd',\n",
    "    'equil2_temp': '200',\n",
    "    'equil2_timestep': '0.002',\n",
    "    'equil2_nrsteps': '5000',\n",
    "    'equil2_tctime': '0.1',\n",
    "    'equil3_ensemble': 'nvt',\n",
    "    'equil3_eng': 'gmxmd',\n",
    "    'equil3_temp': '249',\n",
    "    'equil3_timestep': '0.002',\n",
    "    'equil3_nrsteps': '5000',\n",
    "    'equil3_tctime': '0.1',\n",
    "    'equil4_ensemble': 'nvt',\n",
    "    'equil4_eng': 'gmxmd',\n",
    "    'equil4_temp': '298',\n",
    "    'equil4_timestep': '0.002',\n",
    "    'equil4_nrsteps': '5000',\n",
    "    'equil4_tctime': '0.1',\n",
    "    'equil5_ensemble': 'npt',\n",
    "    'equil5_eng': 'gmxmd',\n",
    "    'equil5_temp': '298',\n",
    "    'equil5_timestep': '0.002',\n",
    "    'equil5_nrsteps': '20000',\n",
    "    'equil5_tctime': '0.1',\n",
    "}\n",
    "\n",
    "response = requests.post('http://130.60.168.149/fcgi-bin/ACyang.fcgi', data=data)\n",
    "print(response.text, response.status_code)"
   ]
  },
  {
   "cell_type": "code",
   "execution_count": null,
   "id": "431af548",
   "metadata": {},
   "outputs": [],
   "source": []
  },
  {
   "cell_type": "code",
   "execution_count": null,
   "id": "6c36e2a4",
   "metadata": {},
   "outputs": [],
   "source": []
  },
  {
   "cell_type": "code",
   "execution_count": null,
   "id": "d6c63669",
   "metadata": {},
   "outputs": [],
   "source": []
  },
  {
   "cell_type": "code",
   "execution_count": null,
   "id": "52b7d812",
   "metadata": {},
   "outputs": [],
   "source": []
  },
  {
   "cell_type": "code",
   "execution_count": null,
   "id": "a0466ff4",
   "metadata": {},
   "outputs": [],
   "source": []
  },
  {
   "cell_type": "code",
   "execution_count": null,
   "id": "6719acda",
   "metadata": {},
   "outputs": [],
   "source": []
  },
  {
   "cell_type": "code",
   "execution_count": null,
   "id": "29af47df",
   "metadata": {},
   "outputs": [],
   "source": []
  },
  {
   "cell_type": "code",
   "execution_count": null,
   "id": "641fdbbf",
   "metadata": {},
   "outputs": [],
   "source": []
  },
  {
   "cell_type": "code",
   "execution_count": null,
   "id": "2aa9543e",
   "metadata": {},
   "outputs": [],
   "source": []
  }
 ],
 "metadata": {
  "kernelspec": {
   "display_name": "Python 3 (ipykernel)",
   "language": "python",
   "name": "python3"
  },
  "language_info": {
   "codemirror_mode": {
    "name": "ipython",
    "version": 3
   },
   "file_extension": ".py",
   "mimetype": "text/x-python",
   "name": "python",
   "nbconvert_exporter": "python",
   "pygments_lexer": "ipython3",
   "version": "3.10.6"
  }
 },
 "nbformat": 4,
 "nbformat_minor": 5
}
