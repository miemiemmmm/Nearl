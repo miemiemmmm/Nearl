{
 "cells": [
  {
   "cell_type": "code",
   "execution_count": 45,
   "metadata": {},
   "outputs": [
    {
     "name": "stdout",
     "output_type": "stream",
     "text": [
      "[[    0   495   980  1455  1920  2375  2820  3255  3680  4095]\n",
      " [ 4500  4895  5280  5655  6020  6375  6720  7055  7380  7695]\n",
      " [ 8000  8295  8580  8855  9120  9375  9620  9855 10080 10295]\n",
      " [10500 10695 10880 11055 11220 11375 11520 11655 11780 11895]\n",
      " [12000 12095 12180 12255 12320 12375 12420 12455 12480 12495]\n",
      " [12500 12495 12480 12455 12420 12375 12320 12255 12180 12095]\n",
      " [12000 11895 11780 11655 11520 11375 11220 11055 10880 10695]\n",
      " [10500 10295 10080  9855  9620  9375  9120  8855  8580  8295]\n",
      " [ 8000  7695  7380  7055  6720  6375  6020  5655  5280  4895]\n",
      " [ 4500  4095  3680  3255  2820  2375  1920  1455   980   495]]\n",
      "[[ 21675.  21500.  21375.  21300.  21275.  21300.  21375.  21500.  21675.\n",
      "   21900.]\n",
      " [ 62175.  62000.  61875.  61800.  61775.  61800.  61875.  62000.  62175.\n",
      "   62400.]\n",
      " [ 92675.  92500.  92375.  92300.  92275.  92300.  92375.  92500.  92675.\n",
      "   92900.]\n",
      " [113175. 113000. 112875. 112800. 112775. 112800. 112875. 113000. 113175.\n",
      "  113400.]\n",
      " [123675. 123500. 123375. 123300. 123275. 123300. 123375. 123500. 123675.\n",
      "  123900.]\n",
      " [124175. 124000. 123875. 123800. 123775. 123800. 123875. 124000. 124175.\n",
      "  124400.]\n",
      " [114675. 114500. 114375. 114300. 114275. 114300. 114375. 114500. 114675.\n",
      "  114900.]\n",
      " [ 95175.  95000.  94875.  94800.  94775.  94800.  94875.  95000.  95175.\n",
      "   95400.]\n",
      " [ 65675.  65500.  65375.  65300.  65275.  65300.  65375.  65500.  65675.\n",
      "   65900.]\n",
      " [ 26175.  26000.  25875.  25800.  25775.  25800.  25875.  26000.  26175.\n",
      "   26400.]]\n"
     ]
    },
    {
     "name": "stderr",
     "output_type": "stream",
     "text": [
      "/home/yzhang/miniconda3/envs/testyml3/lib/python3.7/site-packages/ipykernel_launcher.py:20: ComplexWarning: Casting complex values to real discards the imaginary part\n"
     ]
    },
    {
     "data": {
      "image/png": "[encoded data removed]",
      "text/plain": [
       "<Figure size 432x288 with 1 Axes>"
      ]
     },
     "metadata": {
      "needs_background": "light"
     },
     "output_type": "display_data"
    }
   ],
   "source": [
    "import numpy as np \n",
    "import matplotlib.pyplot as plt\n",
    "\n",
    "np.fft.fft([1,2,3,4,5])\n",
    "\n",
    "b=[i for i in range(100)]\n",
    "\n",
    "arr1 = np.arange(500,4,-5).reshape((10,10))\n",
    "\n",
    "arr2 = np.arange(100).reshape((10,10))\n",
    "a = np.fft.fft(arr1)\n",
    "b = np.fft.fft(arr2)\n",
    "# print(arr1)\n",
    "# print(arr2)\n",
    "b = a*b\n",
    "M = arr1*arr2\n",
    "print(M)\n",
    "print(c)\n",
    "\n",
    "c = np.fft.ifft(b).astype(float)\n",
    "\n",
    "\n",
    "plt.clf()\n",
    "plt.imshow(c)\n",
    "plt.show()"
   ]
  },
  {
   "cell_type": "code",
   "execution_count": null,
   "metadata": {},
   "outputs": [],
   "source": []
  },
  {
   "cell_type": "code",
   "execution_count": 89,
   "metadata": {},
   "outputs": [
    {
     "name": "stdout",
     "output_type": "stream",
     "text": [
      "1.0397207708399179, 1.3862943611198906\n"
     ]
    },
    {
     "data": {
      "text/plain": [
       "0.0"
      ]
     },
     "execution_count": 89,
     "metadata": {},
     "output_type": "execute_result"
    }
   ],
   "source": [
    "from scipy.stats import entropy\n",
    "import pandas as pd \n",
    "\n",
    "\n",
    "\n",
    "\n",
    "arr1 = [0.6,0.6,0.8,8]\n",
    "arr2 = [0.3,0.5,100,0.8]\n",
    "entropy1 = get_entropy(arr1)\n",
    "entropy2 = get_entropy(arr2)\n",
    "print(f\"{entropy1}, {entropy2}\")\n",
    "# print(\"->\", count1.to_string())\n",
    "# print(\"->\", count2.to_string())\n",
    "\n",
    "get_entropy([100])"
   ]
  }
 ],
 "metadata": {
  "kernelspec": {
   "display_name": "Python 3 (ipykernel)",
   "language": "python",
   "name": "python3"
  },
  "language_info": {
   "codemirror_mode": {
    "name": "ipython",
    "version": 3
   },
   "file_extension": ".py",
   "mimetype": "text/x-python",
   "name": "python",
   "nbconvert_exporter": "python",
   "pygments_lexer": "ipython3",
   "version": "3.8.16"
  }
 },
 "nbformat": 4,
 "nbformat_minor": 4
}
