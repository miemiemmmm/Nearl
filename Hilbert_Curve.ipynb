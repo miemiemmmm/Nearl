{
 "cells": [
  {
   "cell_type": "code",
   "execution_count": 2,
   "id": "5e6bb076",
   "metadata": {},
   "outputs": [
    {
     "data": {
      "application/vnd.jupyter.widget-view+json": {
       "model_id": "b62819fe14a749d998f3e49a88e213e2",
       "version_major": 2,
       "version_minor": 0
      },
      "text/plain": []
     },
     "metadata": {},
     "output_type": "display_data"
    }
   ],
   "source": [
    "import hilbertcurve\n",
    "import nglview\n",
    "import numpy as np\n",
    "import py3Dmol\n",
    "from hilbertcurve.hilbertcurve import HilbertCurve\n",
    "\n",
    "import pytraj as pt \n",
    "import matplotlib.pyplot as plt\n",
    "from matplotlib import cm\n"
   ]
  },
  {
   "cell_type": "code",
   "execution_count": 3,
   "id": "46855656",
   "metadata": {},
   "outputs": [],
   "source": [
    "class DummyPDB:\n",
    "    temp = \"ATOM      1  Du  TMP     1       0.000   0.000   0.000  1.00  0.00\";   # public \n",
    "    tmpout = \"tmp.pdb\"\n",
    "    def __init__(self, vecX, vecY, vecZ, elems=\"\"):\n",
    "        self.x=vecX\n",
    "        self.y=vecY\n",
    "        self.z=vecZ\n",
    "        self.elems = elems\n",
    "        self.PDBlines()\n",
    "        if len(self.x) != len(self.y) or len(self.x) != len(self.z):\n",
    "            print(\"Length of dimention is not equil\")\n",
    "            \n",
    "    def PDBlines(self):\n",
    "        theline=\"\"\n",
    "        for i in range(len(self.x)):\n",
    "            tmpcopy=self.temp;\n",
    "            indlen = len(str(i));\n",
    "            atmInd = \"{:>5}\".format(i+1)\n",
    "            X = \"{:>8}\".format(self.x[i])\n",
    "            Y = \"{:>8}\".format(self.y[i])\n",
    "            Z = \"{:>8}\".format(self.z[i])\n",
    "            try:\n",
    "                Elem = self.elems[i];\n",
    "            except:\n",
    "                Elem = \"Du\";\n",
    "            Elem = \"{:>4}\".format(Elem);\n",
    "            tmpcopy = tmpcopy[:12]+Elem+tmpcopy[16:]\n",
    "            tmpcopy = tmpcopy[:6]+atmInd+tmpcopy[11:]\n",
    "            tmpcopy = tmpcopy[:30]+X+tmpcopy[38:]\n",
    "            tmpcopy = tmpcopy[:38]+Y+tmpcopy[46:]\n",
    "            tmpcopy = tmpcopy[:46]+Z+tmpcopy[54:]\n",
    "            theline += tmpcopy+\"\\n\"\n",
    "        self.lines = theline;\n",
    "        with open(self.tmpout,'w') as outfile1:\n",
    "            outfile1.write(self.lines)\n",
    "        return theline\n",
    "    def show(self):\n",
    "        viewer = nglview.show_file(self.tmpout)\n",
    "        return viewer\n"
   ]
  },
  {
   "cell_type": "code",
   "execution_count": 4,
   "id": "af431dd4",
   "metadata": {},
   "outputs": [],
   "source": [
    "with open(\"rec.pdb\",\"r\") as file1:\n",
    "    pdbfile = [i.strip('\\n') for i in  file1.readlines()] #.split('\\n')\n",
    "with open(\"trajLigand.mol2\",\"r\") as file2:\n",
    "    molfile = [i.strip('\\n') for i in file2.readlines()]\n",
    "    \n",
    "ite=4; \n",
    "dim=3;\n",
    "cutoff=14;\n",
    "distances = list(range(2**(ite*dim)))\n",
    "\n",
    "HC1 = HilbertCurve(ite, dim)\n",
    "points1 = HC1.points_from_distances(distances)\n",
    "\n",
    "HC2 = HilbertCurve(6,2)\n",
    "points2 = HC2.points_from_distances(distances)\n"
   ]
  },
  {
   "cell_type": "code",
   "execution_count": 5,
   "id": "c247adf6",
   "metadata": {},
   "outputs": [
    {
     "name": "stdout",
     "output_type": "stream",
     "text": [
      "[ 0.5461     -0.95677931  6.48768621]\n",
      "[ 0.3896     -0.31993333  6.30606667]\n"
     ]
    }
   ],
   "source": [
    "traj = pt.load(\"rec.pdb\")\n",
    "traj.top.set_reference(traj[0])\n",
    "\n",
    "proXYZ = traj.xyz[0][traj.top.select(\":1-183\")]\n",
    "ovcenter = np.mean(traj.xyz[0][traj.top.select(\":LIG <: 5 & !:5\")], axis=0)\n",
    "ligcenter = np.mean(traj.xyz[0][traj.top.select(\":LIG\")], axis = 0)\n",
    "\n",
    "\n",
    "print(ovcenter)\n",
    "print(ligcenter)\n",
    "\n"
   ]
  },
  {
   "cell_type": "code",
   "execution_count": 36,
   "id": "a81c74f5",
   "metadata": {},
   "outputs": [],
   "source": [
    "tmp=traj.top.atoms\n",
    "select1 = traj.top.select(\":LIG <@ 8 & !:LIG, T3P & !@CL,K \")\n",
    "center = np.mean(traj.xyz[0][select1])\n",
    "tmpelems = np.array([i.name for i in tmp])[select1]\n",
    "tmpxyz = traj.xyz[0][select1]\n",
    "tmpx = tmpxyz[:,0]\n",
    "tmpy = tmpxyz[:,1]\n",
    "tmpz = tmpxyz[:,2]\n",
    "\n",
    "points1 = np.array(points1)\n",
    "points2 = np.array(points2)\n",
    "\n",
    "x2 = points2[:,0]\n",
    "y2 = points2[:,1] \n",
    "\n",
    "pointT = (points1 / 16 * 8 ) + (ovcenter-3)\n",
    "\n",
    "\n",
    "\n",
    "HCx = np.round(pointT[:,0], 4)\n",
    "HCy = pointT[:,1].round(4)\n",
    "HCz = np.round(pointT[:,2], 4)\n",
    "\n",
    "dummy=DummyPDB(HCx,HCy,HCz)"
   ]
  },
  {
   "cell_type": "code",
   "execution_count": 78,
   "id": "73e24145",
   "metadata": {},
   "outputs": [],
   "source": []
  },
  {
   "cell_type": "code",
   "execution_count": 45,
   "id": "e6d176a6",
   "metadata": {},
   "outputs": [
    {
     "data": {
      "application/vnd.jupyter.widget-view+json": {
       "model_id": "bb249a33144a41d7bb9d0072239666aa",
       "version_major": 2,
       "version_minor": 0
      },
      "text/plain": [
       "NGLWidget()"
      ]
     },
     "metadata": {},
     "output_type": "display_data"
    }
   ],
   "source": [
    "view = nglview.show_file(\"tmp.pdb\")\n",
    "view.add_component(\"trajLigand.mol2\")\n",
    "# view.add_component(\"rec.pdb\")\n",
    "view.clear_representations()\n",
    "view.add_representation(\"point\", color=\"red\")\n",
    "view\n",
    "\n"
   ]
  },
  {
   "cell_type": "code",
   "execution_count": null,
   "id": "b83f6a3d",
   "metadata": {},
   "outputs": [],
   "source": [
    "class PDBparser:\n",
    "    def __init__():\n",
    "        self.Coor = \n",
    "\n",
    "a=\"abcdef\"\n",
    "\n",
    "res = \"{:>5}\".format(a)\n",
    "print(res)"
   ]
  },
  {
   "cell_type": "code",
   "execution_count": null,
   "id": "5645abc0",
   "metadata": {},
   "outputs": [],
   "source": []
  },
  {
   "cell_type": "code",
   "execution_count": 28,
   "id": "e5e6981f",
   "metadata": {},
   "outputs": [
    {
     "name": "stdout",
     "output_type": "stream",
     "text": [
      "[ 1.678 32.848  1.678  1.678  1.678]\n",
      "[ 1.6779 32.8478  1.6778  1.6778  1.6779]\n"
     ]
    }
   ],
   "source": [
    "a=np.array([1.67787878, 32.84783, 1.6778, 1.67782564,1.67787894])\n",
    "print(a.round(3))\n",
    "print(np.round_(a,4))\n"
   ]
  },
  {
   "cell_type": "code",
   "execution_count": null,
   "id": "15c036ad",
   "metadata": {},
   "outputs": [],
   "source": []
  }
 ],
 "metadata": {
  "kernelspec": {
   "display_name": "Python 3 (ipykernel)",
   "language": "python",
   "name": "python3"
  },
  "language_info": {
   "codemirror_mode": {
    "name": "ipython",
    "version": 3
   },
   "file_extension": ".py",
   "mimetype": "text/x-python",
   "name": "python",
   "nbconvert_exporter": "python",
   "pygments_lexer": "ipython3",
   "version": "3.8.10"
  }
 },
 "nbformat": 4,
 "nbformat_minor": 5
}
