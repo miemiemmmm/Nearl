{
 "cells": [
  {
   "cell_type": "code",
   "execution_count": 1,
   "id": "5e6bb076",
   "metadata": {},
   "outputs": [
    {
     "data": {
      "application/vnd.jupyter.widget-view+json": {
       "model_id": "c6168524279f4a3ea11f6023a59bbecd",
       "version_major": 2,
       "version_minor": 0
      },
      "text/plain": []
     },
     "metadata": {},
     "output_type": "display_data"
    }
   ],
   "source": [
    "import hilbertcurve\n",
    "import nglview\n",
    "import numpy as np\n",
    "import py3Dmol\n",
    "from hilbertcurve.hilbertcurve import HilbertCurve\n",
    "\n",
    "import pytraj as pt \n",
    "import matplotlib.pyplot as plt\n",
    "from matplotlib import cm\n"
   ]
  },
  {
   "cell_type": "code",
   "execution_count": 2,
   "id": "46855656",
   "metadata": {},
   "outputs": [],
   "source": [
    "class DummyPDB:\n",
    "    temp = \"ATOM      1  Du  TMP     1       0.000   0.000   0.000  1.00  0.00\";   # public \n",
    "    def __init__(self, vecX, vecY, vecZ, elems=\"\", outname=\"tmp.pdb\"):\n",
    "        self.x=vecX\n",
    "        self.y=vecY\n",
    "        self.z=vecZ\n",
    "        self.elems = elems\n",
    "\n",
    "        self.outname = outname\n",
    "#         print(self.outname)\n",
    "        self.PDBlines()\n",
    "        \n",
    "        if len(self.x) != len(self.y) or len(self.x) != len(self.z):\n",
    "            print(\"Length of dimention is not equil\")\n",
    "            \n",
    "    def PDBlines(self):\n",
    "        theline=\"\"\n",
    "        for i in range(len(self.x)):\n",
    "            tmpcopy=self.temp;\n",
    "            indlen = len(str(i));\n",
    "            atmInd = \"{:>5}\".format(i+1)\n",
    "            X = \"{:>8}\".format(self.x[i])\n",
    "            Y = \"{:>8}\".format(self.y[i])\n",
    "            Z = \"{:>8}\".format(self.z[i])\n",
    "            try:\n",
    "                Elem = self.elems[i];\n",
    "            except:\n",
    "                Elem = \"Du\";\n",
    "            Elem = \"{:>4}\".format(Elem);\n",
    "            tmpcopy = tmpcopy[:12]+Elem+tmpcopy[16:]\n",
    "            tmpcopy = tmpcopy[:6]+atmInd+tmpcopy[11:]\n",
    "            tmpcopy = tmpcopy[:30]+X+tmpcopy[38:]\n",
    "            tmpcopy = tmpcopy[:38]+Y+tmpcopy[46:]\n",
    "            tmpcopy = tmpcopy[:46]+Z+tmpcopy[54:]\n",
    "            theline += tmpcopy+\"\\n\"\n",
    "        self.lines = theline;\n",
    "        with open(self.outname,'w') as outfile1:\n",
    "            outfile1.write(self.lines)\n",
    "        return theline\n",
    "    def show(self):\n",
    "        viewer = nglview.show_file(self.outname)\n",
    "        return viewer\n"
   ]
  },
  {
   "cell_type": "code",
   "execution_count": 3,
   "id": "af431dd4",
   "metadata": {},
   "outputs": [],
   "source": [
    "with open(\"rec.pdb\",\"r\") as file1:\n",
    "    pdbfile = [i.strip('\\n') for i in  file1.readlines()] #.split('\\n')\n",
    "with open(\"trajLigand.mol2\",\"r\") as file2:\n",
    "    molfile = [i.strip('\\n') for i in file2.readlines()]\n",
    "    \n",
    "ite=4; \n",
    "dim=3;\n",
    "cutoff=14;\n",
    "distances = list(range(2**(ite*dim)))\n",
    "\n",
    "HC1 = HilbertCurve(ite, dim)\n",
    "points1 = HC1.points_from_distances(distances)\n",
    "\n",
    "HC2 = HilbertCurve(6,2)\n",
    "points2 = HC2.points_from_distances(distances)\n"
   ]
  },
  {
   "cell_type": "code",
   "execution_count": 9,
   "id": "c247adf6",
   "metadata": {},
   "outputs": [
    {
     "name": "stdout",
     "output_type": "stream",
     "text": [
      "[ 0.55463636 -0.99151636  6.49759273]\n",
      "[ 0.3896     -0.31993333  6.30606667]\n",
      "[ 0.60004533 -1.02904721  6.38182702]\n"
     ]
    }
   ],
   "source": [
    "traj = pt.load(\"rec.pdb\")\n",
    "traj.top.set_reference(traj[0])\n",
    "\n",
    "proXYZ = traj.xyz[0][traj.top.select(\":1-183\")]\n",
    "ovcenter = np.mean(traj.xyz[0][traj.top.select(\":LIG <: 5 & !:LIG\")], axis=0)\n",
    "ligcenter = np.mean(traj.xyz[0][traj.top.select(\":LIG\")], axis = 0)\n",
    "\n",
    "atomSel = traj.top.select(\":LIG <: 5 & !:LIG\")\n",
    "COMLIG = pt.center_of_mass(traj=traj, mask=atomSel)[0]\n",
    "print(ovcenter)\n",
    "print(ligcenter)\n",
    "print(COMLIG)\n"
   ]
  },
  {
   "cell_type": "code",
   "execution_count": 5,
   "id": "a81c74f5",
   "metadata": {},
   "outputs": [
    {
     "name": "stdout",
     "output_type": "stream",
     "text": [
      "points 4096\n",
      "tmpxyz 744\n",
      "3717 379 0\n"
     ]
    }
   ],
   "source": [
    "tmp=traj.top.atoms\n",
    "select1 = traj.top.select(\":LIG <@ 12 & !:LIG, T3P & !@CL,K \")\n",
    "tmpelems = np.array([i.name for i in traj.top.atoms])[select1]\n",
    "tmpxyz = traj.xyz[0][select1]\n",
    "tmpx = tmpxyz[:,0]\n",
    "tmpy = tmpxyz[:,1]\n",
    "tmpz = tmpxyz[:,2]\n",
    "\n",
    "points1 = np.array(points1)\n",
    "points2 = np.array(points2)\n",
    "\n",
    "x2 = points2[:,0]\n",
    "y2 = points2[:,1] \n",
    "\n",
    "pointT = (points1) + (COMLIG-8)\n",
    "\n",
    "\n",
    "c1=0; c2=0; c3=0\n",
    "print(\"points\", len(pointT))\n",
    "print(\"tmpxyz\", len(tmpxyz))\n",
    "\n",
    "dum2elems = []\n",
    "for i in range(len(pointT)):\n",
    "    diff = pointT[i] - tmpxyz;\n",
    "    sums = np.sum(np.square(diff), axis = 1); \n",
    "    distmin = np.round(np.sqrt(np.min(sums)),4)\n",
    "    if (distmin < 2.5): #0.866):\n",
    "        c1 += 1\n",
    "        dum2elems.append(tmpelems[sums == np.min(sums)][0])\n",
    "    elif (distmin > 1.732):\n",
    "        c2 += 1\n",
    "        dum2elems.append(\"Du\")\n",
    "    else :\n",
    "        c3 += 1\n",
    "        dum2elems.append(\"Du\")\n",
    "print(c1, c2, c3)\n",
    "\n",
    "\n",
    "\n",
    "HCx = np.round(pointT[:,0], 4)\n",
    "HCy = np.round(pointT[:,1], 4)\n",
    "HCz = np.round(pointT[:,2], 4)\n",
    "\n",
    "\n",
    "dummy = DummyPDB(HCx,HCy,HCz, elems=dum2elems, outname=\"tmp1.pdb\")\n",
    "dummy2 = DummyPDB(tmpx, tmpy, tmpz, elems=tmpelems, outname=\"tmp2.pdb\")\n"
   ]
  },
  {
   "cell_type": "code",
   "execution_count": 57,
   "id": "73e24145",
   "metadata": {},
   "outputs": [
    {
     "name": "stdout",
     "output_type": "stream",
     "text": [
      "<class 'numpy.ndarray'>\n",
      "[-15.39995467 -15.39995467 -15.39995467 ...  -0.39995467  -0.39995467\n",
      "  -0.39995467]\n",
      "[[-15.39995467 -17.02904721  -9.61817298]\n",
      " [-15.39995467 -17.02904721  -8.61817298]\n",
      " [-15.39995467 -16.02904721  -8.61817298]\n",
      " ...\n",
      " [ -0.39995467 -16.02904721  -8.61817298]\n",
      " [ -0.39995467 -17.02904721  -8.61817298]\n",
      " [ -0.39995467 -17.02904721  -9.61817298]]\n",
      "[[[   0    1    2 ...   13   14   15]\n",
      "  [  16   17   18 ...   29   30   31]\n",
      "  [  32   33   34 ...   45   46   47]\n",
      "  ...\n",
      "  [ 208  209  210 ...  221  222  223]\n",
      "  [ 224  225  226 ...  237  238  239]\n",
      "  [ 240  241  242 ...  253  254  255]]\n",
      "\n",
      " [[ 256  257  258 ...  269  270  271]\n",
      "  [ 272  273  274 ...  285  286  287]\n",
      "  [ 288  289  290 ...  301  302  303]\n",
      "  ...\n",
      "  [ 464  465  466 ...  477  478  479]\n",
      "  [ 480  481  482 ...  493  494  495]\n",
      "  [ 496  497  498 ...  509  510  511]]\n",
      "\n",
      " [[ 512  513  514 ...  525  526  527]\n",
      "  [ 528  529  530 ...  541  542  543]\n",
      "  [ 544  545  546 ...  557  558  559]\n",
      "  ...\n",
      "  [ 720  721  722 ...  733  734  735]\n",
      "  [ 736  737  738 ...  749  750  751]\n",
      "  [ 752  753  754 ...  765  766  767]]\n",
      "\n",
      " ...\n",
      "\n",
      " [[3328 3329 3330 ... 3341 3342 3343]\n",
      "  [3344 3345 3346 ... 3357 3358 3359]\n",
      "  [3360 3361 3362 ... 3373 3374 3375]\n",
      "  ...\n",
      "  [3536 3537 3538 ... 3549 3550 3551]\n",
      "  [3552 3553 3554 ... 3565 3566 3567]\n",
      "  [3568 3569 3570 ... 3581 3582 3583]]\n",
      "\n",
      " [[3584 3585 3586 ... 3597 3598 3599]\n",
      "  [3600 3601 3602 ... 3613 3614 3615]\n",
      "  [3616 3617 3618 ... 3629 3630 3631]\n",
      "  ...\n",
      "  [3792 3793 3794 ... 3805 3806 3807]\n",
      "  [3808 3809 3810 ... 3821 3822 3823]\n",
      "  [3824 3825 3826 ... 3837 3838 3839]]\n",
      "\n",
      " [[3840 3841 3842 ... 3853 3854 3855]\n",
      "  [3856 3857 3858 ... 3869 3870 3871]\n",
      "  [3872 3873 3874 ... 3885 3886 3887]\n",
      "  ...\n",
      "  [4048 4049 4050 ... 4061 4062 4063]\n",
      "  [4064 4065 4066 ... 4077 4078 4079]\n",
      "  [4080 4081 4082 ... 4093 4094 4095]]]\n",
      "[[[  15  271  527 ... 3343 3599 3855]\n",
      "  [  31  287  543 ... 3359 3615 3871]\n",
      "  [  47  303  559 ... 3375 3631 3887]\n",
      "  ...\n",
      "  [ 223  479  735 ... 3551 3807 4063]\n",
      "  [ 239  495  751 ... 3567 3823 4079]\n",
      "  [ 255  511  767 ... 3583 3839 4095]]\n",
      "\n",
      " [[  14  270  526 ... 3342 3598 3854]\n",
      "  [  30  286  542 ... 3358 3614 3870]\n",
      "  [  46  302  558 ... 3374 3630 3886]\n",
      "  ...\n",
      "  [ 222  478  734 ... 3550 3806 4062]\n",
      "  [ 238  494  750 ... 3566 3822 4078]\n",
      "  [ 254  510  766 ... 3582 3838 4094]]\n",
      "\n",
      " [[  13  269  525 ... 3341 3597 3853]\n",
      "  [  29  285  541 ... 3357 3613 3869]\n",
      "  [  45  301  557 ... 3373 3629 3885]\n",
      "  ...\n",
      "  [ 221  477  733 ... 3549 3805 4061]\n",
      "  [ 237  493  749 ... 3565 3821 4077]\n",
      "  [ 253  509  765 ... 3581 3837 4093]]\n",
      "\n",
      " ...\n",
      "\n",
      " [[   2  258  514 ... 3330 3586 3842]\n",
      "  [  18  274  530 ... 3346 3602 3858]\n",
      "  [  34  290  546 ... 3362 3618 3874]\n",
      "  ...\n",
      "  [ 210  466  722 ... 3538 3794 4050]\n",
      "  [ 226  482  738 ... 3554 3810 4066]\n",
      "  [ 242  498  754 ... 3570 3826 4082]]\n",
      "\n",
      " [[   1  257  513 ... 3329 3585 3841]\n",
      "  [  17  273  529 ... 3345 3601 3857]\n",
      "  [  33  289  545 ... 3361 3617 3873]\n",
      "  ...\n",
      "  [ 209  465  721 ... 3537 3793 4049]\n",
      "  [ 225  481  737 ... 3553 3809 4065]\n",
      "  [ 241  497  753 ... 3569 3825 4081]]\n",
      "\n",
      " [[   0  256  512 ... 3328 3584 3840]\n",
      "  [  16  272  528 ... 3344 3600 3856]\n",
      "  [  32  288  544 ... 3360 3616 3872]\n",
      "  ...\n",
      "  [ 208  464  720 ... 3536 3792 4048]\n",
      "  [ 224  480  736 ... 3552 3808 4064]\n",
      "  [ 240  496  752 ... 3568 3824 4080]]]\n"
     ]
    }
   ],
   "source": [
    "from numpy import rot90\n",
    "class HilberItem:\n",
    "    dim=3\n",
    "\n",
    "    def __init__(self, ite=4, recenter=np.array([0,0,0])):\n",
    "        self.distances = np.arange(2 ** (ite * self.dim));\n",
    "        self.length = 2 ** ite\n",
    "        self.HCObj = HilbertCurve(ite, dim)\n",
    "        self.points = np.array(self.HCObj.points_from_distances(distances))\n",
    "        print(type(self.points))\n",
    "        self.x = self.points[:,0]\n",
    "        self.y = self.points[:,1]\n",
    "        self.z = self.points[:,2]\n",
    "        self.matrix = self.distances.reshape((self.length,self.length,self.length))\n",
    "\n",
    "        \n",
    "    def reduce(self):\n",
    "        pass\n",
    "    def shift(self, center):\n",
    "        self.points = (self.points + np.array(center) - self.length)\n",
    "        self.x = self.points[:,0]\n",
    "        self.y = self.points[:,1]\n",
    "        self.z = self.points[:,2]\n",
    "    def T(self, direction):\n",
    "        pass\n",
    "    \n",
    "hilbert1 = HilberItem(4)\n",
    "hilbert1.shift(COMLIG)\n",
    "hilbert2 = np.rot90(hilbert1.matrix, 1, (0,2))\n",
    "# Axes (0,2) horizontally rotate. \n",
    "# From first axes to the second axes. \n",
    "\n",
    "print(hilbert1.x)\n",
    "print(hilbert1.points)\n",
    "print(hilbert1.matrix)\n",
    "print(hilbert2)"
   ]
  },
  {
   "cell_type": "code",
   "execution_count": 6,
   "id": "eff35243",
   "metadata": {},
   "outputs": [
    {
     "name": "stdout",
     "output_type": "stream",
     "text": [
      "points 4096\n",
      "tmpxyz 744\n"
     ]
    }
   ],
   "source": [
    "def assignElem(Hpoints, trajObj, refcutoff):\n",
    "    c1=0; c2=0; c3=0\n",
    "    maskStr = \":LIG <@ \"+str(refcutoff)+\" & !:LIG, T3P & !@CL,K \"\n",
    "    tmpselect = trajObj.top.select(maskStr)\n",
    "    tmpelems = np.array([i.name for i in trajObj.top.atoms])[tmpselect]\n",
    "    tmpxyz = trajObj.xyz[0][tmpselect]\n",
    "    \n",
    "    print(\"points\", len(pointT))\n",
    "    print(\"tmpxyz\", len(tmpxyz))\n",
    "    dum2elems = []\n",
    "    for i in range(len(pointT)):\n",
    "        \n",
    "        diff = pointT[i] - tmpxyz;\n",
    "        sums = np.sum(np.square(diff), axis = 1); \n",
    "        distmin = np.round(np.sqrt(np.min(sums)),4)\n",
    "        if (distmin < 2.5): #0.866):\n",
    "            c1 += 1\n",
    "            dum2elems.append(tmpelems[sums == np.min(sums)][0])\n",
    "        elif (distmin > 1.732):\n",
    "            c2 += 1\n",
    "            dum2elems.append(\"Du\")\n",
    "        else :\n",
    "            c3 += 1\n",
    "            dum2elems.append(\"Du\")\n",
    "    return dum2elems\n",
    "    print(c1, c2, c3)\n",
    "    \n",
    "a=assignElem(pointT, traj, 12)\n",
    "# print(a)"
   ]
  },
  {
   "cell_type": "code",
   "execution_count": null,
   "id": "d58d3267",
   "metadata": {},
   "outputs": [],
   "source": []
  },
  {
   "cell_type": "code",
   "execution_count": 184,
   "id": "e6d176a6",
   "metadata": {},
   "outputs": [
    {
     "data": {
      "application/vnd.jupyter.widget-view+json": {
       "model_id": "615a0491cfcc4872864dd95c3207dba4",
       "version_major": 2,
       "version_minor": 0
      },
      "text/plain": [
       "NGLWidget()"
      ]
     },
     "metadata": {},
     "output_type": "display_data"
    }
   ],
   "source": [
    "view = nglview.show_file(\"tmp1.pdb\")\n",
    "view.add_component(\"trajLigand.mol2\")\n",
    "\n",
    "# view.add_component(\"tmp2.pdb\")\n",
    "\n",
    "view.add_component(\"rec.pdb\")\n",
    "view\n",
    "\n"
   ]
  },
  {
   "cell_type": "code",
   "execution_count": null,
   "id": "b83f6a3d",
   "metadata": {},
   "outputs": [],
   "source": []
  },
  {
   "cell_type": "code",
   "execution_count": 7,
   "id": "5645abc0",
   "metadata": {},
   "outputs": [
    {
     "data": {
      "text/plain": [
       "array([0, 1, 2, 3, 4, 5, 6, 7, 8, 9])"
      ]
     },
     "execution_count": 7,
     "metadata": {},
     "output_type": "execute_result"
    }
   ],
   "source": [
    "np.arange(10)"
   ]
  },
  {
   "cell_type": "code",
   "execution_count": 40,
   "id": "e5e6981f",
   "metadata": {},
   "outputs": [
    {
     "data": {
      "text/plain": [
       "4096"
      ]
     },
     "execution_count": 40,
     "metadata": {},
     "output_type": "execute_result"
    }
   ],
   "source": [
    "\n",
    "16*16*16"
   ]
  },
  {
   "cell_type": "code",
   "execution_count": null,
   "id": "15c036ad",
   "metadata": {},
   "outputs": [],
   "source": []
  }
 ],
 "metadata": {
  "kernelspec": {
   "display_name": "Python 3 (ipykernel)",
   "language": "python",
   "name": "python3"
  },
  "language_info": {
   "codemirror_mode": {
    "name": "ipython",
    "version": 3
   },
   "file_extension": ".py",
   "mimetype": "text/x-python",
   "name": "python",
   "nbconvert_exporter": "python",
   "pygments_lexer": "ipython3",
   "version": "3.8.10"
  }
 },
 "nbformat": 4,
 "nbformat_minor": 5
}
