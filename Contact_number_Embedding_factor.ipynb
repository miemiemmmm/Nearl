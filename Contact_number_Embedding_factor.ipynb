{
 "cells": [
  {
   "cell_type": "code",
   "execution_count": 2,
   "id": "140d4ada",
   "metadata": {
    "scrolled": false
   },
   "outputs": [
    {
     "data": {
      "text/plain": [
       "'/home/miemie/Dropbox/PhD/project_MD_ML/PDBbind_v2020_refined/1ctu/1ctu_complex.pdb'"
      ]
     },
     "execution_count": 2,
     "metadata": {},
     "output_type": "execute_result"
    }
   ],
   "source": [
    "import tempfile\n",
    "import pytraj as pt\n",
    "\n",
    "def combineMOL2PDB(mol2file, pdbfile, outfile):\n",
    "  from rdkit import Chem;\n",
    "  lig = Chem.MolFromMol2File(mol2file)\n",
    "  ligpdb = Chem.MolToPDBBlock(lig)\n",
    "\n",
    "  atomlines = [i.replace(\"UNL\", \"LIG\") for i in ligpdb.split(\"\\n\") if \"HETATM\" in i]\n",
    "  with open(pdbfile, \"r\") as file1:\n",
    "    pdborig = file1.read();\n",
    "  linesorig = [i for i in pdborig.split(\"\\n\") if \"HETATM\" in i or \"ATOM\" in i]\n",
    "  finallines = linesorig + atomlines;\n",
    "  finalstr = \"\\n\".join(finallines);\n",
    "\n",
    "  temp = tempfile.NamedTemporaryFile(suffix=\".pdb\")\n",
    "  temp.write(bytes(finalstr, \"utf-8\"))\n",
    "\n",
    "  traj = pt.load(temp.name)\n",
    "\n",
    "  temp.close()\n",
    "  pt.save(outfile, traj, overwrite=True)\n",
    "  return outfile\n",
    "\n",
    "\n",
    "a=\"/home/miemie/Dropbox/PhD/project_MD_ML/PDBbind_v2020_refined/1ctu/1ctu_ligand.mol2\"\n",
    "b=\"/home/miemie/Dropbox/PhD/project_MD_ML/PDBbind_v2020_refined/1ctu/1ctu_protein.pdb\"\n",
    "c=\"/home/miemie/Dropbox/PhD/project_MD_ML/PDBbind_v2020_refined/1ctu/1ctu_complex.pdb\"\n",
    "combineMOL2PDB(a,b,c)\n"
   ]
  },
  {
   "cell_type": "code",
   "execution_count": 30,
   "id": "b014e377",
   "metadata": {},
   "outputs": [
    {
     "name": "stdout",
     "output_type": "stream",
     "text": [
      "1.0 contacts are identified\n",
      "1870.0 contacts are identified\n"
     ]
    }
   ],
   "source": [
    "from scipy.spatial import distance_matrix\n",
    "import numpy as np \n",
    "\n",
    "def ContactNumber(pdbfile, target):\n",
    "  VDWRADII = {'1': 1.1, '2': 1.4, '3': 1.82, '4': 1.53, '5': 1.92, '6': 1.7, '7': 1.55, '8': 1.52, \n",
    "    '9': 1.47, '10': 1.54, '11': 2.27, '12': 1.73, '13': 1.84, '14': 2.1, '15': 1.8, \n",
    "    '16': 1.8, '17': 1.75, '18': 1.88, '19': 2.75, '20': 2.31, '28': 1.63, '29': 1.4, \n",
    "    '30': 1.39, '31': 1.87, '32': 2.11, '34': 1.9, '35': 1.85, '46': 1.63, '47': 1.72, \n",
    "    '48': 1.58, '50': 2.17, '51': 2.06, '53': 1.98, '54': 2.16, '55': 3.43, '56': 2.68, \n",
    "    '78': 1.75, '79': 1.66, '82': 2.02, '83': 2.07\n",
    "  }\n",
    "  traj = pt.load(pdbfile)\n",
    "  traj.top.set_reference(traj[0])\n",
    "  target_atoms = traj.top.select(target); \n",
    "  \n",
    "  atoms = np.array([*traj.top.atoms])[target_atoms]; \n",
    "  coords = traj.xyz[0][target_atoms]; \n",
    "  \n",
    "  ccontact = 0;\n",
    "  for i, coord in enumerate(coords):\n",
    "    partners = [atoms[i].index]\n",
    "    for j in list(atoms[i].bonded_indices()):\n",
    "      if j in target_atoms:\n",
    "        partners.append(j)\n",
    "    partners.sort()\n",
    "    otheratoms = np.setdiff1d(target_atoms, partners)\n",
    "    ret = distance_matrix([coord], traj.xyz[0][otheratoms])\n",
    "    thisatom = atoms[i].atomic_number\n",
    "    vdw_pairs = np.array([VDWRADII[str(i.atomic_number)] for i in np.array([*traj.top.atoms])[otheratoms]]) + VDWRADII[str(thisatom)]\n",
    "    ccontact += np.count_nonzero(ret < vdw_pairs + 0.4)\n",
    "  ccontact = ccontact/2; \n",
    "  print(f\"{ccontact} contacts are identified\")\n",
    "    \n",
    "def ClashNumber(pdbfile, target):\n",
    "  VDWRADII = {'1': 1.1, '2': 1.4, '3': 1.82, '4': 1.53, '5': 1.92, '6': 1.7, '7': 1.55, '8': 1.52, \n",
    "    '9': 1.47, '10': 1.54, '11': 2.27, '12': 1.73, '13': 1.84, '14': 2.1, '15': 1.8, \n",
    "    '16': 1.8, '17': 1.75, '18': 1.88, '19': 2.75, '20': 2.31, '28': 1.63, '29': 1.4, \n",
    "    '30': 1.39, '31': 1.87, '32': 2.11, '34': 1.9, '35': 1.85, '46': 1.63, '47': 1.72, \n",
    "    '48': 1.58, '50': 2.17, '51': 2.06, '53': 1.98, '54': 2.16, '55': 3.43, '56': 2.68, \n",
    "    '78': 1.75, '79': 1.66, '82': 2.02, '83': 2.07\n",
    "  }\n",
    "  traj = pt.load(pdbfile)\n",
    "  traj.top.set_reference(traj[0])\n",
    "  target_atoms = traj.top.select(target); \n",
    "  \n",
    "  atoms = np.array([*traj.top.atoms])[target_atoms]; \n",
    "  coords = traj.xyz[0][target_atoms]; \n",
    "  \n",
    "  cclash = 0;\n",
    "  for i, coord in enumerate(coords):\n",
    "    partners = [atoms[i].index]\n",
    "    for j in list(atoms[i].bonded_indices()):\n",
    "      if j in target_atoms:\n",
    "        partners.append(j)\n",
    "    partners.sort()\n",
    "    otheratoms = np.setdiff1d(target_atoms, partners)\n",
    "    ret = distance_matrix([coord], traj.xyz[0][otheratoms])\n",
    "    thisatom = atoms[i].atomic_number\n",
    "    vdw_pairs = np.array([VDWRADII[str(i.atomic_number)] for i in np.array([*traj.top.atoms])[otheratoms]]) + VDWRADII[str(thisatom)]\n",
    "    \n",
    "    cclash += np.count_nonzero(ret < vdw_pairs - 1.25)\n",
    "  cclash = cclash/2; \n",
    "  print(f\"{cclash} contacts are identified\")\n",
    "\n",
    "  \n",
    "a=\"/home/miemie/Dropbox/PhD/project_MD_ML/PDBbind_v2020_refined/1ctu/1ctu_complex.pdb\"\n",
    "ClashNumber(a, \":LIG<:5\")\n",
    "ContactNumber(a, \":LIG<:5\")"
   ]
  },
  {
   "cell_type": "code",
   "execution_count": 4,
   "id": "f91899ed",
   "metadata": {},
   "outputs": [
    {
     "name": "stdout",
     "output_type": "stream",
     "text": [
      "17\n",
      "[ 0  1  2 ... 14 15 16]\n",
      "[310.02231376]\n"
     ]
    }
   ],
   "source": [
    "import pytraj as pt \n",
    "c=\"/home/miemie/Dropbox/PhD/project_MD_ML/PDBbind_v2020_refined/1ctu/1ctu_complex.pdb\"\n",
    "traj = pt.load(c, top=c, mask=\":LIG\")\n",
    "sel = traj.top.select(\":LIG\")\n",
    "surf = pt.surf(traj, \":LIG\")\n",
    "print(surf)"
   ]
  },
  {
   "cell_type": "code",
   "execution_count": 1,
   "id": "1103d20b",
   "metadata": {
    "scrolled": false
   },
   "outputs": [
    {
     "name": "stdout",
     "output_type": "stream",
     "text": [
      "Surface contribution: 42.7691; Surface pure: 621.734\n"
     ]
    },
    {
     "data": {
      "text/plain": [
       "0.9312099708235355"
      ]
     },
     "execution_count": 1,
     "metadata": {},
     "output_type": "execute_result"
    }
   ],
   "source": [
    "import subprocess\n",
    "from BetaPose import utils\n",
    "import tempfile\n",
    "import os\n",
    "\n",
    "\n",
    "pdbfile=\"/home/miemie/Dropbox/PhD/project_MD_ML/PDBbind_v2020_refined/1ctu/1ctu_complex.pdb\"\n",
    "lig_mask = \":LIG\"\n",
    "\n",
    "basepath = \"/home/miemie/Dropbox/PhD/project_MD_ML/PDBbind_v2020_refined/\"\n",
    "pdbcode = \"4ll3\"\n",
    "\n",
    "def EmbeddingFactor(basepath, pdbcode, mask=\":LIG\"):\n",
    "  \"\"\"\n",
    "  Embedding factor is measured by the accessible surface area (ASA) contribution of ligand in a complex\n",
    "  to the pure ligand ASA\n",
    "  \"\"\"\n",
    "  pdbcode = pdbcode.lower()\n",
    "  basepath = os.path.abspath(basepath)\n",
    "  ligfile = os.path.join(basepath, f\"{pdbcode}/{pdbcode}_ligand.mol2\"); \n",
    "  pdbfile = os.path.join(basepath, f\"{pdbcode}/{pdbcode}_protein.pdb\");\n",
    "  outfile = os.path.join(basepath, f\"{pdbcode}/{pdbcode}_complex.pdb\");\n",
    "  \n",
    "  if (os.path.isfile(ligfile)) and (os.path.isfile(pdbfile)):\n",
    "    outfile = combineMOL2PDB(ligfile, pdbfile, outfile)\n",
    "    slig_0 = utils.ASALig(outfile, mask)\n",
    "    slig_1 = utils.ASALigOnly(outfile, mask)\n",
    "  elif not os.path.isfile(ligfile):\n",
    "    print(f\"Cannot find the ligand file in the database {pdbcode} ({ligfile})\")\n",
    "  elif not os.path.isfile(ligfile):\n",
    "    print(f\"Cannot find the protein file in the database {pdbcode} ({pdbfile})\")\n",
    "  print(f\"Surface contribution: {slig_0}; Surface pure: {slig_1}\")\n",
    "  return 1-slig_0/slig_1\n",
    "\n",
    "\n",
    "utils.EmbeddingFactor(basepath, pdbcode, mask=lig_mask)"
   ]
  },
  {
   "cell_type": "code",
   "execution_count": 15,
   "id": "c716dee8",
   "metadata": {
    "scrolled": false
   },
   "outputs": [],
   "source": [
    "def :\n",
    "  \"\"\"\n",
    "  Method 2: Get the mask of protein via a PDB file name \n",
    "  \"\"\""
   ]
  }
 ],
 "metadata": {
  "kernelspec": {
   "display_name": "Python 3 (ipykernel)",
   "language": "python",
   "name": "python3"
  },
  "language_info": {
   "codemirror_mode": {
    "name": "ipython",
    "version": 3
   },
   "file_extension": ".py",
   "mimetype": "text/x-python",
   "name": "python",
   "nbconvert_exporter": "python",
   "pygments_lexer": "ipython3",
   "version": "3.8.4"
  }
 },
 "nbformat": 4,
 "nbformat_minor": 5
}
