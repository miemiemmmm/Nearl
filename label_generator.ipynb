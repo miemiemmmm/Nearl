{
 "cells": [
  {
   "cell_type": "markdown",
   "id": "a1265012",
   "metadata": {},
   "source": [
    "# Initial conflicting factor:  To determine the pocket quality. \n",
    "    - pair-wise distance within the pocket \n",
    "# Dynamics factor: \n",
    "    - Performance in ligand pair-wise distance to pocket \n"
   ]
  },
  {
   "cell_type": "code",
   "execution_count": 2,
   "id": "0f67c2f4",
   "metadata": {},
   "outputs": [
    {
     "ename": "TypeError",
     "evalue": "__init__() missing 1 required positional argument: 'dic'",
     "output_type": "error",
     "traceback": [
      "\u001b[0;31m---------------------------------------------------------------------------\u001b[0m",
      "\u001b[0;31mTypeError\u001b[0m                                 Traceback (most recent call last)",
      "\u001b[0;32m/tmp/ipykernel_129655/4265291984.py\u001b[0m in \u001b[0;36m<module>\u001b[0;34m\u001b[0m\n\u001b[1;32m      7\u001b[0m \u001b[0;34m\u001b[0m\u001b[0m\n\u001b[1;32m      8\u001b[0m \u001b[0;34m\u001b[0m\u001b[0m\n\u001b[0;32m----> 9\u001b[0;31m \u001b[0ma\u001b[0m \u001b[0;34m=\u001b[0m \u001b[0mlabel_gen\u001b[0m\u001b[0;34m(\u001b[0m\u001b[0;34m)\u001b[0m\u001b[0;34m\u001b[0m\u001b[0;34m\u001b[0m\u001b[0m\n\u001b[0m",
      "\u001b[0;31mTypeError\u001b[0m: __init__() missing 1 required positional argument: 'dic'"
     ]
    }
   ],
   "source": [
    "import pytraj as pt \n",
    "import numpy as np \n",
    "\n",
    "class label_gen: \n",
    "  def __init__(self, dic):\n",
    "    print(\"initialize\")\n",
    "    \n",
    "\n",
    "    \n",
    "\n",
    "a = label_gen()"
   ]
  },
  {
   "cell_type": "code",
   "execution_count": null,
   "id": "28e837e4",
   "metadata": {},
   "outputs": [],
   "source": []
  },
  {
   "cell_type": "code",
   "execution_count": 262,
   "id": "8e846b46",
   "metadata": {},
   "outputs": [
    {
     "name": "stdout",
     "output_type": "stream",
     "text": [
      "Clashing factor: 1.0; Atom selected: 440; Contact number: 3810; Clash number: 0\n"
     ]
    },
    {
     "data": {
      "text/plain": [
       "1.0"
      ]
     },
     "execution_count": 262,
     "metadata": {},
     "output_type": "execute_result"
    }
   ],
   "source": [
    "import pytraj as pt \n",
    "from scipy.spatial import distance_matrix\n",
    "import matplotlib.pyplot as plt \n",
    "\n",
    "a = \"/home/miemie/storage/WDRed/downloads/N_008_LIG_END.pdb\"\n",
    "def conflictfactor(pdbfile, ligname, cutoff=5): \n",
    "  VDWRADII = {'1': 1.1, '2': 1.4, '3': 1.82, '4': 1.53, '5': 1.92, '6': 1.7, '7': 1.55, '8': 1.52, \n",
    "    '9': 1.47, '10': 1.54, '11': 2.27, '12': 1.73, '13': 1.84, '14': 2.1, '15': 1.8, \n",
    "    '16': 1.8, '17': 1.75, '18': 1.88, '19': 2.75, '20': 2.31, '28': 1.63, '29': 1.4, \n",
    "    '30': 1.39, '31': 1.87, '32': 2.11, '34': 1.9, '35': 1.85, '46': 1.63, '47': 1.72, \n",
    "    '48': 1.58, '50': 2.17, '51': 2.06, '53': 1.98, '54': 2.16, '55': 3.43, '56': 2.68, \n",
    "    '78': 1.75, '79': 1.66, '82': 2.02, '83': 2.07\n",
    "  }\n",
    "  traj = pt.load(pdbfile, top=pdbfile); \n",
    "  traj.top.set_reference(traj[0]); \n",
    "  pocket_atoms = traj.top.select(f\":{ligname}<:{cutoff}\"); \n",
    "  atoms = np.array([*traj.top.atoms])[pocket_atoms]; \n",
    "  coords = traj.xyz[0][pocket_atoms]; \n",
    "  atomnr = len(pocket_atoms); \n",
    "  cclash=0; \n",
    "  ccontact = 0;\n",
    "  for i, coord in enumerate(coords):\n",
    "    partners = [atoms[i].index]\n",
    "    for j in list(atoms[i].bonded_indices()):\n",
    "      if j in pocket_atoms:\n",
    "        partners.append(j)\n",
    "    partners.sort()\n",
    "    otheratoms = np.setdiff1d(pocket_atoms, partners)\n",
    "    ret = distance_matrix([coord], traj.xyz[0][otheratoms])\n",
    "    thisatom = atoms[i].atomic_number\n",
    "    vdw_pairs = np.array([VDWRADII[str(i.atomic_number)] for i in np.array([*traj.top.atoms])[otheratoms]]) + VDWRADII[str(thisatom)]\n",
    "    cclash += np.count_nonzero(ret < vdw_pairs - 1.25)\n",
    "    ccontact += np.count_nonzero(ret < vdw_pairs + 0.4)\n",
    "    \n",
    "    st = (ret < vdw_pairs - 1.25)[0]; \n",
    "    if np.count_nonzero(st) > 0:\n",
    "      partatoms = np.array([*traj.top.atoms])[otheratoms][st]; \n",
    "      thisatom = np.array([*traj.top.atoms])[atoms[i].index]; \n",
    "      for part in partatoms:\n",
    "        dist = distance_matrix([traj.xyz[0][part.index]], [traj.xyz[0][thisatom.index]]); \n",
    "        print(f\"Found clash between: {thisatom.name}({thisatom.index}) and {part.name}({part.index}); Distance: {dist.squeeze().round(3)}\")\n",
    "    \n",
    "  factor = 1 - ((cclash/2)/((ccontact/2)/atomnr))\n",
    "  print(f\"Clashing factor: {round(factor,3)}; Atom selected: {atomnr}; Contact number: {ccontact}; Clash number: {cclash}\"); \n",
    "  return factor\n",
    "conflictfactor(a,\"LIG\", cutoff=6)"
   ]
  },
  {
   "cell_type": "code",
   "execution_count": null,
   "id": "79aadb7c",
   "metadata": {},
   "outputs": [],
   "source": []
  },
  {
   "cell_type": "code",
   "execution_count": null,
   "id": "7696abac",
   "metadata": {},
   "outputs": [],
   "source": []
  },
  {
   "cell_type": "code",
   "execution_count": 259,
   "id": "d0ae9a75",
   "metadata": {},
   "outputs": [
    {
     "data": {
      "text/plain": [
       "0.4234003363498038"
      ]
     },
     "execution_count": 259,
     "metadata": {},
     "output_type": "execute_result"
    }
   ],
   "source": [
    "1-3/((24974/2)/2400)"
   ]
  },
  {
   "cell_type": "code",
   "execution_count": null,
   "id": "6fc797df",
   "metadata": {},
   "outputs": [],
   "source": []
  },
  {
   "cell_type": "code",
   "execution_count": null,
   "id": "32d8530b",
   "metadata": {},
   "outputs": [],
   "source": []
  },
  {
   "cell_type": "code",
   "execution_count": null,
   "id": "92b52208",
   "metadata": {},
   "outputs": [],
   "source": []
  },
  {
   "cell_type": "code",
   "execution_count": null,
   "id": "37230943",
   "metadata": {},
   "outputs": [],
   "source": []
  },
  {
   "cell_type": "code",
   "execution_count": null,
   "id": "8bb26b35",
   "metadata": {},
   "outputs": [],
   "source": []
  }
 ],
 "metadata": {
  "kernelspec": {
   "display_name": "Python 3",
   "language": "python",
   "name": "python3"
  },
  "language_info": {
   "codemirror_mode": {
    "name": "ipython",
    "version": 3
   },
   "file_extension": ".py",
   "mimetype": "text/x-python",
   "name": "python",
   "nbconvert_exporter": "python",
   "pygments_lexer": "ipython3",
   "version": "3.7.10"
  }
 },
 "nbformat": 4,
 "nbformat_minor": 5
}
