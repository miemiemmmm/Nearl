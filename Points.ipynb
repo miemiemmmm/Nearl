{
 "cells": [
  {
   "cell_type": "code",
   "execution_count": 55,
   "id": "5bcd7e87",
   "metadata": {},
   "outputs": [
    {
     "data": {
      "text/plain": [
       "pytraj.Trajectory, 67 frames: \n",
       "Size: 0.003697 (GB)\n",
       "<Topology: 2469 atoms, 152 residues, 3 mols, PBC with box type = cubic>\n",
       "           "
      ]
     },
     "execution_count": 55,
     "metadata": {},
     "output_type": "execute_result"
    }
   ],
   "source": [
    "import pytraj as pt \n",
    "\n",
    "top = \"/home/yzhang/zhang/MyTrajs/BFL-1/batch3/C414CsDJQucZ_job_001_END.pdb\"; \n",
    "traj = \"/home/yzhang/zhang/MyTrajs/BFL-1/batch3/C414CsDJQucZ_job_001_traj.nc\";\n",
    "traj = pt.load(traj, top=top, mask=\":1-151,:LIG\", stride=15)\n",
    "traj"
   ]
  },
  {
   "cell_type": "code",
   "execution_count": 64,
   "id": "bdb73dff",
   "metadata": {},
   "outputs": [
    {
     "name": "stdout",
     "output_type": "stream",
     "text": [
      "[[32.81624222 31.32039261 15.94249916]\n",
      " [30.60195541 29.59212685 15.12362766]\n",
      " [31.43644142 30.26342964 15.68272495]\n",
      " ...\n",
      " [31.04022217 33.51049042 13.67857742]\n",
      " [29.76158333 33.99271393 16.41277695]\n",
      " [31.26522636 33.02267456 15.95958805]]\n"
     ]
    }
   ],
   "source": [
    "import numpy as np \n",
    "\n",
    "def genslice(traj, center, cube_length): \n",
    "  center = np.array(center)\n",
    "  upperbound = np.array(center) + cube_length/2; \n",
    "  lowerbound = np.array(center) - cube_length/2; \n",
    "  ret_arr = []\n",
    "  idx_arr = []\n",
    "  for xyz in traj.xyz: \n",
    "    ubstate = np.array([np.prod(i) for i in xyz < upperbound])\n",
    "    lbstate = np.array([np.prod(i) for i in xyz > lowerbound])\n",
    "    state = [bool(i) for i in ubstate*lbstate]\n",
    "    ret_arr.append(xyz[state])\n",
    "    idx_arr.append(state)\n",
    "  return ret_arr, idx_arr\n",
    "\n",
    "theret, idxs = genslice(traj, [30,32,14], 6)\n",
    "print(theret[1])"
   ]
  },
  {
   "cell_type": "code",
   "execution_count": 60,
   "id": "9da823de",
   "metadata": {},
   "outputs": [
    {
     "name": "stdout",
     "output_type": "stream",
     "text": [
      "[30.68020296 32.8807106  14.97895408]\n"
     ]
    }
   ],
   "source": [
    "print(np.mean(traj.xyz[0][traj.top.select(\":LIG\")], axis=0))"
   ]
  },
  {
   "cell_type": "code",
   "execution_count": 14,
   "id": "d1fcbf0d",
   "metadata": {},
   "outputs": [
    {
     "name": "stdout",
     "output_type": "stream",
     "text": [
      "[[46.37051773 34.39131927 29.53075981]\n",
      " [45.66053772 35.65132523 29.4507122 ]\n",
      " [45.3305397  36.17137909 30.79069328]\n",
      " ...\n",
      " [31.42054939 31.98102188 14.00077534]\n",
      " [29.52057266 33.81111145 15.68070126]\n",
      " [30.80055046 32.71110916 16.19074631]]\n",
      "shape 1 (21396, 3)\n",
      "shape 2 (21396, 3)\n",
      "[[False  True False]\n",
      " [False  True False]\n",
      " [False  True False]\n",
      " ...\n",
      " [ True  True  True]\n",
      " [ True  True  True]\n",
      " [ True  True  True]]\n"
     ]
    }
   ],
   "source": [
    "print(traj.xyz[0])\n",
    "x = traj.xyz[0] < [40,40,20]\n",
    "\n",
    "print(\"shape 1\", traj.xyz[0].shape)\n",
    "print(\"shape 2\", x.shape)\n",
    "print(x)"
   ]
  },
  {
   "cell_type": "code",
   "execution_count": 17,
   "id": "7816969e",
   "metadata": {},
   "outputs": [
    {
     "data": {
      "text/plain": [
       "0"
      ]
     },
     "execution_count": 17,
     "metadata": {},
     "output_type": "execute_result"
    }
   ],
   "source": [
    "np.prod([False,True,False])"
   ]
  },
  {
   "cell_type": "code",
   "execution_count": null,
   "id": "a2e5f7c9",
   "metadata": {},
   "outputs": [],
   "source": []
  },
  {
   "cell_type": "code",
   "execution_count": null,
   "id": "ac5a795d",
   "metadata": {},
   "outputs": [],
   "source": []
  },
  {
   "cell_type": "code",
   "execution_count": null,
   "id": "c3bd55bc",
   "metadata": {},
   "outputs": [],
   "source": []
  }
 ],
 "metadata": {
  "kernelspec": {
   "display_name": "Python 3 (ipykernel)",
   "language": "python",
   "name": "python3"
  },
  "language_info": {
   "codemirror_mode": {
    "name": "ipython",
    "version": 3
   },
   "file_extension": ".py",
   "mimetype": "text/x-python",
   "name": "python",
   "nbconvert_exporter": "python",
   "pygments_lexer": "ipython3",
   "version": "3.8.10"
  }
 },
 "nbformat": 4,
 "nbformat_minor": 5
}
