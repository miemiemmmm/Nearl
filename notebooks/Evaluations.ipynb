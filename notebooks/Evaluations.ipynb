{
 "cells": [
  {
   "cell_type": "markdown",
   "id": "d454d9f2",
   "metadata": {},
   "source": [
    "# Pocket ROG"
   ]
  },
  {
   "cell_type": "code",
   "execution_count": null,
   "id": "f0453304",
   "metadata": {},
   "outputs": [],
   "source": [
    "import pytraj as pt\n",
    "from BetaPose import utils\n",
    "\n",
    "\n",
    "a = \"/home/yzhang/Downloads/C004HHdUhUfa/C004HHdUhUfa_PDB.pdb\"\n",
    "b = \"/home/yzhang/Downloads/C004HHdUhUfa/C004HHdUhUfa_TRJ.nc\"\n",
    "\n",
    "traj=pt.load(b, top=a)\n",
    "traj.top.set_reference(traj[0])\n",
    "traj.superpose(\"@CA\")\n",
    "rogarr = pt.radgyr(traj, \":9733<:5&@O=\")\n",
    "print(rogarr.shape)\n",
    "pdist, info = utils.PairwiseDistance(traj, \":LIG&!@H=\", \":LIG<@6&!:LIG&@C,CA,CB,N,O\",use_mean=True); "
   ]
  },
  {
   "cell_type": "code",
   "execution_count": null,
   "id": "54e7a912",
   "metadata": {},
   "outputs": [],
   "source": [
    "import matplotlib.pyplot as plt\n",
    "import numpy as np \n",
    "plt.plot(rogarr)\n",
    "x = np.linspace(0, len(rogarr), 50)\n",
    "print(f\"MEAN: {rogarr.mean()}, STD: {rogarr.std()}\")\n",
    "plt.plot(x, [rogarr.mean()]*50)\n",
    "plt.plot(x, [rogarr.mean()+rogarr.std()]*50, alpha=0.5)\n",
    "plt.plot(x, [rogarr.mean()-rogarr.std()]*50, alpha=0.5)\n"
   ]
  },
  {
   "cell_type": "code",
   "execution_count": null,
   "id": "2b59333a",
   "metadata": {},
   "outputs": [],
   "source": [
    "import seaborn as sns; sns.set()\n",
    "print(pdist)\n",
    "sns.heatmap(pdist, cmap=\"inferno\")"
   ]
  },
  {
   "cell_type": "code",
   "execution_count": null,
   "id": "30583c7d",
   "metadata": {},
   "outputs": [],
   "source": [
    "from sklearn.decomposition import PCA\n",
    "from sklearn.svm import SVC\n",
    "\n",
    "from sklearn.pipeline import Pipeline\n",
    "from BetaPose.cluster import Agglomerative, _KMeans\n",
    "\n",
    "pca = PCA(n_components=2)\n",
    "x = pca.fit_transform(pdist.T)\n",
    "print(x.shape)\n",
    "labels = _KMeans(pdist.T, 2)\n",
    "print(list(labels))\n",
    "plt.scatter(x[:,0], x[:,1], c=labels, cmap=\"inferno\")\n"
   ]
  },
  {
   "cell_type": "code",
   "execution_count": null,
   "id": "2ff7a22e",
   "metadata": {},
   "outputs": [],
   "source": []
  }
 ],
 "metadata": {
  "kernelspec": {
   "display_name": "Python 3 (ipykernel)",
   "language": "python",
   "name": "python3"
  },
  "language_info": {
   "codemirror_mode": {
    "name": "ipython",
    "version": 3
   },
   "file_extension": ".py",
   "mimetype": "text/x-python",
   "name": "python",
   "nbconvert_exporter": "python",
   "pygments_lexer": "ipython3",
   "version": "3.9.17"
  }
 },
 "nbformat": 4,
 "nbformat_minor": 5
}
