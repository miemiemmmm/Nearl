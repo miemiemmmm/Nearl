{
 "cells": [
  {
   "cell_type": "code",
   "execution_count": null,
   "id": "30583c7d",
   "metadata": {},
   "outputs": [],
   "source": [
    "import h5py as h5\n",
    "import numpy as np \n",
    "\n",
    "testfile = \"/Matter/nearl_training_data/prod_test/MisatoOutput0.h5\"\n",
    "testfile = \"/Matter/nearl_training_data/prod_test/MisatoOutput1.h5\"\n",
    "testfile = \"/Matter/nearl_training_data/prod_test/MisatoOutput2.h5\"\n",
    "# testfile = \"/Matter/nearl_training_data/prod_test/MisatoOutput3.h5\"\n",
    "\n",
    "# testfile = \"/Matter/nearl_training_data/testjob3/MisatoOutput0.h5\"\n",
    "\n",
    "tags_to_check = \"arom_lig%arom_prot%atomic_number%backboness%charge_negative_lig%charge_negative_prot%charge_positive_lig%charge_positive_prot%coord_lig_%coord_prot_%lig_atm_distinct_entropy%lig_atn_distinct_mean%lig_density_mass_std%lig_mass_density_mean%lig_mass_density_std%lig_mass_dispersion_mean%lig_mass_dispersion_std%lig_mass_distance_mean%lig_mass_distance_std%lig_resid_distinct_entropy%lig_type_C%lig_type_H%lig_type_N%lig_type_O%lig_type_S%ligand_annotation%mass_lig%mass_prot%obs_atm_distinct_entropy%obs_density_mass_meam%obs_density_mass_std%obs_mass_density_mean%obs_mass_density_std%obs_mass_dispersion_mean%obs_mass_dispersion_std%obs_mass_distance_mean%obs_mass_distance_std%obs_resid_distinct_entropy%prot_atm_distinct_entropy%prot_atn_distinct_mean%prot_density_mass_std%prot_mass_density_mean%prot_mass_density_std%prot_mass_dispersion_mean%prot_mass_dispersion_std%prot_mass_distance_mean%prot_mass_distance_std%prot_resid_distinct_entropy%prot_type_C%prot_type_H%prot_type_N%prot_type_O%prot_type_S%protein_annotation%rf_feature%ring_lig%ring_prot\"\n",
    "tags_to_check = tags_to_check.split(\"%\")\n",
    "with h5.File(testfile, \"r\") as hdf: \n",
    "  for tag in tags_to_check:\n",
    "    arr = hdf[tag][:1000]\n",
    "    havenan = True in np.isnan(arr)\n",
    "    haveinf = True in np.isinf(arr)\n",
    "    # print(hdf[tag].shape)\n",
    "    if havenan or haveinf:\n",
    "      print(f\"Tag: {tag:20}; {hdf[tag].shape}; HaveNan {havenan}; HaveInf {haveinf}; \")\n",
    "    \n",
    "\n",
    "\n"
   ]
  },
  {
   "cell_type": "code",
   "execution_count": null,
   "id": "2ff7a22e",
   "metadata": {},
   "outputs": [],
   "source": []
  }
 ],
 "metadata": {
  "kernelspec": {
   "display_name": "Python 3 (ipykernel)",
   "language": "python",
   "name": "python3"
  },
  "language_info": {
   "codemirror_mode": {
    "name": "ipython",
    "version": 3
   },
   "file_extension": ".py",
   "mimetype": "text/x-python",
   "name": "python",
   "nbconvert_exporter": "python",
   "pygments_lexer": "ipython3",
   "version": "3.9.-1"
  }
 },
 "nbformat": 4,
 "nbformat_minor": 5
}
