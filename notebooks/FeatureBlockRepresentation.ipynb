{
 "cells": [
  {
   "cell_type": "code",
   "execution_count": 2,
   "id": "53813f71",
   "metadata": {},
   "outputs": [],
   "source": [
    "import pytraj as pt \n",
    "from rdkit import Chem\n",
    "from rdkit.Chem import AllChem\n",
    "\n",
    "\n",
    "\n",
    "\n",
    "\n"
   ]
  },
  {
   "cell_type": "code",
   "execution_count": null,
   "id": "30f691a7",
   "metadata": {},
   "outputs": [],
   "source": [
    "\n",
    "\n",
    "def genslices(traj, center, cube_length): \n",
    "  center = np.array(center)\n",
    "  upperbound = np.array(center) + cube_length/2; \n",
    "  lowerbound = np.array(center) - cube_length/2; \n",
    "  ret_arr = []\n",
    "  idx_arr = []\n",
    "  for xyz in traj.xyz: \n",
    "    ubstate = np.array([np.prod(i) for i in xyz < upperbound])\n",
    "    lbstate = np.array([np.prod(i) for i in xyz > lowerbound])\n",
    "    state = [bool(i) for i in ubstate*lbstate]\n",
    "    ret_arr.append(xyz[state])\n",
    "    idx_arr.append(state)\n",
    "  return ret_arr, idx_arr"
   ]
  },
  {
   "cell_type": "code",
   "execution_count": null,
   "id": "f702040d",
   "metadata": {},
   "outputs": [],
   "source": []
  },
  {
   "cell_type": "code",
   "execution_count": null,
   "id": "7df0456f",
   "metadata": {},
   "outputs": [],
   "source": []
  },
  {
   "cell_type": "code",
   "execution_count": null,
   "id": "50fbba6e",
   "metadata": {},
   "outputs": [],
   "source": []
  },
  {
   "cell_type": "code",
   "execution_count": null,
   "id": "aa0d4e4f",
   "metadata": {},
   "outputs": [],
   "source": []
  },
  {
   "cell_type": "code",
   "execution_count": null,
   "id": "bc29187b",
   "metadata": {},
   "outputs": [],
   "source": []
  }
 ],
 "metadata": {
  "kernelspec": {
   "display_name": "Python 3 (ipykernel)",
   "language": "python",
   "name": "python3"
  },
  "language_info": {
   "codemirror_mode": {
    "name": "ipython",
    "version": 3
   },
   "file_extension": ".py",
   "mimetype": "text/x-python",
   "name": "python",
   "nbconvert_exporter": "python",
   "pygments_lexer": "ipython3",
   "version": "3.8.10"
  }
 },
 "nbformat": 4,
 "nbformat_minor": 5
}
