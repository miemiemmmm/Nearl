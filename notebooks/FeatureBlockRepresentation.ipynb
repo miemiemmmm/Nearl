{
 "cells": [
  {
   "cell_type": "code",
   "execution_count": 6,
   "id": "b8e00919",
   "metadata": {},
   "outputs": [],
   "source": [
    "import pytraj as pt \n",
    "import numpy as np \n",
    "from rdkit import Chem\n",
    "from rdkit.Chem import AllChem\n",
    "\n"
   ]
  },
  {
   "cell_type": "code",
   "execution_count": 7,
   "id": "1fea4df9",
   "metadata": {},
   "outputs": [
    {
     "name": "stdout",
     "output_type": "stream",
     "text": [
      "[36.29048538 22.94266735 36.92572923]\n"
     ]
    }
   ],
   "source": [
    "top = \"/home/yzhang/zhang/MyTrajs/BFL-1/batch3/C263CsDJQucZ_job_004_END.pdb\"; \n",
    "traj = \"/home/yzhang/zhang/MyTrajs/BFL-1/batch3/C263CsDJQucZ_job_004_traj.nc\";\n",
    "traj = pt.load(traj, top=top, mask=\":1-151,:LIG\", stride=100)\n",
    "\n",
    "\n",
    "def genslices(traj, center, cube_length): \n",
    "  center = np.array(center)\n",
    "  upperbound = np.array(center) + cube_length/2; \n",
    "  lowerbound = np.array(center) - cube_length/2; \n",
    "  ret_arr = []\n",
    "  idx_arr = []\n",
    "  for xyz in traj.xyz: \n",
    "    ubstate = np.array([np.prod(i) for i in xyz < upperbound])\n",
    "    lbstate = np.array([np.prod(i) for i in xyz > lowerbound])\n",
    "    state = [bool(i) for i in ubstate*lbstate]\n",
    "    ret_arr.append(xyz[state])\n",
    "    idx_arr.append(state)\n",
    "  return ret_arr, idx_arr\n",
    "\n",
    "\n",
    "\n",
    "\n",
    "testcenter = np.mean(traj.xyz[0][traj.top.select(\":34\")], axis=0 )\n",
    "print(testcenter)\n"
   ]
  },
  {
   "cell_type": "code",
   "execution_count": 9,
   "id": "264aeb7e",
   "metadata": {},
   "outputs": [],
   "source": [
    "points, idxs = genslices(traj, testcenter, 6)\n",
    "\n"
   ]
  },
  {
   "cell_type": "code",
   "execution_count": null,
   "id": "bd358b9d",
   "metadata": {},
   "outputs": [],
   "source": []
  },
  {
   "cell_type": "code",
   "execution_count": null,
   "id": "e2782e5f",
   "metadata": {},
   "outputs": [],
   "source": []
  },
  {
   "cell_type": "code",
   "execution_count": null,
   "id": "a5d2d8b4",
   "metadata": {},
   "outputs": [],
   "source": []
  },
  {
   "cell_type": "code",
   "execution_count": null,
   "id": "74b7b63f",
   "metadata": {},
   "outputs": [],
   "source": []
  }
 ],
 "metadata": {
  "kernelspec": {
   "display_name": "Python 3 (ipykernel)",
   "language": "python",
   "name": "python3"
  },
  "language_info": {
   "codemirror_mode": {
    "name": "ipython",
    "version": 3
   },
   "file_extension": ".py",
   "mimetype": "text/x-python",
   "name": "python",
   "nbconvert_exporter": "python",
   "pygments_lexer": "ipython3",
   "version": "3.9.16"
  }
 },
 "nbformat": 4,
 "nbformat_minor": 5
}
