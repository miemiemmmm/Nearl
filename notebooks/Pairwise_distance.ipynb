{
 "cells": [
  {
   "cell_type": "code",
   "execution_count": 3,
   "id": "bc288beb",
   "metadata": {},
   "outputs": [
    {
     "name": "stdout",
     "output_type": "stream",
     "text": [
      "['ASEStructure', 'ASETrajectory', 'BACKENDS', 'BiopythonStructure', 'DatasourceRegistry', 'FileStructure', 'HTMDTrajectory', 'IODataStructure', 'IOTBXStructure', 'MDAnalysisTrajectory', 'MDTrajTrajectory', 'NGLWidget', 'OpenbabelStructure', 'ParmEdTrajectory', 'PdbIdStructure', 'ProdyStructure', 'ProdyTrajectory', 'Psi4Structure', 'PyTrajTrajectory', 'QCElementalStructure', 'RdkitStructure', 'RosettaStructure', 'SchrodingerStructure', 'SchrodingerTrajectory', 'SimpletrajTrajectory', 'Structure', 'TextStructure', 'Trajectory', '__all__', '__builtins__', '__cached__', '__doc__', '__file__', '__loader__', '__name__', '__package__', '__path__', '__spec__', '__version__', '_frontend', '_jupyter_nbextension_paths', '_version', 'adaptor', 'base', 'base_adaptor', 'color', 'component', 'config', 'data_source', 'datafiles', 'default', 'demo', 'interpolate', 'js_utils', 'layout', 'parameters', 'player', 'register_backend', 'remote_thread', 'representation', 'shape', 'show', 'show_ase', 'show_asetraj', 'show_biopython', 'show_file', 'show_htmd', 'show_iodata', 'show_iotbx', 'show_mdanalysis', 'show_mdtraj', 'show_openbabel', 'show_parmed', 'show_pdbid', 'show_prody', 'show_psi4', 'show_pymatgen', 'show_pytraj', 'show_qcelemental', 'show_rdkit', 'show_rosetta', 'show_schrodinger', 'show_simpletraj', 'show_structure_file', 'show_text', 'show_url', 'stage', 'utils', 'viewer_control', 'warnings', 'widget', 'widget_utils', 'write_html']\n"
     ]
    },
    {
     "data": {
      "application/vnd.jupyter.widget-view+json": {
       "model_id": "335add73483f469b83e48965f89d8c0d",
       "version_major": 2,
       "version_minor": 0
      },
      "text/plain": [
       "NGLWidget(max_frame=5)"
      ]
     },
     "metadata": {},
     "output_type": "display_data"
    }
   ],
   "source": [
    "import nglview as nv\n",
    "import pytraj as pt \n",
    "\n",
    "\n",
    "print(dir(nv))\n",
    "\n",
    "\n",
    "traj = pt.load(b, top=a); # \"C499thistest_PDB.pdb\"\n",
    "nv.show_pytraj(traj)\n"
   ]
  },
  {
   "cell_type": "code",
   "execution_count": 4,
   "id": "68dad51c",
   "metadata": {},
   "outputs": [
    {
     "data": {
      "application/vnd.jupyter.widget-view+json": {
       "model_id": "4cc9aa63118d4c03aaed5d59bfe716b5",
       "version_major": 2,
       "version_minor": 0
      },
      "text/plain": [
       "NGLWidget(max_frame=5)"
      ]
     },
     "metadata": {},
     "output_type": "display_data"
    }
   ],
   "source": [
    "import nglview as nv \n",
    "import pytraj as pt\n",
    "def rand_color():\n",
    "  r = lambda: random.randint(0,255)\n",
    "  return '#%02X%02X%02X' % (r(),r(),r())\n",
    "def nglmask(traj, mask):\n",
    "  return \"@\"+\",\".join([str(i) for i in traj.top.select(mask)])\n",
    "def show_complex(traj, viewer_dic):\n",
    "  viewer = nv.show_pytraj(traj)\n",
    "  viewer[0].clear_representations()\n",
    "  for i in viewer_dic:\n",
    "    mask = nglmask(traj, i)\n",
    "    viewer[0].add_representation(viewer_dic[i], selection=mask)\n",
    "  viewer.center(selection=mask)\n",
    "  viewer.stage.set_parameters(backgroundColor=\"#f9fcfd\")\n",
    "  return viewer\n",
    "\n",
    "\n",
    "\n",
    "stride   = 1\n",
    "masks    = {\n",
    "  \":LIG,MDL<:15&!:SOL,T3P\":\"ribbon\", \n",
    "  \":LIG,MDL<:5&!:SOL,T3P,WAT\":\"line\", \n",
    "  \":LIG,MDL\":\"ball+stick\", \n",
    "}; \n",
    "trajfile = \"/storage006/yzhang/clean_acgui/TMP_FOLDERS/thistest/singleMD/C499thistest/C499thistest_TRJ.nc\"; \n",
    "topfile  = \"/storage006/yzhang/clean_acgui/TMP_FOLDERS/thistest/singleMD/C499thistest/C499thistest_PDB.pdb\"; \n",
    "traj = pt.load(trajfile, top=topfile, stride=stride)\n",
    "traj.top.set_reference(traj[0])\n",
    "viewer = show_complex(traj, masks)\n",
    "# print(dir(viewer))\n",
    "viewer"
   ]
  },
  {
   "cell_type": "code",
   "execution_count": 2,
   "id": "ad689a9c",
   "metadata": {},
   "outputs": [
    {
     "name": "stdout",
     "output_type": "stream",
     "text": [
      "Calculating pairwise distance\n",
      "['ASALig', 'ASALigOnly', 'DistanceLigPro', 'DrawGridMols', 'EmbeddingFactor', 'GetProteinByTraj', 'GetProteinMask', 'LIG_nha', 'PRO_nha', 'PRO_nhydrogen', 'PairwiseDistance', '__builtins__', '__cached__', '__doc__', '__file__', '__loader__', '__name__', '__package__', '__spec__', 'cgenff2dic', 'cgenff2xml', 'cgenff2xmls', 'combineMOL2PDB', 'conflictfactor', 'distance_matrix', 'fetch', 'getAxisIndex', 'getPdbSeq', 'getPdbTitle', 'np', 'pt', 'smartsSupplier', 'tempfile']\n",
      "[[4.604499  5.6068707 4.180211  4.980022  5.6989636 5.366957 ]\n",
      " [3.418143  4.471073  3.2104502 3.8788402 4.5949306 4.330844 ]\n",
      " [3.650944  4.3500557 3.6341288 3.9140913 3.9548807 4.1739964]\n",
      " ...\n",
      " [5.4082866 4.7461233 4.956728  4.623363  5.2951446 4.6468253]\n",
      " [4.3422337 5.504799  4.009166  4.410995  4.831408  4.832969 ]\n",
      " [4.99921   4.2226605 4.138965  3.5220633 5.017911  3.8611515]]\n",
      "{'gp1_names': ['C1', 'N9', 'C7', 'C6', 'C5', 'C4', 'N8', 'C3', 'O10', 'C2'], 'gp1_ids': [64348, 64349, 64350, 64351, 64352, 64353, 64354, 64355, 64356, 64357], 'gp2_names': ['CB', 'CB', 'CB', 'CB', 'CB', 'CB', 'O', 'O', 'CA', 'O'], 'gp2_ids': [1714, 1714, 1714, 1714, 1682, 1682, 839, 839, 1659, 839]}\n"
     ]
    },
    {
     "data": {
      "application/vnd.jupyter.widget-view+json": {
       "model_id": "0eceb04dca7d4c7a8753af44570960b8",
       "version_major": 2,
       "version_minor": 0
      },
      "text/plain": [
       "NGLWidget(max_frame=5)"
      ]
     },
     "metadata": {},
     "output_type": "display_data"
    }
   ],
   "source": [
    "from BetaPose import utils, view\n",
    "import nglview as nv \n",
    "import pytraj as pt\n",
    "\n",
    "\n",
    "STRIDE   = 1\n",
    "REPR    = {\n",
    "  \":LIG,MDL<:15&!:SOL,T3P\":\"ribbon\", \n",
    "  \":LIG,MDL<:5&!:SOL,T3P,WAT\":\"line\", \n",
    "  \":LIG,MDL\":\"ball+stick\", \n",
    "}; \n",
    "\n",
    "trajfile = \"/storage006/yzhang/clean_acgui/TMP_FOLDERS/thistest/singleMD/C499thistest/C499thistest_TRJ.nc\"; \n",
    "topfile  = \"/storage006/yzhang/clean_acgui/TMP_FOLDERS/thistest/singleMD/C499thistest/C499thistest_PDB.pdb\"; \n",
    "\n",
    "traj = pt.load(trajfile, top=topfile, stride=STRIDE);\n",
    "traj.top.set_reference(traj[0]); \n",
    "viewer = view.show_complex(traj, REPR); \n",
    "dist, info = utils.PairwiseDistance(traj, \":LIG&!@H=\", \":LIG<:6&@CA,C,N,O,CB\")\n",
    "\n",
    "print(dir(utils))\n",
    "print(dist)\n",
    "print(info)\n",
    "\n",
    "\n",
    "# def add_distance(partner1, partner2):\n",
    "#   for i, j in zip(partner1, partner2):\n",
    "#     viewer[0].add_representation(\"distance\", atomPair=[[f\"@{i}\", f\"@{j}\"]], \n",
    "#                                  color=\"blue\", label_color=\"black\", label_fontsize=0); \n",
    "#   return viewer\n",
    "\n",
    "viewer = view.add_distance(viewer, info[\"gp1_ids\"], info[\"gp2_ids\"])\n",
    "viewer"
   ]
  },
  {
   "cell_type": "code",
   "execution_count": 10,
   "id": "221e0f70",
   "metadata": {},
   "outputs": [
    {
     "name": "stdout",
     "output_type": "stream",
     "text": [
      "Calculating pairwise distance\n"
     ]
    },
    {
     "data": {
      "application/vnd.jupyter.widget-view+json": {
       "model_id": "cba1f5da38394664b4cfb9fa5f43d520",
       "version_major": 2,
       "version_minor": 0
      },
      "text/plain": [
       "NGLWidget(max_frame=5)"
      ]
     },
     "metadata": {},
     "output_type": "display_data"
    }
   ],
   "source": [
    "from BetaPose import utils, view\n",
    "import nglview as nv \n",
    "import pytraj as pt\n",
    "def nglmask(traj, mask):\n",
    "  return \"@\"+\",\".join([str(i) for i in traj.top.select(mask)])\n",
    "class TrajectoryViewer: \n",
    "  def __init__(self, traj):\n",
    "    self.traj = traj; \n",
    "    self.viewer = nv.show_pytraj(traj); \n",
    "    \n",
    "  def show_complex(self, viewer_dic):\n",
    "    self.viewer[0].clear_representations(); \n",
    "    for rep in viewer_dic:\n",
    "      mask = nglmask(self.traj, rep); \n",
    "      self.viewer[0].add_representation(viewer_dic[rep], selection=mask); \n",
    "    self.viewer.center(selection = mask); \n",
    "    self.viewer.stage.set_parameters(backgroundColor=\"#f9fcfd\"); \n",
    "    return self.viewer\n",
    "  def add_distance(self, partner1, partner2):\n",
    "    for i, j in zip(partner1, partner2):\n",
    "      self.viewer[0].add_representation(\"distance\", atomPair=[[f\"@{i}\", f\"@{j}\"]],\n",
    "                                   color=\"blue\", label_color=\"black\", label_fontsize=0.1);\n",
    "    return self.viewer\n",
    "\n",
    "  \n",
    "STRIDE   = 1\n",
    "REPR    = {\n",
    "  \":LIG,MDL<:15&!:SOL,T3P\":\"ribbon\", \n",
    "  \":LIG,MDL<:5&!:SOL,T3P,WAT\":\"line\", \n",
    "  \":LIG,MDL\":\"ball+stick\", \n",
    "}; \n",
    "trajfile = \"/storage006/yzhang/clean_acgui/TMP_FOLDERS/thistest/singleMD/C499thistest/C499thistest_TRJ.nc\"; \n",
    "topfile  = \"/storage006/yzhang/clean_acgui/TMP_FOLDERS/thistest/singleMD/C499thistest/C499thistest_PDB.pdb\"; \n",
    "\n",
    "traj = pt.load(trajfile, top=topfile, stride=STRIDE);\n",
    "traj.top.set_reference(traj[0]); \n",
    "tv = TrajectoryViewer(traj); \n",
    "tv.show_complex(REPR); \n",
    "dist, info = utils.PairwiseDistance(traj, \":LIG&!@H=\", \":LIG<:6&@CA,C,N,O,CB\")\n",
    "tv.add_distance(info[\"gp1_ids\"], info[\"gp2_ids\"])\n",
    "tv.viewer"
   ]
  },
  {
   "cell_type": "code",
   "execution_count": null,
   "id": "08861fd7",
   "metadata": {},
   "outputs": [],
   "source": []
  }
 ],
 "metadata": {
  "kernelspec": {
   "display_name": "Python 3 (ipykernel)",
   "language": "python",
   "name": "python3"
  },
  "language_info": {
   "codemirror_mode": {
    "name": "ipython",
    "version": 3
   },
   "file_extension": ".py",
   "mimetype": "text/x-python",
   "name": "python",
   "nbconvert_exporter": "python",
   "pygments_lexer": "ipython3",
   "version": "3.8.10"
  }
 },
 "nbformat": 4,
 "nbformat_minor": 5
}
