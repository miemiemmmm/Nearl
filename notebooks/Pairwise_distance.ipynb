{
 "cells": [
  {
   "cell_type": "code",
   "execution_count": 3,
   "id": "e137b865",
   "metadata": {},
   "outputs": [
    {
     "name": "stdout",
     "output_type": "stream",
     "text": [
      "['ASEStructure', 'ASETrajectory', 'BACKENDS', 'BiopythonStructure', 'DatasourceRegistry', 'FileStructure', 'HTMDTrajectory', 'IODataStructure', 'IOTBXStructure', 'MDAnalysisTrajectory', 'MDTrajTrajectory', 'NGLWidget', 'OpenbabelStructure', 'ParmEdTrajectory', 'PdbIdStructure', 'ProdyStructure', 'ProdyTrajectory', 'Psi4Structure', 'PyTrajTrajectory', 'QCElementalStructure', 'RdkitStructure', 'RosettaStructure', 'SchrodingerStructure', 'SchrodingerTrajectory', 'SimpletrajTrajectory', 'Structure', 'TextStructure', 'Trajectory', '__all__', '__builtins__', '__cached__', '__doc__', '__file__', '__loader__', '__name__', '__package__', '__path__', '__spec__', '__version__', '_frontend', '_jupyter_nbextension_paths', '_version', 'adaptor', 'base', 'base_adaptor', 'color', 'component', 'config', 'data_source', 'datafiles', 'default', 'demo', 'interpolate', 'js_utils', 'layout', 'parameters', 'player', 'register_backend', 'remote_thread', 'representation', 'shape', 'show', 'show_ase', 'show_asetraj', 'show_biopython', 'show_file', 'show_htmd', 'show_iodata', 'show_iotbx', 'show_mdanalysis', 'show_mdtraj', 'show_openbabel', 'show_parmed', 'show_pdbid', 'show_prody', 'show_psi4', 'show_pymatgen', 'show_pytraj', 'show_qcelemental', 'show_rdkit', 'show_rosetta', 'show_schrodinger', 'show_simpletraj', 'show_structure_file', 'show_text', 'show_url', 'stage', 'utils', 'viewer_control', 'warnings', 'widget', 'widget_utils', 'write_html']\n"
     ]
    },
    {
     "data": {
      "application/vnd.jupyter.widget-view+json": {
       "model_id": "335add73483f469b83e48965f89d8c0d",
       "version_major": 2,
       "version_minor": 0
      },
      "text/plain": [
       "NGLWidget(max_frame=5)"
      ]
     },
     "metadata": {},
     "output_type": "display_data"
    }
   ],
   "source": [
    "import nglview as nv\n",
    "import pytraj as pt \n",
    "\n",
    "\n",
    "print(dir(nv))\n",
    "\n",
    "\n",
    "traj = pt.load(b, top=a); # \"C499thistest_PDB.pdb\"\n",
    "nv.show_pytraj(traj)\n"
   ]
  },
  {
   "cell_type": "code",
   "execution_count": 4,
   "id": "e291ec24",
   "metadata": {},
   "outputs": [
    {
     "data": {
      "application/vnd.jupyter.widget-view+json": {
       "model_id": "4cc9aa63118d4c03aaed5d59bfe716b5",
       "version_major": 2,
       "version_minor": 0
      },
      "text/plain": [
       "NGLWidget(max_frame=5)"
      ]
     },
     "metadata": {},
     "output_type": "display_data"
    }
   ],
   "source": [
    "import nglview as nv \n",
    "import pytraj as pt\n",
    "def rand_color():\n",
    "  r = lambda: random.randint(0,255)\n",
    "  return '#%02X%02X%02X' % (r(),r(),r())\n",
    "def nglmask(traj, mask):\n",
    "  return \"@\"+\",\".join([str(i) for i in traj.top.select(mask)])\n",
    "def show_complex(traj, viewer_dic):\n",
    "  viewer = nv.show_pytraj(traj)\n",
    "  viewer[0].clear_representations()\n",
    "  for i in viewer_dic:\n",
    "    mask = nglmask(traj, i)\n",
    "    viewer[0].add_representation(viewer_dic[i], selection=mask)\n",
    "  viewer.center(selection=mask)\n",
    "  viewer.stage.set_parameters(backgroundColor=\"#f9fcfd\")\n",
    "  return viewer\n",
    "\n",
    "\n",
    "\n",
    "stride   = 1\n",
    "masks    = {\n",
    "  \":LIG,MDL<:15&!:SOL,T3P\":\"ribbon\", \n",
    "  \":LIG,MDL<:5&!:SOL,T3P,WAT\":\"line\", \n",
    "  \":LIG,MDL\":\"ball+stick\", \n",
    "}; \n",
    "trajfile = \"/storage006/yzhang/clean_acgui/TMP_FOLDERS/thistest/singleMD/C499thistest/C499thistest_TRJ.nc\"; \n",
    "topfile  = \"/storage006/yzhang/clean_acgui/TMP_FOLDERS/thistest/singleMD/C499thistest/C499thistest_PDB.pdb\"; \n",
    "traj = pt.load(trajfile, top=topfile, stride=stride)\n",
    "traj.top.set_reference(traj[0])\n",
    "viewer = show_complex(traj, masks)\n",
    "# print(dir(viewer))\n",
    "viewer"
   ]
  },
  {
   "cell_type": "code",
   "execution_count": 3,
   "id": "c419cdb5",
   "metadata": {},
   "outputs": [
    {
     "ename": "NameError",
     "evalue": "name 'self' is not defined",
     "output_type": "error",
     "traceback": [
      "\u001b[0;31m---------------------------------------------------------------------------\u001b[0m",
      "\u001b[0;31mNameError\u001b[0m                                 Traceback (most recent call last)",
      "Cell \u001b[0;32mIn [3], line 18\u001b[0m\n\u001b[1;32m     16\u001b[0m traj \u001b[38;5;241m=\u001b[39m pt\u001b[38;5;241m.\u001b[39mload(trajfile, top\u001b[38;5;241m=\u001b[39mtopfile, stride\u001b[38;5;241m=\u001b[39mSTRIDE);\n\u001b[1;32m     17\u001b[0m traj\u001b[38;5;241m.\u001b[39mtop\u001b[38;5;241m.\u001b[39mset_reference(traj[\u001b[38;5;241m0\u001b[39m]); \n\u001b[0;32m---> 18\u001b[0m viewer \u001b[38;5;241m=\u001b[39m \u001b[43mview\u001b[49m\u001b[38;5;241;43m.\u001b[39;49m\u001b[43mshow_complex\u001b[49m\u001b[43m(\u001b[49m\u001b[43mtraj\u001b[49m\u001b[43m,\u001b[49m\u001b[43m \u001b[49m\u001b[43mREPR\u001b[49m\u001b[43m)\u001b[49m; \n\u001b[1;32m     19\u001b[0m dist, info \u001b[38;5;241m=\u001b[39m utils\u001b[38;5;241m.\u001b[39mPairwiseDistance(traj, \u001b[38;5;124m\"\u001b[39m\u001b[38;5;124m:LIG&!@H=\u001b[39m\u001b[38;5;124m\"\u001b[39m, \u001b[38;5;124m\"\u001b[39m\u001b[38;5;124m:LIG<:6&@CA,C,N,O,CB\u001b[39m\u001b[38;5;124m\"\u001b[39m)\n\u001b[1;32m     21\u001b[0m \u001b[38;5;28mprint\u001b[39m(\u001b[38;5;28mdir\u001b[39m(utils))\n",
      "File \u001b[0;32m~/tests/BetaPose/view.py:11\u001b[0m, in \u001b[0;36mshow_complex\u001b[0;34m(traj, viewer_dic)\u001b[0m\n\u001b[1;32m     10\u001b[0m \u001b[38;5;28;01mdef\u001b[39;00m \u001b[38;5;21mshow_complex\u001b[39m(traj, viewer_dic):\n\u001b[0;32m---> 11\u001b[0m   \u001b[38;5;28;43mself\u001b[39;49m\u001b[38;5;241m.\u001b[39mviewer \u001b[38;5;241m=\u001b[39m nv\u001b[38;5;241m.\u001b[39mshow_pytraj(traj)\n\u001b[1;32m     12\u001b[0m   \u001b[38;5;28mself\u001b[39m\u001b[38;5;241m.\u001b[39mviewer[\u001b[38;5;241m0\u001b[39m]\u001b[38;5;241m.\u001b[39mclear_representations()\n\u001b[1;32m     13\u001b[0m   \u001b[38;5;28;01mfor\u001b[39;00m i \u001b[38;5;129;01min\u001b[39;00m viewer_dic:\n",
      "\u001b[0;31mNameError\u001b[0m: name 'self' is not defined"
     ]
    }
   ],
   "source": [
    "from BetaPose import utils, view\n",
    "import nglview as nv \n",
    "import pytraj as pt\n",
    "\n",
    "\n",
    "STRIDE   = 1\n",
    "REPR    = {\n",
    "  \":LIG,MDL<:15&!:SOL,T3P\":\"ribbon\", \n",
    "  \":LIG,MDL<:5&!:SOL,T3P,WAT\":\"line\", \n",
    "  \":LIG,MDL\":\"ball+stick\", \n",
    "}; \n",
    "\n",
    "trajfile = \"/storage006/yzhang/clean_acgui/TMP_FOLDERS/thistest/singleMD/C499thistest/C499thistest_TRJ.nc\"; \n",
    "topfile  = \"/storage006/yzhang/clean_acgui/TMP_FOLDERS/thistest/singleMD/C499thistest/C499thistest_PDB.pdb\"; \n",
    "\n",
    "traj = pt.load(trajfile, top=topfile, stride=STRIDE);\n",
    "traj.top.set_reference(traj[0]); \n",
    "viewer = view.show_complex(traj, REPR); \n",
    "dist, info = utils.PairwiseDistance(traj, \":LIG&!@H=\", \":LIG<:6&@CA,C,N,O,CB\")\n",
    "\n",
    "print(dir(utils))\n",
    "print(dist)\n",
    "print(info)\n",
    "\n",
    "\n",
    "# def add_distance(partner1, partner2):\n",
    "#   for i, j in zip(partner1, partner2):\n",
    "#     viewer[0].add_representation(\"distance\", atomPair=[[f\"@{i}\", f\"@{j}\"]], \n",
    "#                                  color=\"blue\", label_color=\"black\", label_fontsize=0); \n",
    "#   return viewer\n",
    "\n",
    "viewer = view.add_distance(viewer, info[\"gp1_ids\"], info[\"gp2_ids\"])\n",
    "viewer"
   ]
  },
  {
   "cell_type": "code",
   "execution_count": null,
   "id": "dc0f09c6",
   "metadata": {},
   "outputs": [],
   "source": []
  },
  {
   "cell_type": "code",
   "execution_count": 31,
   "id": "1c39a430",
   "metadata": {},
   "outputs": [
    {
     "data": {
      "application/vnd.jupyter.widget-view+json": {
       "model_id": "ec421e10af4c446d8e6f3e82df1700eb",
       "version_major": 2,
       "version_minor": 0
      },
      "text/plain": [
       "NGLWidget(max_frame=200)"
      ]
     },
     "metadata": {},
     "output_type": "display_data"
    }
   ],
   "source": [
    "from BetaPose import utils, view\n",
    "import nglview as nv \n",
    "import pytraj as pt\n",
    "def nglmask(traj, mask):\n",
    "  return \"@\"+\",\".join([str(i) for i in traj.top.select(mask)])\n",
    "class TrajectoryViewer: \n",
    "  def __init__(self, traj):\n",
    "    self.traj = traj; \n",
    "    self.viewer = nv.show_pytraj(traj); \n",
    "    \n",
    "  def show_complex(self, viewer_dic):\n",
    "    self.viewer[0].clear_representations(); \n",
    "    for rep in viewer_dic:\n",
    "      mask = nglmask(self.traj, rep); \n",
    "      self.viewer[0].add_representation(viewer_dic[rep], selection=mask); \n",
    "    self.viewer.center(selection = mask); \n",
    "    self.viewer.stage.set_parameters(backgroundColor=\"#f9fcfd\"); \n",
    "    return self.viewer\n",
    "  def add_distance(self, partner1, partner2):\n",
    "    for i, j in zip(partner1, partner2):\n",
    "      self.viewer[0].add_representation(\"distance\", atomPair=[[f\"@{i}\", f\"@{j}\"]],\n",
    "                                   color=\"blue\", label_color=\"black\", label_fontsize=0.1);\n",
    "    return self.viewer\n",
    "\n",
    "  \n",
    "STRIDE   = 1\n",
    "\n",
    "# mask_lig = utils.getmask(traj, \":71&:PHE\"); \n",
    "# mask_lig = \":71&:PHE\"; \n",
    "mask_superpose = utils.getmask(traj, f\"{mask_lig}<:6&@CA&!{mask_lig}\");\n",
    "mask_lig_pair1 = utils.getmask(traj, f\"{mask_lig}&!@H=\"); \n",
    "mask_lig_pair2 = utils.getmask(traj, f\"{mask_lig}<:6&@CA,C,N,O,CB&!{mask_lig}\"); \n",
    "\n",
    "REPR    = {\n",
    "  f\"{mask_lig}<:15&!:SOL,T3P\":\"ribbon\", \n",
    "  f\"{mask_lig}<:5&!:SOL,T3P,WAT\":\"line\", \n",
    "  f\"{mask_lig}\":\"ball+stick\", \n",
    "}; \n",
    "\n",
    "# trajid = \"C006bfl1sim2\"\n",
    "# sessid = trajid[4:]\n",
    "\n",
    "# trajfile = f\"/storage006/yzhang/clean_acgui/TMP_FOLDERS/{sessid}/singleMD/{trajid}/{trajid}_TRJ.nc\"; \n",
    "# topfile  = f\"/storage006/yzhang/clean_acgui/TMP_FOLDERS/{sessid}/singleMD/{trajid}/{trajid}_PDB.pdb\"; \n",
    "\n",
    "# traj = pt.load(trajfile, top=topfile, stride=STRIDE);\n",
    "# traj.top.set_reference(traj[0]); \n",
    "\n",
    "# traj.superpose(\":LIG<:5&@CA\"); \n",
    "# traj.center(\":LIG<:5&@CA\"); \n",
    "\n",
    "tv = TrajectoryViewer(traj); \n",
    "tv.show_complex(REPR); \n",
    "dist, info = utils.PairwiseDistance(traj, mask_lig_pair1, mask_lig_pair2)\n",
    "tv.add_distance(info[\"gp1_ids\"], info[\"gp2_ids\"])\n",
    "tv.viewer\n",
    "# from nglview.contrib.movie import MovieMaker\n",
    "# download_folder = '/storage006/yzhang/tests/'\n",
    "# output = 'test.gif'\n",
    "# mov = MovieMaker(tv.viewer, download_folder=download_folder, output=output)\n",
    "# mov.make()"
   ]
  },
  {
   "cell_type": "code",
   "execution_count": 1,
   "id": "74b0ce21",
   "metadata": {},
   "outputs": [
    {
     "ename": "NameError",
     "evalue": "name 'dist' is not defined",
     "output_type": "error",
     "traceback": [
      "\u001b[0;31m---------------------------------------------------------------------------\u001b[0m",
      "\u001b[0;31mNameError\u001b[0m                                 Traceback (most recent call last)",
      "Cell \u001b[0;32mIn [1], line 7\u001b[0m\n\u001b[1;32m      4\u001b[0m \u001b[38;5;28;01mfrom\u001b[39;00m \u001b[38;5;21;01mscipy\u001b[39;00m \u001b[38;5;28;01mimport\u001b[39;00m linalg\n\u001b[1;32m      6\u001b[0m \u001b[38;5;66;03m# Sum of the frames are they similar in values. \u001b[39;00m\n\u001b[0;32m----> 7\u001b[0m \u001b[38;5;28mprint\u001b[39m(\u001b[38;5;124mf\u001b[39m\u001b[38;5;124m\"\u001b[39m\u001b[38;5;124mMean: \u001b[39m\u001b[38;5;132;01m{\u001b[39;00mdist\u001b[38;5;241m.\u001b[39mmean()\u001b[38;5;132;01m}\u001b[39;00m\u001b[38;5;124m ; Sum: \u001b[39m\u001b[38;5;132;01m{\u001b[39;00mdist\u001b[38;5;241m.\u001b[39msum()\u001b[38;5;132;01m}\u001b[39;00m\u001b[38;5;124m\"\u001b[39m)\n\u001b[1;32m     10\u001b[0m sums \u001b[38;5;241m=\u001b[39m np\u001b[38;5;241m.\u001b[39msum(dist, axis\u001b[38;5;241m=\u001b[39m\u001b[38;5;241m0\u001b[39m)\n\u001b[1;32m     11\u001b[0m \u001b[38;5;28mprint\u001b[39m(\u001b[38;5;28mlen\u001b[39m(sums))\n",
      "\u001b[0;31mNameError\u001b[0m: name 'dist' is not defined"
     ]
    }
   ],
   "source": [
    "import numpy as np \n",
    "import matplotlib.pyplot as plt \n",
    "from scipy.spatial import distance\n",
    "from scipy import linalg\n",
    "\n",
    "# Sum of the frames are they similar in values. \n",
    "print(f\"Mean: {dist.mean()} ; Sum: {dist.sum()}\")\n",
    "\n",
    "\n",
    "sums = np.sum(dist, axis=0)\n",
    "print(len(sums))\n",
    "print(f\"Mean: {sums.mean()} ; Std: {sums.std()}; Sum: {sums.sum()} , test = {dist.sum()/sums.mean()}, {dist.shape}\")\n",
    "\n",
    "print(6/200)\n",
    "\n",
    "# plt.plot(sums)\n",
    "\n",
    "# print(np.cov(dist.T))\n",
    "\n",
    "\n",
    "# plt.pcolormesh(range(dist.shape[1]), range(dist.shape[0]), dist, cmap=\"inferno\")\n",
    "# plt.pcolormesh(range(201), range(33), dist, cmap=\"inferno\")\n",
    "# plt.pcolormesh(range(36), range(36), np.cov(theinv), cmap=\"inferno\")\n",
    "# print(dist.cov())\n",
    "# print(dir(dist))\n",
    "\n",
    "\n",
    "thecov = np.cov(dist)\n",
    "theinv = linalg.inv(thecov)\n",
    "meandist = dist.mean(axis=1)\n",
    "\n",
    "# print(theinv)\n",
    "# print(dist.shape[1])\n",
    "\n",
    "def testmah(dist_mtx):\n",
    "  thecov = np.cov(dist_mtx); \n",
    "  theinv = linalg.inv(thecov); \n",
    "  meandist = dist_mtx.mean(axis=1); \n",
    "  outarray = []\n",
    "  for i in range(dist_mtx.shape[0]):\n",
    "    disti = dist_mtx[:, i]; \n",
    "    thedist = distance.mahalanobis(meandist, disti, theinv)\n",
    "    outarray.append(thedist)\n",
    "  return np.array(outarray)\n",
    "mahs = testmah(dist)\n",
    "rmsd = pt.rmsd(traj, \":LIG&!@H=\"); \n",
    "print()\n",
    "print(f\"RMSD: {rmsd.mean()}, dist: {dist.mean()}, Mah: {mahs.mean()}\")\n",
    "print(f\"RMSD: {rmsd.mean()}, dist: {dist.std()}, Mah: {mahs.std()}\")\n",
    "print(f\"RMSD: {rmsd.mean()}, dist: {dist.mean()}, Mah: {mahs.mean()}\")\n",
    "print(f\"RMSD: {rmsd.mean()}, dist: {dist.mean()}, Mah: {mahs.mean()}\")\n",
    "print(f\"RMSD: {rmsd.mean()}, dist: {dist.std()/dist.mean()}, Mah: {mahs.std()/mahs.mean()}\")\n"
   ]
  },
  {
   "cell_type": "code",
   "execution_count": 30,
   "id": "a933e1c0",
   "metadata": {
    "scrolled": false
   },
   "outputs": [
    {
     "name": "stdout",
     "output_type": "stream",
     "text": [
      "C003bfl1sim1:  0 - RMSD: 0.17 | Dist:  3.28 | MSD:  0.206 | MSVC: 0.055 | Mah:  2.10 ;\n",
      "C004bfl1sim1:  1 - RMSD: 0.15 | Dist:  3.51 | MSD:  0.312 | MSVC: 0.074 | Mah:  1.93 ;\n",
      "C005bfl1sim1:  2 - RMSD: 0.19 | Dist:  3.29 | MSD:  0.229 | MSVC: 0.060 | Mah:  2.38 ;\n",
      "C006bfl1sim1:  3 - RMSD: 0.18 | Dist:  3.25 | MSD:  0.225 | MSVC: 0.060 | Mah:  1.84 ;\n",
      "C007bfl1sim1:  4 - RMSD: 0.36 | Dist:  3.50 | MSD:  0.343 | MSVC: 0.084 | Mah:  2.25 ;\n",
      "C008bfl1sim1:  5 - RMSD: 0.41 | Dist:  3.78 | MSD:  0.639 | MSVC: 0.140 | Mah:  1.78 ;\n",
      "C003bfl1sim2:  6 - RMSD: 0.38 | Dist:  3.51 | MSD:  0.282 | MSVC: 0.070 | Mah:  2.09 ;\n",
      "C004bfl1sim2:  7 - RMSD: 0.41 | Dist:  3.45 | MSD:  0.258 | MSVC: 0.066 | Mah:  1.95 ;\n",
      "C005bfl1sim2:  8 - RMSD: 0.17 | Dist:  3.35 | MSD:  0.297 | MSVC: 0.075 | Mah:  2.27 ;\n",
      "C006bfl1sim2:  9 - RMSD: 0.15 | Dist:  3.27 | MSD:  0.241 | MSVC: 0.063 | Mah:  1.95 ;\n",
      "C007bfl1sim2: 10 - RMSD: 0.22 | Dist:  3.35 | MSD:  0.230 | MSVC: 0.059 | Mah:  2.49 ;\n",
      "C008bfl1sim2: 11 - RMSD: 0.22 | Dist:  3.32 | MSD:  0.232 | MSVC: 0.060 | Mah:  2.34 ;\n",
      "C003bfl1sim3: 12 - RMSD: 0.28 | Dist:  3.54 | MSD:  0.617 | MSVC: 0.141 | Mah:  1.75 ;\n",
      "C004bfl1sim3: 13 - RMSD: 0.16 | Dist:  3.25 | MSD:  0.207 | MSVC: 0.055 | Mah:  2.35 ;\n",
      "C005bfl1sim3: 14 - RMSD: 0.29 | Dist:  3.44 | MSD:  0.229 | MSVC: 0.059 | Mah:  2.47 ;\n",
      "C006bfl1sim3: 15 - RMSD: 0.31 | Dist:  3.45 | MSD:  0.298 | MSVC: 0.075 | Mah:  1.90 ;\n",
      "C007bfl1sim3: 16 - RMSD: 0.20 | Dist:  3.27 | MSD:  0.209 | MSVC: 0.056 | Mah:  2.18 ;\n",
      "C008bfl1sim3: 17 - RMSD: 0.26 | Dist:  4.20 | MSD:  0.951 | MSVC: 0.165 | Mah:  2.04 ;\n",
      "C003bfl1sim4: 18 - RMSD: 0.22 | Dist:  3.32 | MSD:  0.195 | MSVC: 0.051 | Mah:  2.54 ;\n",
      "C004bfl1sim4: 19 - RMSD: 0.20 | Dist:  3.33 | MSD:  0.220 | MSVC: 0.057 | Mah:  2.41 ;\n",
      "C005bfl1sim4: 20 - RMSD: 0.25 | Dist:  3.28 | MSD:  0.235 | MSVC: 0.062 | Mah:  2.04 ;\n",
      "C006bfl1sim4: 21 - RMSD: 0.25 | Dist:  3.27 | MSD:  0.226 | MSVC: 0.060 | Mah:  2.03 ;\n",
      "C007bfl1sim4: 22 - RMSD: 0.17 | Dist:  3.32 | MSD:  0.234 | MSVC: 0.061 | Mah:  1.92 ;\n",
      "C008bfl1sim4: 23 - RMSD: 0.15 | Dist:  3.27 | MSD:  0.191 | MSVC: 0.051 | Mah:  2.09 ;\n",
      "C003bfl1sim5: 24 - RMSD: 0.22 | Dist:  3.41 | MSD:  0.303 | MSVC: 0.075 | Mah:  2.01 ;\n",
      "C004bfl1sim5: 25 - RMSD: 0.21 | Dist:  3.30 | MSD:  0.220 | MSVC: 0.058 | Mah:  2.82 ;\n",
      "C005bfl1sim5: 26 - RMSD: 0.18 | Dist:  3.30 | MSD:  0.227 | MSVC: 0.060 | Mah:  2.19 ;\n",
      "C006bfl1sim5: 27 - RMSD: 0.17 | Dist:  3.33 | MSD:  0.220 | MSVC: 0.057 | Mah:  2.01 ;\n",
      "C007bfl1sim5: 28 - RMSD: 0.30 | Dist:  3.41 | MSD:  0.261 | MSVC: 0.065 | Mah:  1.91 ;\n",
      "C008bfl1sim5: 29 - RMSD: 0.34 | Dist:  3.26 | MSD:  0.190 | MSVC: 0.051 | Mah:  2.50 ;\n",
      "C003bfl1sim6: 30 - RMSD: 0.16 | Dist:  3.29 | MSD:  0.266 | MSVC: 0.069 | Mah:  2.22 ;\n",
      "C004bfl1sim6: 31 - RMSD: 0.15 | Dist:  3.39 | MSD:  0.424 | MSVC: 0.102 | Mah:  2.09 ;\n",
      "C005bfl1sim6: 32 - RMSD: 0.17 | Dist:  3.28 | MSD:  0.234 | MSVC: 0.061 | Mah:  2.04 ;\n",
      "C006bfl1sim6: 33 - RMSD: 0.16 | Dist:  3.37 | MSD:  0.303 | MSVC: 0.076 | Mah:  2.11 ;\n",
      "C007bfl1sim6: 34 - RMSD: 0.24 | Dist:  3.35 | MSD:  0.326 | MSVC: 0.080 | Mah:  2.32 ;\n",
      "C008bfl1sim6: 35 - RMSD: 0.18 | Dist:  3.28 | MSD:  0.218 | MSVC: 0.057 | Mah:  2.53 ;\n",
      "            TRAJ       RMS      DIST       MSD      MSVC\n",
      "0   C003bfl1sim1  0.172273  3.276554  0.205990  0.054690\n",
      "1   C004bfl1sim1  0.152096  3.512780  0.312348  0.073559\n",
      "2   C005bfl1sim1  0.186713  3.285235  0.229173  0.060099\n",
      "3   C006bfl1sim1  0.180025  3.252779  0.225069  0.060049\n",
      "4   C007bfl1sim1  0.355448  3.503325  0.342824  0.083757\n",
      "5   C008bfl1sim1  0.409578  3.777658  0.638904  0.140074\n",
      "6   C003bfl1sim2  0.379789  3.506764  0.282402  0.070250\n",
      "7   C004bfl1sim2  0.414188  3.451461  0.257843  0.065529\n",
      "8   C005bfl1sim2  0.172392  3.349770  0.297085  0.074816\n",
      "9   C006bfl1sim2  0.150240  3.267587  0.241322  0.063386\n",
      "10  C007bfl1sim2  0.218359  3.347309  0.229630  0.058828\n",
      "11  C008bfl1sim2  0.218880  3.315748  0.231954  0.060122\n",
      "12  C003bfl1sim3  0.280245  3.541621  0.616756  0.141172\n",
      "13  C004bfl1sim3  0.163884  3.252216  0.206792  0.055294\n",
      "14  C005bfl1sim3  0.288334  3.437309  0.229451  0.058991\n",
      "15  C006bfl1sim3  0.309839  3.454244  0.297560  0.075159\n",
      "16  C007bfl1sim3  0.195871  3.270035  0.209115  0.055654\n",
      "17  C008bfl1sim3  0.262436  4.196227  0.950917  0.164824\n",
      "18  C003bfl1sim4  0.221845  3.321086  0.194774  0.051322\n",
      "19  C004bfl1sim4  0.197460  3.329827  0.220151  0.057285\n",
      "20  C005bfl1sim4  0.247314  3.277859  0.234716  0.061664\n",
      "21  C006bfl1sim4  0.250019  3.265821  0.226367  0.059887\n",
      "22  C007bfl1sim4  0.168510  3.321979  0.233961  0.060550\n",
      "23  C008bfl1sim4  0.153146  3.271504  0.190712  0.050701\n",
      "24  C003bfl1sim5  0.216601  3.410904  0.302864  0.074750\n",
      "25  C004bfl1sim5  0.211653  3.301823  0.219940  0.057591\n",
      "26  C005bfl1sim5  0.177695  3.300959  0.227367  0.059546\n",
      "27  C006bfl1sim5  0.171643  3.326328  0.219586  0.057105\n",
      "28  C007bfl1sim5  0.302823  3.412869  0.261227  0.064586\n",
      "29  C008bfl1sim5  0.344662  3.257982  0.189921  0.050987\n",
      "30  C003bfl1sim6  0.156301  3.285247  0.265809  0.069348\n",
      "31  C004bfl1sim6  0.150559  3.391638  0.423630  0.101681\n",
      "32  C005bfl1sim6  0.171003  3.278378  0.233584  0.061084\n",
      "33  C006bfl1sim6  0.163042  3.367724  0.303180  0.075740\n",
      "34  C007bfl1sim6  0.236052  3.346776  0.325746  0.080155\n",
      "35  C008bfl1sim6  0.180751  3.279645  0.218174  0.057490\n"
     ]
    }
   ],
   "source": [
    "import numpy as np \n",
    "import pytraj as pt\n",
    "from scipy.spatial import distance\n",
    "from scipy import linalg\n",
    "from BetaPose import utils, view\n",
    "import pandas as pd \n",
    "\n",
    "def testmah(dist_mtx):\n",
    "  thecov = np.cov(dist_mtx); \n",
    "  theinv = linalg.inv(thecov); \n",
    "  meandist = dist_mtx.mean(axis=1); \n",
    "  # meandist = dist_mtx[:,0]; \n",
    "  outarray = []\n",
    "  for i in range(dist_mtx.shape[0]):\n",
    "    disti = dist_mtx[:, i]; \n",
    "    thedist = distance.mahalanobis(meandist, disti, theinv)\n",
    "    outarray.append(thedist)\n",
    "  return np.array(outarray)\n",
    "def MSD(arr):\n",
    "  return np.array(arr).std(axis=1).mean(); \n",
    "def MSVC(arr):\n",
    "  std = np.array(arr).std(axis=1); \n",
    "  mean = np.array(arr).mean(axis=1); \n",
    "  msvc = (std/mean).mean()\n",
    "  return min(msvc, 1); \n",
    "\n",
    "# def getmask(traj, mask): \n",
    "#   selected = traj.top.select(mask)\n",
    "#   selected_str = [f\"{i+1},\" for i in selected]\n",
    "#   finalmask = \"@\"+\"\".join(selected_str).strip(\",\")\n",
    "#   return finalmask\n",
    "  \n",
    "  \n",
    "\n",
    "STRIDE   = 1\n",
    "RMSLST = []\n",
    "DSTLST = []\n",
    "MSDLST = []\n",
    "MVCLST = []\n",
    "TRAJID = []\n",
    "c = 0\n",
    "for i in range(1, 7):\n",
    "  for j in range(3, 9): \n",
    "    trajid = f\"C{j:03d}bfl1sim{i}\"; \n",
    "    sessid = trajid[4:]; \n",
    "\n",
    "    trajfile = f\"/storage006/yzhang/clean_acgui/TMP_FOLDERS/{sessid}/singleMD/{trajid}/{trajid}_TRJ.nc\"; \n",
    "    topfile  = f\"/storage006/yzhang/clean_acgui/TMP_FOLDERS/{sessid}/singleMD/{trajid}/{trajid}_PDB.pdb\"; \n",
    "    \n",
    "    traj = pt.load(trajfile, top=topfile, stride=STRIDE);\n",
    "    traj.top.set_reference(traj[0]); \n",
    "    \n",
    "    mask_lig = utils.getmask(traj, \":68&!@CA,CB,C,N,O\"); \n",
    "    mask_superpose = utils.getmask(traj, f\"{mask_lig}<:6&@CA&!{mask_lig}\");\n",
    "    mask_lig_pair1 = utils.getmask(traj, f\"{mask_lig}&!@H=\"); \n",
    "    mask_lig_pair2 = utils.getmask(traj, f\"{mask_lig}<:6&@CA,C,N,O,CB&!{mask_lig}\"); \n",
    "    \n",
    "    traj.superpose(mask_superpose);\n",
    "    # traj.center(mask_superpose);\n",
    "\n",
    "    mask_lig_pair1 = utils.getmask(traj, f\"{mask_lig}&!@H=\")\n",
    "    mask_lig_pair2 = utils.getmask(traj, f\"{mask_lig}<:6&@CA,C,N,O,CB&!{mask_lig}\")\n",
    "    dist, info = utils.PairwiseDistance(traj, mask_lig_pair1, mask_lig_pair2)\n",
    "    dist += 0.0000001\n",
    "    \n",
    "    try: \n",
    "      mahs = testmah(dist)\n",
    "    except: \n",
    "      mahs = np.zeros([dist.shape[0]])\n",
    "    rmsds = pt.rmsd(traj, mask_lig_pair1); \n",
    "    \n",
    "    rmsd = rmsds.mean()\n",
    "    mdist = dist.mean(); \n",
    "    msd = MSD(dist); \n",
    "    msvc = MSVC(dist); \n",
    "    TRAJID.append(trajid); \n",
    "    RMSLST.append(rmsd)\n",
    "    DSTLST.append(mdist)\n",
    "    MSDLST.append(msd)\n",
    "    MVCLST.append(msvc)\n",
    "    print(f\"{trajid}:{c:>3d} - RMSD: {rmsd:.2f} | Dist: {mdist:>5.2f} | MSD: {msd:>6.3f} | MSVC: {msvc:4.3f} | Mah: {mahs.mean() - MSVC(dist)*mahs.mean():>5.2f} ;\")\n",
    "    c+=1\n",
    "    \n",
    "finallst = pd.DataFrame([])\n",
    "finallst[\"TRAJ\"] = TRAJID\n",
    "finallst[\"RMS\"] = RMSLST\n",
    "finallst[\"DIST\"] = DSTLST\n",
    "finallst[\"MSD\"] = MSDLST\n",
    "finallst[\"MSVC\"] = MVCLST\n",
    "print(finallst)"
   ]
  },
  {
   "cell_type": "code",
   "execution_count": 32,
   "id": "9cf84b55",
   "metadata": {},
   "outputs": [
    {
     "name": "stdout",
     "output_type": "stream",
     "text": [
      "0.16482411 0.12345735356211662\n",
      "[[0.00587643 0.00621004 0.00352814 0.00065761]\n",
      " [0.00621004 0.03153506 0.02470809 0.00401433]\n",
      " [0.00352814 0.02470809 0.02280823 0.00386671]\n",
      " [0.00065761 0.00401433 0.00386671 0.00067943]]\n",
      "[[   344.38737513   -278.08423867    737.46308123  -2887.29668535]\n",
      " [  -278.08423867    510.65476606  -1259.52486714   4420.12509972]\n",
      " [   737.46308123  -1259.52486714   4366.85675716 -18124.36454795]\n",
      " [ -2887.29668535   4420.12509972 -18124.36454795  81298.6938147 ]]\n",
      "0.1574791040518532 0.054572058462214613\n"
     ]
    },
    {
     "data": {
      "text/plain": [
       "<matplotlib.collections.PathCollection at 0x7fead6505bb0>"
      ]
     },
     "execution_count": 32,
     "metadata": {},
     "output_type": "execute_result"
    },
    {
     "data": {
      "image/png": "[encoded data removed]",
      "text/plain": [
       "<Figure size 640x480 with 1 Axes>"
      ]
     },
     "metadata": {},
     "output_type": "display_data"
    }
   ],
   "source": [
    "from sklearn.preprocessing import normalize\n",
    "# import seaborn as sns; sns.set()\n",
    "import matplotlib.pyplot as plt \n",
    "# plt.scatter(finallst.MSD, finallst.RMS)\n",
    "# plt.scatter(finallst.MSVC, finallst.RMS)\n",
    "# plt.scatter(finallst.MSVC, finallst.MSD)\n",
    "# plt.scatter(finallst.MSVC, finallst.DIST)\n",
    "# sns.pairplot(finallst)\n",
    "vals = finallst[[\"RMS\", \"DIST\", \"MSD\", \"MSVC\"]].to_numpy().T\n",
    "\n",
    "\n",
    "print(finallst.MSVC.max(), finallst.MSVC.mean() + 2*finallst.MSVC.std())\n",
    "\n",
    "\n",
    "def reject_outliers(data, m=2):\n",
    "  finallst.MSVC.mean() + 2*finallst.MSVC.std()\n",
    "#   np.where(data<)\n",
    "\n",
    "\n",
    "\n",
    "\n",
    "vals_norm = normalize(vals)\n",
    "print(np.cov(vals))\n",
    "print(linalg.inv(np.cov(vals)))\n",
    "# vals_norm = vals\n",
    "print(vals_norm.mean(), vals_norm.std())\n",
    "\n",
    "plt.scatter(vals_norm[3,:], vals_norm[0,:])\n",
    "plt.scatter(vals_norm[3,:], vals_norm[1,:])\n",
    "plt.scatter(vals_norm[3,:], vals_norm[2,:])\n",
    "\n",
    "\n",
    "# plt.pcolormesh(range(vals_norm.shape[1]), range(vals_norm.shape[0]), vals_norm)\n"
   ]
  },
  {
   "cell_type": "code",
   "execution_count": 34,
   "id": "9d879048",
   "metadata": {},
   "outputs": [
    {
     "data": {
      "text/plain": [
       "[<matplotlib.lines.Line2D at 0x7f6b5fd7e760>]"
      ]
     },
     "execution_count": 34,
     "metadata": {},
     "output_type": "execute_result"
    },
    {
     "data": {
      "image/png": "[encoded data removed]",
      "text/plain": [
       "<Figure size 640x480 with 1 Axes>"
      ]
     },
     "metadata": {},
     "output_type": "display_data"
    }
   ],
   "source": [
    "plt.plot(rmsds)"
   ]
  },
  {
   "cell_type": "code",
   "execution_count": 2,
   "id": "8d7fa3d1",
   "metadata": {},
   "outputs": [
    {
     "data": {
      "application/vnd.jupyter.widget-view+json": {
       "model_id": "cfc4d0bb3a59446ab380d798ff6a645e",
       "version_major": 2,
       "version_minor": 0
      },
      "text/plain": [
       "IntProgress(value=0, description='Rendering ...', max=200)"
      ]
     },
     "metadata": {},
     "output_type": "display_data"
    }
   ],
   "source": [
    "from nglview.contrib.movie import MovieMaker\n",
    "download_folder = \"/home/miemie/Downloads\"\n",
    "output = 'test.gif'\n",
    "mov = MovieMaker(tv.viewer, download_folder=download_folder, in_memory=True, output=output)\n",
    "mov.make()"
   ]
  },
  {
   "cell_type": "code",
   "execution_count": 5,
   "id": "e1ea2f0c",
   "metadata": {},
   "outputs": [
    {
     "ename": "ModuleNotFoundError",
     "evalue": "No module named 'moviepy'",
     "output_type": "error",
     "traceback": [
      "\u001b[0;31m---------------------------------------------------------------------------\u001b[0m",
      "\u001b[0;31mModuleNotFoundError\u001b[0m                       Traceback (most recent call last)",
      "Cell \u001b[0;32mIn [5], line 12\u001b[0m\n\u001b[1;32m     10\u001b[0m     \u001b[38;5;66;03m# make sure to let NGL spending enough time to render before going to next frame\u001b[39;00m\n\u001b[1;32m     11\u001b[0m     sleep(\u001b[38;5;241m1.0\u001b[39m)\n\u001b[0;32m---> 12\u001b[0m \u001b[38;5;28;01mimport\u001b[39;00m \u001b[38;5;21;01mmoviepy\u001b[39;00m\u001b[38;5;21;01m.\u001b[39;00m\u001b[38;5;21;01meditor\u001b[39;00m \u001b[38;5;28;01mas\u001b[39;00m \u001b[38;5;21;01mmpy\u001b[39;00m\n",
      "\u001b[0;31mModuleNotFoundError\u001b[0m: No module named 'moviepy'"
     ]
    }
   ],
   "source": [
    "from time import sleep\n",
    "\n",
    "# to save time for this tutorial, we make a movie with only 50 frames\n",
    "for frame in range(0, 50):\n",
    "    # set frame to update coordinates\n",
    "    tv.viewer.frame = frame\n",
    "    # make sure to let NGL spending enough time to update coordinates\n",
    "    sleep(0.5)\n",
    "    tv.viewer.download_image(filename=f'image{frame}.png')\n",
    "    # make sure to let NGL spending enough time to render before going to next frame\n",
    "    sleep(1.0)\n",
    "\n"
   ]
  },
  {
   "cell_type": "code",
   "execution_count": 4,
   "id": "414e5785",
   "metadata": {},
   "outputs": [
    {
     "name": "stdout",
     "output_type": "stream",
     "text": [
      "['/home/miemie/Downloads/image0.png', '/home/miemie/Downloads/image1.png', '/home/miemie/Downloads/image2.png', '/home/miemie/Downloads/image3.png', '/home/miemie/Downloads/image4.png', '/home/miemie/Downloads/image5.png', '/home/miemie/Downloads/image6.png', '/home/miemie/Downloads/image7.png', '/home/miemie/Downloads/image8.png', '/home/miemie/Downloads/image9.png', '/home/miemie/Downloads/image10.png', '/home/miemie/Downloads/image11.png', '/home/miemie/Downloads/image12.png', '/home/miemie/Downloads/image13.png', '/home/miemie/Downloads/image14.png', '/home/miemie/Downloads/image15.png', '/home/miemie/Downloads/image16.png', '/home/miemie/Downloads/image17.png', '/home/miemie/Downloads/image18.png', '/home/miemie/Downloads/image19.png', '/home/miemie/Downloads/image20.png', '/home/miemie/Downloads/image21.png', '/home/miemie/Downloads/image22.png', '/home/miemie/Downloads/image23.png', '/home/miemie/Downloads/image24.png', '/home/miemie/Downloads/image25.png', '/home/miemie/Downloads/image26.png', '/home/miemie/Downloads/image27.png', '/home/miemie/Downloads/image28.png', '/home/miemie/Downloads/image29.png', '/home/miemie/Downloads/image30.png', '/home/miemie/Downloads/image31.png', '/home/miemie/Downloads/image32.png', '/home/miemie/Downloads/image33.png', '/home/miemie/Downloads/image34.png', '/home/miemie/Downloads/image35.png', '/home/miemie/Downloads/image36.png', '/home/miemie/Downloads/image37.png', '/home/miemie/Downloads/image38.png', '/home/miemie/Downloads/image39.png', '/home/miemie/Downloads/image40.png', '/home/miemie/Downloads/image41.png', '/home/miemie/Downloads/image42.png', '/home/miemie/Downloads/image43.png', '/home/miemie/Downloads/image44.png', '/home/miemie/Downloads/image45.png', '/home/miemie/Downloads/image46.png', '/home/miemie/Downloads/image47.png', '/home/miemie/Downloads/image48.png', '/home/miemie/Downloads/image49.png']\n"
     ]
    },
    {
     "ename": "OSError",
     "evalue": "No such file: '/home/miemie/Downloads/image0.png'",
     "output_type": "error",
     "traceback": [
      "\u001b[0;31m---------------------------------------------------------------------------\u001b[0m",
      "\u001b[0;31mOSError\u001b[0m                                   Traceback (most recent call last)",
      "Cell \u001b[0;32mIn [4], line 9\u001b[0m\n\u001b[1;32m      6\u001b[0m \u001b[38;5;28mprint\u001b[39m(imagefiles)\n\u001b[1;32m      8\u001b[0m frame_per_second \u001b[38;5;241m=\u001b[39m \u001b[38;5;241m8\u001b[39m\n\u001b[0;32m----> 9\u001b[0m im \u001b[38;5;241m=\u001b[39m \u001b[43mmpy\u001b[49m\u001b[38;5;241;43m.\u001b[39;49m\u001b[43mImageSequenceClip\u001b[49m\u001b[43m(\u001b[49m\u001b[43mimagefiles\u001b[49m\u001b[43m,\u001b[49m\u001b[43m \u001b[49m\u001b[43mfps\u001b[49m\u001b[38;5;241;43m=\u001b[39;49m\u001b[43mframe_per_second\u001b[49m\u001b[43m)\u001b[49m\n\u001b[1;32m     10\u001b[0m im\u001b[38;5;241m.\u001b[39mwrite_gif(\u001b[38;5;124m'\u001b[39m\u001b[38;5;124mmy_movie.gif\u001b[39m\u001b[38;5;124m'\u001b[39m, fps\u001b[38;5;241m=\u001b[39mframe_per_second)\n",
      "File \u001b[0;32m~/miniconda3/envs/doana/lib/python3.8/site-packages/moviepy/video/io/ImageSequenceClip.py:104\u001b[0m, in \u001b[0;36mImageSequenceClip.__init__\u001b[0;34m(self, sequence, fps, durations, with_mask, ismask, load_images)\u001b[0m\n\u001b[1;32m    100\u001b[0m         \u001b[38;5;28mself\u001b[39m\u001b[38;5;241m.\u001b[39mlastindex \u001b[38;5;241m=\u001b[39m index\n\u001b[1;32m    102\u001b[0m     \u001b[38;5;28;01mreturn\u001b[39;00m \u001b[38;5;28mself\u001b[39m\u001b[38;5;241m.\u001b[39mlastimage\n\u001b[0;32m--> 104\u001b[0m \u001b[38;5;28;01mif\u001b[39;00m with_mask \u001b[38;5;129;01mand\u001b[39;00m (\u001b[43mmake_frame\u001b[49m\u001b[43m(\u001b[49m\u001b[38;5;241;43m0\u001b[39;49m\u001b[43m)\u001b[49m\u001b[38;5;241m.\u001b[39mshape[\u001b[38;5;241m2\u001b[39m]\u001b[38;5;241m==\u001b[39m\u001b[38;5;241m4\u001b[39m):\n\u001b[1;32m    106\u001b[0m     \u001b[38;5;28mself\u001b[39m\u001b[38;5;241m.\u001b[39mmask \u001b[38;5;241m=\u001b[39m VideoClip(ismask\u001b[38;5;241m=\u001b[39m\u001b[38;5;28;01mTrue\u001b[39;00m)\n\u001b[1;32m    108\u001b[0m     \u001b[38;5;28;01mdef\u001b[39;00m \u001b[38;5;21mmask_make_frame\u001b[39m(t):\n",
      "File \u001b[0;32m~/miniconda3/envs/doana/lib/python3.8/site-packages/moviepy/video/io/ImageSequenceClip.py:99\u001b[0m, in \u001b[0;36mImageSequenceClip.__init__.<locals>.make_frame\u001b[0;34m(t)\u001b[0m\n\u001b[1;32m     96\u001b[0m index \u001b[38;5;241m=\u001b[39m find_image_index(t)\n\u001b[1;32m     98\u001b[0m \u001b[38;5;28;01mif\u001b[39;00m index \u001b[38;5;241m!=\u001b[39m \u001b[38;5;28mself\u001b[39m\u001b[38;5;241m.\u001b[39mlastindex:\n\u001b[0;32m---> 99\u001b[0m     \u001b[38;5;28mself\u001b[39m\u001b[38;5;241m.\u001b[39mlastimage \u001b[38;5;241m=\u001b[39m \u001b[43mimread\u001b[49m\u001b[43m(\u001b[49m\u001b[38;5;28;43mself\u001b[39;49m\u001b[38;5;241;43m.\u001b[39;49m\u001b[43msequence\u001b[49m\u001b[43m[\u001b[49m\u001b[43mindex\u001b[49m\u001b[43m]\u001b[49m\u001b[43m)\u001b[49m[:,:,:\u001b[38;5;241m3\u001b[39m] \n\u001b[1;32m    100\u001b[0m     \u001b[38;5;28mself\u001b[39m\u001b[38;5;241m.\u001b[39mlastindex \u001b[38;5;241m=\u001b[39m index\n\u001b[1;32m    102\u001b[0m \u001b[38;5;28;01mreturn\u001b[39;00m \u001b[38;5;28mself\u001b[39m\u001b[38;5;241m.\u001b[39mlastimage\n",
      "File \u001b[0;32m~/miniconda3/envs/doana/lib/python3.8/site-packages/imageio/core/functions.py:185\u001b[0m, in \u001b[0;36mimread\u001b[0;34m(uri, format, **kwargs)\u001b[0m\n\u001b[1;32m    162\u001b[0m \u001b[38;5;124;03m\"\"\" imread(uri, format=None, **kwargs)\u001b[39;00m\n\u001b[1;32m    163\u001b[0m \u001b[38;5;124;03m\u001b[39;00m\n\u001b[1;32m    164\u001b[0m \u001b[38;5;124;03mReads an image from the specified file. Returns a numpy array, which\u001b[39;00m\n\u001b[0;32m   (...)\u001b[0m\n\u001b[1;32m    181\u001b[0m \u001b[38;5;124;03m    to see what arguments are available for a particular format.\u001b[39;00m\n\u001b[1;32m    182\u001b[0m \u001b[38;5;124;03m\"\"\"\u001b[39;00m \n\u001b[1;32m    184\u001b[0m \u001b[38;5;66;03m# Get reader and read first\u001b[39;00m\n\u001b[0;32m--> 185\u001b[0m reader \u001b[38;5;241m=\u001b[39m \u001b[43mread\u001b[49m\u001b[43m(\u001b[49m\u001b[43muri\u001b[49m\u001b[43m,\u001b[49m\u001b[43m \u001b[49m\u001b[38;5;28;43mformat\u001b[39;49m\u001b[43m,\u001b[49m\u001b[43m \u001b[49m\u001b[38;5;124;43m'\u001b[39;49m\u001b[38;5;124;43mi\u001b[39;49m\u001b[38;5;124;43m'\u001b[39;49m\u001b[43m,\u001b[49m\u001b[43m \u001b[49m\u001b[38;5;241;43m*\u001b[39;49m\u001b[38;5;241;43m*\u001b[39;49m\u001b[43mkwargs\u001b[49m\u001b[43m)\u001b[49m\n\u001b[1;32m    186\u001b[0m \u001b[38;5;28;01mwith\u001b[39;00m reader:\n\u001b[1;32m    187\u001b[0m     \u001b[38;5;28;01mreturn\u001b[39;00m reader\u001b[38;5;241m.\u001b[39mget_data(\u001b[38;5;241m0\u001b[39m)\n",
      "File \u001b[0;32m~/miniconda3/envs/doana/lib/python3.8/site-packages/imageio/core/functions.py:99\u001b[0m, in \u001b[0;36mget_reader\u001b[0;34m(uri, format, mode, **kwargs)\u001b[0m\n\u001b[1;32m     75\u001b[0m \u001b[38;5;124;03m\"\"\" get_reader(uri, format=None, mode='?', **kwargs)\u001b[39;00m\n\u001b[1;32m     76\u001b[0m \u001b[38;5;124;03m\u001b[39;00m\n\u001b[1;32m     77\u001b[0m \u001b[38;5;124;03mReturns a :class:`.Reader` object which can be used to read data\u001b[39;00m\n\u001b[0;32m   (...)\u001b[0m\n\u001b[1;32m     95\u001b[0m \u001b[38;5;124;03m    to see what arguments are available for a particular format.\u001b[39;00m\n\u001b[1;32m     96\u001b[0m \u001b[38;5;124;03m\"\"\"\u001b[39;00m \n\u001b[1;32m     98\u001b[0m \u001b[38;5;66;03m# Create request object\u001b[39;00m\n\u001b[0;32m---> 99\u001b[0m request \u001b[38;5;241m=\u001b[39m \u001b[43mRequest\u001b[49m\u001b[43m(\u001b[49m\u001b[43muri\u001b[49m\u001b[43m,\u001b[49m\u001b[43m \u001b[49m\u001b[38;5;124;43m'\u001b[39;49m\u001b[38;5;124;43mr\u001b[39;49m\u001b[38;5;124;43m'\u001b[39;49m\u001b[43m \u001b[49m\u001b[38;5;241;43m+\u001b[39;49m\u001b[43m \u001b[49m\u001b[43mmode\u001b[49m\u001b[43m,\u001b[49m\u001b[43m \u001b[49m\u001b[38;5;241;43m*\u001b[39;49m\u001b[38;5;241;43m*\u001b[39;49m\u001b[43mkwargs\u001b[49m\u001b[43m)\u001b[49m\n\u001b[1;32m    101\u001b[0m \u001b[38;5;66;03m# Get format\u001b[39;00m\n\u001b[1;32m    102\u001b[0m \u001b[38;5;28;01mif\u001b[39;00m \u001b[38;5;28mformat\u001b[39m \u001b[38;5;129;01mis\u001b[39;00m \u001b[38;5;129;01mnot\u001b[39;00m \u001b[38;5;28;01mNone\u001b[39;00m:\n",
      "File \u001b[0;32m~/miniconda3/envs/doana/lib/python3.8/site-packages/imageio/core/request.py:118\u001b[0m, in \u001b[0;36mRequest.__init__\u001b[0;34m(self, uri, mode, **kwargs)\u001b[0m\n\u001b[1;32m    115\u001b[0m     \u001b[38;5;28;01mraise\u001b[39;00m \u001b[38;5;167;01mValueError\u001b[39;00m(\u001b[38;5;124m'\u001b[39m\u001b[38;5;124mRequest requires mode[1] to be in \u001b[39m\u001b[38;5;124m\"\u001b[39m\u001b[38;5;124miIvV?\u001b[39m\u001b[38;5;124m\"\u001b[39m\u001b[38;5;124m'\u001b[39m)\n\u001b[1;32m    117\u001b[0m \u001b[38;5;66;03m# Parse what was given\u001b[39;00m\n\u001b[0;32m--> 118\u001b[0m \u001b[38;5;28;43mself\u001b[39;49m\u001b[38;5;241;43m.\u001b[39;49m\u001b[43m_parse_uri\u001b[49m\u001b[43m(\u001b[49m\u001b[43muri\u001b[49m\u001b[43m)\u001b[49m\n",
      "File \u001b[0;32m~/miniconda3/envs/doana/lib/python3.8/site-packages/imageio/core/request.py:238\u001b[0m, in \u001b[0;36mRequest._parse_uri\u001b[0;34m(self, uri)\u001b[0m\n\u001b[1;32m    235\u001b[0m \u001b[38;5;28;01mif\u001b[39;00m is_read_request:\n\u001b[1;32m    236\u001b[0m     \u001b[38;5;66;03m# Reading: check that the file exists (but is allowed a dir)\u001b[39;00m\n\u001b[1;32m    237\u001b[0m     \u001b[38;5;28;01mif\u001b[39;00m \u001b[38;5;129;01mnot\u001b[39;00m os\u001b[38;5;241m.\u001b[39mpath\u001b[38;5;241m.\u001b[39mexists(fn):\n\u001b[0;32m--> 238\u001b[0m         \u001b[38;5;28;01mraise\u001b[39;00m \u001b[38;5;167;01mIOError\u001b[39;00m(\u001b[38;5;124m\"\u001b[39m\u001b[38;5;124mNo such file: \u001b[39m\u001b[38;5;124m'\u001b[39m\u001b[38;5;132;01m%s\u001b[39;00m\u001b[38;5;124m'\u001b[39m\u001b[38;5;124m\"\u001b[39m \u001b[38;5;241m%\u001b[39m fn)\n\u001b[1;32m    239\u001b[0m \u001b[38;5;28;01melse\u001b[39;00m:\n\u001b[1;32m    240\u001b[0m     \u001b[38;5;66;03m# Writing: check that the directory to write to does exist\u001b[39;00m\n\u001b[1;32m    241\u001b[0m     dn \u001b[38;5;241m=\u001b[39m os\u001b[38;5;241m.\u001b[39mpath\u001b[38;5;241m.\u001b[39mdirname(fn)\n",
      "\u001b[0;31mOSError\u001b[0m: No such file: '/home/miemie/Downloads/image0.png'"
     ]
    }
   ],
   "source": [
    "# import moviepy\n",
    "import moviepy.editor as mpy\n",
    "\n",
    "\n",
    "imagefiles = [f\"/home/miemie/Downloads/image{i}.png\" for i in range(0, 50, 1)]\n",
    "print(imagefiles)\n",
    "\n",
    "frame_per_second = 8\n",
    "im = mpy.ImageSequenceClip(imagefiles, fps=frame_per_second)\n",
    "im.write_gif('my_movie.gif', fps=frame_per_second)\n"
   ]
  }
 ],
 "metadata": {
  "kernelspec": {
   "display_name": "Python 3 (ipykernel)",
   "language": "python",
   "name": "python3"
  },
  "language_info": {
   "codemirror_mode": {
    "name": "ipython",
    "version": 3
   },
   "file_extension": ".py",
   "mimetype": "text/x-python",
   "name": "python",
   "nbconvert_exporter": "python",
   "pygments_lexer": "ipython3",
   "version": "3.8.10"
  }
 },
 "nbformat": 4,
 "nbformat_minor": 5
}
