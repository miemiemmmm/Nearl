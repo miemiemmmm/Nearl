{
 "cells": [
  {
   "cell_type": "markdown",
   "id": "de9c2f77",
   "metadata": {},
   "source": [
    "# Plot the confusion matrix of the residue retrieval; "
   ]
  },
  {
   "cell_type": "code",
   "execution_count": null,
   "id": "b243646f",
   "metadata": {
    "scrolled": false
   },
   "outputs": [],
   "source": [
    "import numpy as np \n",
    "import matplotlib.pyplot as plt \n",
    "\n",
    "filename = \"confusion_matrix_single_residue_retrieval_0,1,2,3,4,5,6,7,8,9,10,11,12,13,14,15,16,17,18,19,20,21,22,23,24,25,26,27,28,29,30,31,32,33,34,35.npy\"\n",
    "results = np.load(filename, allow_pickle=True)\n",
    "\n",
    "\n",
    "result_summary = np.zeros((20,20))\n",
    "for i in results: \n",
    "    result_summary += i \n",
    "#     print(np.sum(result_summary, axis=1))\n",
    "\n",
    "print(f\"{np.sum(result_summary)} results\")\n",
    "\n",
    "for idx, row in enumerate(result_summary): \n",
    "    result_summary[idx,:] = row/np.sum(row);\n",
    "\n",
    "# for rowidx, rowsum in  enumerate(np.sum(result_summary, axis=1)):\n",
    "#     result_summary[i,:] = result_summary[i,:] / rowsum\n",
    "    \n",
    "thedict = {'ALA': 0, 'ARG': 1, 'ASN': 2, 'ASP': 3, 'CYS': 4, 'GLU': 5, 'GLN': 6, 'GLY': 7, 'HIS': 8, 'ILE': 9,\n",
    "           'LEU': 10, 'LYS': 11, 'MET': 12, 'PHE': 13, 'PRO': 14, 'SER': 15, 'THR': 16, 'TRP': 17, 'TYR': 18,\n",
    "           'VAL': 19}\n",
    "\n",
    "\n",
    "plt.figure(figsize=(8, 8))\n",
    "plt.imshow(result_summary, cmap=\"inferno\", vmin=0, vmax=1)\n",
    "for i in range(result_summary.shape[0]):\n",
    "    for j in range(result_summary.shape[1]):\n",
    "        if result_summary[i, j] > 0.01:\n",
    "            plt.text(j, i, f\"{result_summary[i, j]*100:.1f}\", \n",
    "                     ha=\"center\", \n",
    "                     va=\"center\", \n",
    "                     fontdict = {'family': 'serif',\n",
    "                        'color':  '#A8E4B1',\n",
    "                        'weight': 'bold',\n",
    "                        'style': 'italic',\n",
    "                        'size': 10,\n",
    "                       }\n",
    "                    )\n",
    "\n",
    "        \n",
    "plt.xticks(range(len(thedict.keys())), list(thedict.keys()), rotation=-45)\n",
    "plt.yticks(range(len(thedict.keys())), list(thedict.keys()))\n",
    "plt.ylabel(\"Reference residue type\")\n",
    "plt.xlabel(f\"Retrieved guess from feature: {filename.split('_')[-1].split('.')[0]}\")\n",
    "# plt.xticklabels()\n",
    "plt.show()\n",
    "\n",
    "\n",
    "\n"
   ]
  },
  {
   "cell_type": "code",
   "execution_count": null,
   "id": "21bab1e9",
   "metadata": {},
   "outputs": [],
   "source": []
  },
  {
   "cell_type": "code",
   "execution_count": null,
   "id": "097ae3a4",
   "metadata": {
    "scrolled": false
   },
   "outputs": [],
   "source": [
    "import os\n",
    "import numpy as np \n",
    "import matplotlib.pyplot as plt \n",
    "\n",
    "files = \"\"\n",
    "files = files.split(\"%\")\n",
    "resname_list = []\n",
    "result_arr = []\n",
    "for i in files:\n",
    "    name = os.path.split(i)[-1][:3]\n",
    "    resi = np.load(i, allow_pickle=True)\n",
    "    result_arr.append(resi)\n",
    "    resname_list += [name]*resi.shape[0]\n",
    "result_arr = np.concatenate(result_arr, axis=0)\n",
    "resname_arr = np.array(resname_list)\n",
    "print(result_arr)\n",
    "# 5.003491038990035], stds: [1.91258667\n",
    "res_norm = (result_arr[:,[1]]-5) / 1.912\n",
    "points = []\n",
    "for i in set([str(_) for _ in resname_arr.tolist()]): \n",
    "    ne_c = 0\n",
    "    idxs = np.where(resname_arr == i)[0]\n",
    "    values = np.array(result_arr[:,[1]].ravel(), dtype=int)\n",
    "    for idx in idxs:\n",
    "        if values[idx] != values[idxs[0]]: \n",
    "            ne_c += 1\n",
    "            \n",
    "    print(f\"Resname: {i}(ne: {ne_c:4}/{len(idxs):4}): mean{res_norm[idxs].mean():8.3f}, std: {result_arr[:,1][idxs].std():8.3f}\")\n",
    "    points.append(res_norm[idxs].mean())\n",
    "    \n",
    "#     print(result_arr[np.where(resname_arr == i)])\n",
    "\n",
    "points.sort()\n",
    "plt.plot(points)\n",
    "\n",
    "x = np.arange(0, 12)\n",
    "zscore = (x-5.003491038990035)/1.91258667\n",
    "plt.scatter(x, zscore)\n",
    "plt.show()\n"
   ]
  }
 ],
 "metadata": {
  "kernelspec": {
   "display_name": "Python 3 (ipykernel)",
   "language": "python",
   "name": "python3"
  },
  "language_info": {
   "codemirror_mode": {
    "name": "ipython",
    "version": 3
   },
   "file_extension": ".py",
   "mimetype": "text/x-python",
   "name": "python",
   "nbconvert_exporter": "python",
   "pygments_lexer": "ipython3",
   "version": "3.9.17"
  }
 },
 "nbformat": 4,
 "nbformat_minor": 5
}
