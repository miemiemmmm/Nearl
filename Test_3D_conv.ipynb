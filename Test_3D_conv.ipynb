{
 "cells": [
  {
   "cell_type": "markdown",
   "id": "60a6b62c",
   "metadata": {},
   "source": [
    "# Test_3D_conv"
   ]
  },
  {
   "cell_type": "code",
   "execution_count": 3,
   "id": "d268e904",
   "metadata": {},
   "outputs": [],
   "source": [
    "# importing the libraries\n",
    "import pandas as pd\n",
    "import numpy as np\n",
    "from tqdm import tqdm\n",
    "import os\n",
    "\n",
    "# for reading and displaying images\n",
    "# from skimage.io import imread\n",
    "import matplotlib.pyplot as plt\n",
    "\n",
    "# for creating validation set\n",
    "from sklearn.model_selection import train_test_split\n",
    "# for evaluating the model\n",
    "from sklearn.metrics import accuracy_score\n",
    "\n",
    "\n",
    "# PyTorch libraries and modules\n",
    "import torch\n",
    "from torch.autograd import Variable\n",
    "import torch.nn as nn\n",
    "import torch.nn.functional as F\n",
    "from torch.optim import *\n",
    "import h5py\n",
    "# from plot3D import *\n",
    "\n",
    "def array_to_color(array, cmap=\"Oranges\"):\n",
    "  s_m = plt.cm.ScalarMappable(cmap=cmap)\n",
    "  return s_m.to_rgba(array)[:,:-1]\n",
    "\n",
    "def rgb_data_transform(data):\n",
    "  data_t = []\n",
    "  for i in range(data.shape[0]):\n",
    "    data_t.append(array_to_color(data[i]).reshape(16, 16, 16, 3))\n",
    "  return np.asarray(data_t, dtype=np.float32)\n",
    "  "
   ]
  },
  {
   "cell_type": "code",
   "execution_count": 2,
   "id": "ce452d81",
   "metadata": {},
   "outputs": [],
   "source": []
  },
  {
   "cell_type": "code",
   "execution_count": 4,
   "id": "6444d181",
   "metadata": {},
   "outputs": [
    {
     "name": "stdout",
     "output_type": "stream",
     "text": [
      "(10000, 16, 16, 16, 3)\n"
     ]
    }
   ],
   "source": [
    "with h5py.File(\"/home/miemie/Dropbox/PhD/project_MD_ML/full_dataset_vectors.h5\", \"r\") as hf:\n",
    "#   print(dir(hf))  # H5 is like a dictionary \n",
    "#   print(hf.keys())\n",
    "  # Data is stored as 1D array. \n",
    "  # Should reshape after loading \n",
    "  X_train = hf[\"X_train\"][:]\n",
    "  targets_train = hf[\"y_train\"][:]\n",
    "  X_test = hf[\"X_test\"][:] \n",
    "  targets_test = hf[\"y_test\"][:]  \n",
    "\n",
    "\n",
    "# Determine sample shape\n",
    "sample_shape = (16, 16, 16, 3)\n",
    "\n",
    "# Reshape data into 3D format\n",
    "X_train = rgb_data_transform(X_train)\n",
    "print(X_train.shape)\n",
    "X_test = rgb_data_transform(X_test)\n",
    "\n",
    "\n",
    "train_x = torch.from_numpy(X_train).float()\n",
    "train_y = torch.from_numpy(targets_train).long()\n",
    "test_x = torch.from_numpy(X_test).float()\n",
    "test_y = torch.from_numpy(targets_test).long()\n",
    "# The data set is shaped (10000, 16, 16, 16, 3)\n",
    "\n"
   ]
  },
  {
   "cell_type": "code",
   "execution_count": 25,
   "id": "939a43e8",
   "metadata": {},
   "outputs": [
    {
     "data": {
      "text/plain": [
       "12288"
      ]
     },
     "execution_count": 25,
     "metadata": {},
     "output_type": "execute_result"
    }
   ],
   "source": [
    "16**3*3"
   ]
  },
  {
   "cell_type": "code",
   "execution_count": 6,
   "id": "677c656f",
   "metadata": {},
   "outputs": [],
   "source": [
    "batch_size = 100 #We pick beforehand a batch_size that we will use for the training\n",
    "\n",
    "# Pytorch train and test sets\n",
    "# torch.utils.data.TensorDataset is like the zip to bind train_x and train_y\n",
    "train = torch.utils.data.TensorDataset(train_x, train_y)\n",
    "test = torch.utils.data.TensorDataset(test_x, test_y)\n",
    "# data loader\n",
    "train_loader = torch.utils.data.DataLoader(train, batch_size = batch_size, shuffle = False)\n",
    "test_loader = torch.utils.data.DataLoader(test, batch_size = batch_size, shuffle = False)\n"
   ]
  },
  {
   "cell_type": "code",
   "execution_count": 15,
   "id": "d47a2656",
   "metadata": {},
   "outputs": [
    {
     "name": "stdout",
     "output_type": "stream",
     "text": [
      "CNNModel(\n",
      "  (conv_layer1): Sequential(\n",
      "    (0): Conv3d(3, 32, kernel_size=(3, 3, 3), stride=(1, 1, 1))\n",
      "    (1): LeakyReLU(negative_slope=0.01)\n",
      "    (2): MaxPool3d(kernel_size=(2, 2, 2), stride=(2, 2, 2), padding=0, dilation=1, ceil_mode=False)\n",
      "  )\n",
      "  (conv_layer2): Sequential(\n",
      "    (0): Conv3d(32, 64, kernel_size=(3, 3, 3), stride=(1, 1, 1))\n",
      "    (1): LeakyReLU(negative_slope=0.01)\n",
      "    (2): MaxPool3d(kernel_size=(2, 2, 2), stride=(2, 2, 2), padding=0, dilation=1, ceil_mode=False)\n",
      "  )\n",
      "  (fc1): Linear(in_features=512, out_features=128, bias=True)\n",
      "  (fc2): Linear(in_features=128, out_features=10, bias=True)\n",
      "  (relu): LeakyReLU(negative_slope=0.01)\n",
      "  (batch): BatchNorm1d(128, eps=1e-05, momentum=0.1, affine=True, track_running_stats=True)\n",
      "  (drop): Dropout(p=0.15, inplace=False)\n",
      ")\n"
     ]
    }
   ],
   "source": [
    "num_classes = 10\n",
    "\n",
    "# Create CNN Model\n",
    "class CNNModel(nn.Module):\n",
    "  def __init__(self):\n",
    "    super(CNNModel, self).__init__()\n",
    "    self.conv_layer1 = self._conv_layer_set(3, 32)\n",
    "    self.conv_layer2 = self._conv_layer_set(32, 64)\n",
    "    self.fc1 = nn.Linear(2**3*64, 128)\n",
    "    self.fc2 = nn.Linear(128, num_classes)\n",
    "    self.relu = nn.LeakyReLU()\n",
    "    self.batch = nn.BatchNorm1d(128)\n",
    "    self.drop = nn.Dropout(p=0.15)\n",
    "    \n",
    "\n",
    "  def _conv_layer_set(self, in_c, out_c):\n",
    "    conv_layer = nn.Sequential(\n",
    "      nn.Conv3d(in_c, out_c, kernel_size=(3, 3, 3), padding=0),\n",
    "      nn.LeakyReLU(),\n",
    "      nn.MaxPool3d((2, 2, 2)),\n",
    "    )\n",
    "    return conv_layer\n",
    "\n",
    "\n",
    "  def forward(self, x):\n",
    "    # Set 1\n",
    "    out = self.conv_layer1(x)\n",
    "    print(out.shape)\n",
    "    out = self.conv_layer2(out)\n",
    "    print(out.shape)\n",
    "    out = out.view(out.size(0), -1)\n",
    "    print(out.shape)\n",
    "    out = self.fc1(out)\n",
    "    print(out.shape)\n",
    "    out = self.relu(out)\n",
    "    print(out.shape)\n",
    "    out = self.batch(out)\n",
    "    print(out.shape)\n",
    "    out = self.drop(out)\n",
    "    print(out.shape)\n",
    "    out = self.fc2(out)\n",
    "    print(out.shape)\n",
    "    return out\n",
    "      \n",
    "#Definition of hyperparameters\n",
    "n_iters = 4500\n",
    "\n",
    "\n",
    "\n",
    "num_epochs = n_iters / (len(train_x) / batch_size)\n",
    "num_epochs = int(num_epochs)\n",
    "\n",
    "# Create CNN\n",
    "model = CNNModel()\n",
    "#model.cuda()\n",
    "print(model)\n",
    "\n",
    "# Cross Entropy Loss \n",
    "error = nn.CrossEntropyLoss()\n",
    "\n",
    "# SGD Optimizer\n",
    "learning_rate = 0.001\n",
    "optimizer = torch.optim.Adam(model.parameters(), lr=learning_rate)"
   ]
  },
  {
   "cell_type": "code",
   "execution_count": 1,
   "id": "02a2b8db",
   "metadata": {
    "scrolled": false
   },
   "outputs": [
    {
     "ename": "NameError",
     "evalue": "name 'num_epochs' is not defined",
     "output_type": "error",
     "traceback": [
      "\u001b[0;31m---------------------------------------------------------------------------\u001b[0m",
      "\u001b[0;31mNameError\u001b[0m                                 Traceback (most recent call last)",
      "\u001b[0;32m/tmp/ipykernel_572481/3870270929.py\u001b[0m in \u001b[0;36m<module>\u001b[0;34m\u001b[0m\n\u001b[1;32m      3\u001b[0m \u001b[0miteration_list\u001b[0m \u001b[0;34m=\u001b[0m \u001b[0;34m[\u001b[0m\u001b[0;34m]\u001b[0m\u001b[0;34m\u001b[0m\u001b[0;34m\u001b[0m\u001b[0m\n\u001b[1;32m      4\u001b[0m \u001b[0maccuracy_list\u001b[0m \u001b[0;34m=\u001b[0m \u001b[0;34m[\u001b[0m\u001b[0;34m]\u001b[0m\u001b[0;34m\u001b[0m\u001b[0;34m\u001b[0m\u001b[0m\n\u001b[0;32m----> 5\u001b[0;31m \u001b[0;32mfor\u001b[0m \u001b[0mepoch\u001b[0m \u001b[0;32min\u001b[0m \u001b[0mrange\u001b[0m\u001b[0;34m(\u001b[0m\u001b[0mnum_epochs\u001b[0m\u001b[0;34m)\u001b[0m\u001b[0;34m:\u001b[0m\u001b[0;34m\u001b[0m\u001b[0;34m\u001b[0m\u001b[0m\n\u001b[0m\u001b[1;32m      6\u001b[0m   \u001b[0;32mfor\u001b[0m \u001b[0mi\u001b[0m\u001b[0;34m,\u001b[0m \u001b[0;34m(\u001b[0m\u001b[0mimages\u001b[0m\u001b[0;34m,\u001b[0m \u001b[0mlabels\u001b[0m\u001b[0;34m)\u001b[0m \u001b[0;32min\u001b[0m \u001b[0menumerate\u001b[0m\u001b[0;34m(\u001b[0m\u001b[0mtrain_loader\u001b[0m\u001b[0;34m)\u001b[0m\u001b[0;34m:\u001b[0m\u001b[0;34m\u001b[0m\u001b[0;34m\u001b[0m\u001b[0m\n\u001b[1;32m      7\u001b[0m     \u001b[0mprint\u001b[0m\u001b[0;34m(\u001b[0m\u001b[0mtype\u001b[0m\u001b[0;34m(\u001b[0m\u001b[0mimages\u001b[0m\u001b[0;34m)\u001b[0m\u001b[0;34m)\u001b[0m\u001b[0;34m\u001b[0m\u001b[0;34m\u001b[0m\u001b[0m\n",
      "\u001b[0;31mNameError\u001b[0m: name 'num_epochs' is not defined"
     ]
    }
   ],
   "source": [
    "count = 0\n",
    "loss_list = []\n",
    "iteration_list = []\n",
    "accuracy_list = []\n",
    "for epoch in range(num_epochs):\n",
    "  for i, (images, labels) in enumerate(train_loader):\n",
    "    print(type(images))\n",
    "    train = Variable(images.view(100,3,16,16,16))\n",
    "    labels = Variable(labels)\n",
    "    # Clear gradients\n",
    "    optimizer.zero_grad()\n",
    "    # Forward propagation\n",
    "    outputs = model(train)\n",
    "    # Calculate softmax and ross entropy loss\n",
    "    loss = error(outputs, labels)\n",
    "    # Calculating gradients\n",
    "    loss.backward()\n",
    "    # Update parameters\n",
    "    optimizer.step()\n",
    "\n",
    "    count += 1\n",
    "    if count % 50 == 0:\n",
    "      # Calculate Accuracy         \n",
    "      correct = 0\n",
    "      total = 0\n",
    "      # Iterate through test dataset\n",
    "      for images, labels in test_loader:\n",
    "        test = Variable(images.view(100,3,16,16,16))\n",
    "        # Forward propagation\n",
    "        outputs = model(test)\n",
    "        # Get predictions from the maximum value\n",
    "        predicted = torch.max(outputs.data, 1)[1]\n",
    "        # Total number of labels\n",
    "        total += len(labels)\n",
    "        correct += (predicted == labels).sum()\n",
    "\n",
    "      accuracy = 100 * correct / float(total)\n",
    "\n",
    "      # store loss and iteration\n",
    "      loss_list.append(loss.data)\n",
    "      iteration_list.append(count)\n",
    "      accuracy_list.append(accuracy)\n",
    "    if count % 500 == 0:\n",
    "      # Print Loss\n",
    "      print('Iteration: {}  Loss: {}  Accuracy: {} %'.format(count, loss.data, accuracy))"
   ]
  },
  {
   "cell_type": "code",
   "execution_count": null,
   "id": "d25b082a",
   "metadata": {},
   "outputs": [],
   "source": []
  },
  {
   "cell_type": "code",
   "execution_count": null,
   "id": "17237ef9",
   "metadata": {},
   "outputs": [],
   "source": []
  },
  {
   "cell_type": "code",
   "execution_count": null,
   "id": "e9e530af",
   "metadata": {},
   "outputs": [],
   "source": []
  },
  {
   "cell_type": "code",
   "execution_count": null,
   "id": "aa8d47b3",
   "metadata": {},
   "outputs": [],
   "source": []
  },
  {
   "cell_type": "code",
   "execution_count": null,
   "id": "009ff8f9",
   "metadata": {},
   "outputs": [],
   "source": []
  },
  {
   "cell_type": "code",
   "execution_count": null,
   "id": "d0d20f70",
   "metadata": {},
   "outputs": [],
   "source": []
  },
  {
   "cell_type": "code",
   "execution_count": null,
   "id": "43070139",
   "metadata": {},
   "outputs": [],
   "source": []
  }
 ],
 "metadata": {
  "kernelspec": {
   "display_name": "Python 3 (ipykernel)",
   "language": "python",
   "name": "python3"
  },
  "language_info": {
   "codemirror_mode": {
    "name": "ipython",
    "version": 3
   },
   "file_extension": ".py",
   "mimetype": "text/x-python",
   "name": "python",
   "nbconvert_exporter": "python",
   "pygments_lexer": "ipython3",
   "version": "3.8.10"
  }
 },
 "nbformat": 4,
 "nbformat_minor": 5
}
