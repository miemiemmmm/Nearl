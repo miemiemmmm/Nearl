{
 "cells": [
  {
   "cell_type": "code",
   "execution_count": 2,
   "id": "ff21e13a",
   "metadata": {},
   "outputs": [],
   "source": [
    "import torch \n",
    "import torch.utils.data as Data\n",
    "\n"
   ]
  },
  {
   "cell_type": "code",
   "execution_count": 36,
   "id": "c37271a5",
   "metadata": {},
   "outputs": [
    {
     "name": "stdout",
     "output_type": "stream",
     "text": [
      "tensor([ 1.,  2.,  3.,  4.,  5.,  6.,  7.,  8.,  9., 10.]) tensor([10.,  9.,  8.,  7.,  6.,  5.,  4.,  3.,  2.,  1.])\n",
      "<torch.utils.data.dataset.TensorDataset object at 0x7f9020a1afa0>\n",
      "<enumerate object at 0x7f90220cfec0>\n",
      "1\n",
      "Epoch:  0 | Step:  0  | batch x:  [6. 1. 4. 8. 7. 2.]  | batch y: [ 5. 10.  7.  3.  4.  9.]\n",
      "2\n",
      "Epoch:  0 | Step:  1  | batch x:  [ 9.  3. 10.  5.]  | batch y: [2. 8. 1. 6.]\n",
      "1\n",
      "Epoch:  1 | Step:  0  | batch x:  [ 9.  6. 10.  2.  4.  8.]  | batch y: [2. 5. 1. 9. 7. 3.]\n",
      "2\n",
      "Epoch:  1 | Step:  1  | batch x:  [5. 3. 1. 7.]  | batch y: [ 6.  8. 10.  4.]\n",
      "1\n",
      "Epoch:  2 | Step:  0  | batch x:  [7. 8. 2. 1. 4. 3.]  | batch y: [ 4.  3.  9. 10.  7.  8.]\n",
      "2\n",
      "Epoch:  2 | Step:  1  | batch x:  [ 5.  9.  6. 10.]  | batch y: [6. 2. 5. 1.]\n"
     ]
    }
   ],
   "source": [
    "BATCH_SIZE = 6\n",
    "\n",
    "x=torch.linspace(1,10,10)\n",
    "y=torch.linspace(10,1,10)\n",
    "print(x, y)\n",
    "\n",
    "dataset=Data.TensorDataset(x, y)\n",
    "loader = Data.DataLoader(dataset, batch_size=BATCH_SIZE, shuffle=True)\n",
    "# , num_workers=2\n",
    "print(dataset)\n",
    "print(enumerate(loader))\n",
    "\n",
    "for epoch in range(3):\n",
    "    count=0\n",
    "    for step, (batch_x, batch_y) in enumerate(loader):\n",
    "        count+=1\n",
    "        print(count)\n",
    "        print(\"Epoch: \", epoch, \"| Step: \", step, \" | batch x: \", batch_x.numpy(), \" | batch y:\",batch_y.numpy())"
   ]
  },
  {
   "cell_type": "code",
   "execution_count": 53,
   "id": "974b3d66",
   "metadata": {},
   "outputs": [
    {
     "name": "stdout",
     "output_type": "stream",
     "text": [
      "<torch.utils.data.dataset.TensorDataset object at 0x7f90220112e0>\n"
     ]
    }
   ],
   "source": [
    "import torch.utils.data as Data\n",
    "import torch.nn.functional as F\n",
    "from torch.autograd import Variable\n",
    "import matplotlib.pyplot as plt \n",
    "\n",
    "x=torch.unsqueeze(torch.linspace(-1,1,1000), dim=1)\n",
    "y=x.pow(2)+0.1*torch.normal(torch.zeros(*x.size()))\n",
    "\n",
    "LR=0.01\n",
    "BATCH_SIZE=32\n",
    "EPOCH=12\n",
    "# plt.scatter(x,y)\n",
    "# plt.show()\n",
    "# optimizer = torch.optim.SGD()\n",
    "torch_dataset=Data.TensorDataset(x,y)\n",
    "print(torch_dataset)\n",
    "loader=Data.DataLoader(torch_dataset, batch_size=BATCH_SIZE, shuffle=True)\n",
    "\n",
    "class Net(torch.nn.Module):\n",
    "    def __init__(self):\n",
    "        super(Net, self).__init__()\n",
    "        self.hidden = torch.nn.Linear(1,20)\n",
    "        self.predict = torch.nn.Linear(20,1)\n",
    "    def forward(self, x):\n",
    "        x=F.relu(self.hidden(x))   # input to the first hidden layer and bent the curve \n",
    "        x=self.predict(x)          # input the output from first layer to the second layer. \n",
    "        return x\n",
    "# RMSprop, Momentum, Adam all better than SGD"
   ]
  },
  {
   "cell_type": "code",
   "execution_count": 70,
   "id": "8893dd44",
   "metadata": {},
   "outputs": [
    {
     "name": "stdout",
     "output_type": "stream",
     "text": [
      "0\n",
      "1\n",
      "2\n",
      "3\n",
      "4\n",
      "5\n",
      "6\n",
      "7\n",
      "8\n",
      "9\n",
      "10\n",
      "11\n"
     ]
    },
    {
     "data": {
      "image/png": "[encoded data removed]",
      "text/plain": [
       "<Figure size 432x288 with 1 Axes>"
      ]
     },
     "metadata": {
      "needs_background": "light"
     },
     "output_type": "display_data"
    }
   ],
   "source": [
    "net_SGD = Net()\n",
    "net_Momentum = Net()\n",
    "net_RMSprop = Net()\n",
    "net_Adam = Net()\n",
    "nets=[net_SGD ,net_Momentum , net_RMSprop, net_Adam]\n",
    "\n",
    "opt_SGD = torch.optim.SGD(net_SGD.parameters(), lr=LR)\n",
    "opt_Momentum = torch.optim.SGD(net_Momentum.parameters(), lr=LR, momentum=0.8)\n",
    "opt_RMSprop = torch.optim.RMSprop(net_RMSprop.parameters(), lr=LR, alpha=0.9)\n",
    "opt_Adam = torch.optim.Adam(net_Adam.parameters(), lr=LR, betas=(0.9, 0.99))\n",
    "optimizers=[opt_SGD, opt_Momentum, opt_RMSprop, opt_Adam]\n",
    "\n",
    "loss_func=torch.nn.MSELoss()\n",
    "Losses=[[],[],[],[]]\n",
    "\n",
    "for epoch in range(EPOCH):\n",
    "    print(epoch)\n",
    "    for step, (batch_x, batch_y) in enumerate(loader):\n",
    "        for net, opt, l_his in zip(nets, optimizers, Losses):\n",
    "            output = net(batch_x)\n",
    "            loss=loss_func(output, batch_y)\n",
    "#             print(loss)\n",
    "            opt.zero_grad(); # clear gradient\n",
    "            loss.backward()\n",
    "            opt.step()\n",
    "            l_his.append(loss.item())\n",
    "for i, l_his in enumerate(Losses):\n",
    "    plt.plot(l_his)\n",
    "plt.show()"
   ]
  },
  {
   "cell_type": "code",
   "execution_count": null,
   "id": "d1cd1247",
   "metadata": {},
   "outputs": [],
   "source": []
  },
  {
   "cell_type": "code",
   "execution_count": null,
   "id": "9f43c1f7",
   "metadata": {},
   "outputs": [],
   "source": []
  },
  {
   "cell_type": "code",
   "execution_count": null,
   "id": "111e9963",
   "metadata": {},
   "outputs": [],
   "source": []
  },
  {
   "cell_type": "code",
   "execution_count": null,
   "id": "8da25012",
   "metadata": {},
   "outputs": [],
   "source": []
  },
  {
   "cell_type": "code",
   "execution_count": null,
   "id": "adfc8fcd",
   "metadata": {},
   "outputs": [],
   "source": []
  },
  {
   "cell_type": "code",
   "execution_count": null,
   "id": "e9838cf3",
   "metadata": {},
   "outputs": [],
   "source": []
  },
  {
   "cell_type": "code",
   "execution_count": null,
   "id": "3d48ef76",
   "metadata": {},
   "outputs": [],
   "source": []
  }
 ],
 "metadata": {
  "kernelspec": {
   "display_name": "Python 3",
   "language": "python",
   "name": "python3"
  },
  "language_info": {
   "codemirror_mode": {
    "name": "ipython",
    "version": 3
   },
   "file_extension": ".py",
   "mimetype": "text/x-python",
   "name": "python",
   "nbconvert_exporter": "python",
   "pygments_lexer": "ipython3",
   "version": "3.8.8"
  }
 },
 "nbformat": 4,
 "nbformat_minor": 5
}
