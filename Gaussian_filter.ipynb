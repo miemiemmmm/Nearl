{
 "cells": [
  {
   "cell_type": "code",
   "execution_count": 44,
   "id": "0149767a",
   "metadata": {},
   "outputs": [
    {
     "name": "stdout",
     "output_type": "stream",
     "text": [
      "Using matplotlib backend: Qt5Agg\n",
      "16.0\n"
     ]
    }
   ],
   "source": [
    "import numpy as np \n",
    "import scipy \n",
    "from scipy.ndimage import gaussian_filter\n",
    "import matplotlib.pyplot as plt \n",
    "%matplotlib\n",
    "\n",
    "\n",
    "a = np.zeros(100).reshape((10,10))\n",
    "\n",
    "\n",
    "a[(5,5)] = 10\n",
    "a[(1,1)] = 3\n",
    "a[(3,6)] = 3\n",
    "\n",
    "im1 = plt.imshow(a)\n",
    "b = gaussian_filter(a, sigma=1)\n",
    "im2 = plt.imshow(b)\n",
    "\n",
    "cax = plt.axes([0.85, 0.1, 0.075, 0.8])\n",
    "plt.colorbar(cax=cax)\n",
    "\n",
    "print(np.sum(b))"
   ]
  },
  {
   "cell_type": "code",
   "execution_count": 25,
   "id": "775074b5",
   "metadata": {},
   "outputs": [
    {
     "name": "stdout",
     "output_type": "stream",
     "text": [
      "Using matplotlib backend: Qt5Agg\n"
     ]
    },
    {
     "ename": "NameError",
     "evalue": "name 'pickle' is not defined",
     "output_type": "error",
     "traceback": [
      "\u001b[0;31m---------------------------------------------------------------------------\u001b[0m",
      "\u001b[0;31mNameError\u001b[0m                                 Traceback (most recent call last)",
      "\u001b[0;32m/tmp/ipykernel_892433/569932637.py\u001b[0m in \u001b[0;36m<module>\u001b[0;34m\u001b[0m\n\u001b[1;32m      9\u001b[0m \u001b[0;34m\u001b[0m\u001b[0m\n\u001b[1;32m     10\u001b[0m \u001b[0;32mwith\u001b[0m \u001b[0mopen\u001b[0m\u001b[0;34m(\u001b[0m\u001b[0;34m\"./test.pickle\"\u001b[0m\u001b[0;34m,\u001b[0m \u001b[0;34m\"rb\"\u001b[0m\u001b[0;34m)\u001b[0m \u001b[0;32mas\u001b[0m \u001b[0mfile1\u001b[0m\u001b[0;34m:\u001b[0m\u001b[0;34m\u001b[0m\u001b[0;34m\u001b[0m\u001b[0m\n\u001b[0;32m---> 11\u001b[0;31m     \u001b[0mtestdic\u001b[0m \u001b[0;34m=\u001b[0m \u001b[0mpickle\u001b[0m\u001b[0;34m.\u001b[0m\u001b[0mload\u001b[0m\u001b[0;34m(\u001b[0m\u001b[0mfile1\u001b[0m\u001b[0;34m)\u001b[0m\u001b[0;34m\u001b[0m\u001b[0;34m\u001b[0m\u001b[0m\n\u001b[0m\u001b[1;32m     12\u001b[0m     \u001b[0mprint\u001b[0m\u001b[0;34m(\u001b[0m\u001b[0mtestdic\u001b[0m\u001b[0;34m)\u001b[0m\u001b[0;34m\u001b[0m\u001b[0;34m\u001b[0m\u001b[0m\n\u001b[1;32m     13\u001b[0m \u001b[0;34m\u001b[0m\u001b[0m\n",
      "\u001b[0;31mNameError\u001b[0m: name 'pickle' is not defined"
     ]
    }
   ],
   "source": [
    "import numpy as np \n",
    "import scipy \n",
    "from scipy.ndimage import gaussian_filter\n",
    "import matplotlib.pyplot as plt \n",
    "\n",
    "from matplotlib import cm\n",
    "\n",
    "%matplotlib\n",
    "\n",
    "with open(\"./test.pickle\", \"rb\") as file1:\n",
    "    testdic = pickle.load(file1)\n",
    "    print(testdic)\n",
    "\n",
    "fig = plt.figure()\n",
    "ax = fig.add_subplot(projection='3d')\n",
    "\n",
    "a = np.arange(30).reshape((10,3))\n",
    "print(a.shape)\n",
    "print(len(a))\n",
    "print(a)\n",
    "\n",
    "colors= np.arange(0,1,0.1)\n",
    "thecmap = cm.get_cmap(\"GnBu\")\n",
    "print(thecmap(0.1))\n",
    "plt.ion()\n",
    "\n",
    "for [i, c] in zip(a, colors):\n",
    "    print(f\"i is {i}, c is {c}\")\n",
    "    tmpc = thecmap(c)\n",
    "    print(tmpc)\n",
    "    \n",
    "#     ax.scatter(*i, color=tmpc)\n"
   ]
  },
  {
   "cell_type": "code",
   "execution_count": 10,
   "id": "ecb64e7a",
   "metadata": {},
   "outputs": [
    {
     "name": "stdout",
     "output_type": "stream",
     "text": [
      "[[ 0  1  2]\n",
      " [ 3  4  5]\n",
      " [ 6  7  8]\n",
      " [ 9 10 11]\n",
      " [12 13 14]\n",
      " [15 16 17]\n",
      " [18 19 20]\n",
      " [21 22 23]\n",
      " [24 25 26]\n",
      " [27 28 29]]\n",
      "[0 1 2] 0\n"
     ]
    }
   ],
   "source": [
    "import numpy as np \n",
    "a = np.arange(30).reshape((10,3))\n",
    "print(a)\n",
    "for [i, j] in zip(a, range(0,1,1)):\n",
    "    print(i,j)\n",
    "    ax.scatter(*i, color=thecmap(j))"
   ]
  },
  {
   "cell_type": "code",
   "execution_count": 14,
   "id": "7f45a79b",
   "metadata": {},
   "outputs": [
    {
     "data": {
      "text/plain": [
       "[0.0,\n",
       " 0.1,\n",
       " 0.2,\n",
       " 0.30000000000000004,\n",
       " 0.4,\n",
       " 0.5,\n",
       " 0.6000000000000001,\n",
       " 0.7000000000000001,\n",
       " 0.8,\n",
       " 0.9]"
      ]
     },
     "execution_count": 14,
     "metadata": {},
     "output_type": "execute_result"
    }
   ],
   "source": [
    "[i for i in np.arange(0,1, 0.1)]"
   ]
  },
  {
   "cell_type": "code",
   "execution_count": 21,
   "id": "a654d17c",
   "metadata": {},
   "outputs": [
    {
     "ename": "ValueError",
     "evalue": "too many values to unpack (expected 2)",
     "output_type": "error",
     "traceback": [
      "\u001b[0;31m---------------------------------------------------------------------------\u001b[0m",
      "\u001b[0;31mValueError\u001b[0m                                Traceback (most recent call last)",
      "\u001b[0;32m/tmp/ipykernel_892433/4024553591.py\u001b[0m in \u001b[0;36m<module>\u001b[0;34m\u001b[0m\n\u001b[1;32m      1\u001b[0m \u001b[0mx\u001b[0m\u001b[0;34m=\u001b[0m\u001b[0;34m{\u001b[0m\u001b[0;34m\"Protein\"\u001b[0m\u001b[0;34m:\u001b[0m\u001b[0;34m\":1-221\"\u001b[0m\u001b[0;34m,\u001b[0m \u001b[0;34m\"Ligand\"\u001b[0m\u001b[0;34m:\u001b[0m\u001b[0;34m\":LIG\"\u001b[0m\u001b[0;34m,\u001b[0m \u001b[0;34m\"Solvent\"\u001b[0m\u001b[0;34m:\u001b[0m\u001b[0;34m\":T3P,CL-,K+\"\u001b[0m\u001b[0;34m}\u001b[0m\u001b[0;34m\u001b[0m\u001b[0;34m\u001b[0m\u001b[0m\n\u001b[0;32m----> 2\u001b[0;31m \u001b[0;32mfor\u001b[0m \u001b[0;34m(\u001b[0m\u001b[0mi\u001b[0m\u001b[0;34m,\u001b[0m \u001b[0mj\u001b[0m\u001b[0;34m)\u001b[0m \u001b[0;32min\u001b[0m \u001b[0mx\u001b[0m\u001b[0;34m:\u001b[0m\u001b[0;34m\u001b[0m\u001b[0;34m\u001b[0m\u001b[0m\n\u001b[0m\u001b[1;32m      3\u001b[0m     \u001b[0mprint\u001b[0m\u001b[0;34m(\u001b[0m\u001b[0mi\u001b[0m\u001b[0;34m,\u001b[0m\u001b[0mj\u001b[0m\u001b[0;34m)\u001b[0m\u001b[0;34m\u001b[0m\u001b[0;34m\u001b[0m\u001b[0m\n\u001b[1;32m      4\u001b[0m \u001b[0;34m\u001b[0m\u001b[0m\n",
      "\u001b[0;31mValueError\u001b[0m: too many values to unpack (expected 2)"
     ]
    }
   ],
   "source": [
    "x={\"Protein\":\":1-221\", \"Ligand\":\":LIG\", \"Solvent\":\":T3P,CL-,K+\"}\n",
    "for (i, j) in x:\n",
    "    print(i,j)\n",
    "    "
   ]
  },
  {
   "cell_type": "code",
   "execution_count": null,
   "id": "3feefac1",
   "metadata": {},
   "outputs": [],
   "source": []
  }
 ],
 "metadata": {
  "kernelspec": {
   "display_name": "Python 3 (ipykernel)",
   "language": "python",
   "name": "python3"
  },
  "language_info": {
   "codemirror_mode": {
    "name": "ipython",
    "version": 3
   },
   "file_extension": ".py",
   "mimetype": "text/x-python",
   "name": "python",
   "nbconvert_exporter": "python",
   "pygments_lexer": "ipython3",
   "version": "3.8.16"
  }
 },
 "nbformat": 4,
 "nbformat_minor": 5
}
